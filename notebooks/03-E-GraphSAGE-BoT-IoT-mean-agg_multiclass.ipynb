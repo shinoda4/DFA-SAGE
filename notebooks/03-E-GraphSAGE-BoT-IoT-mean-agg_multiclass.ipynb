{
 "cells": [
  {
   "cell_type": "code",
   "execution_count": null,
   "metadata": {},
   "outputs": [],
   "source": [
    "%pip install scikit-learn seaborn dgl -f https://data.dgl.ai/wheels/torch-2.4/cu124/repo.html"
   ]
  },
  {
   "cell_type": "code",
   "execution_count": 1,
   "metadata": {},
   "outputs": [],
   "source": [
    "import dgl.nn as dglnn\n",
    "from dgl import from_networkx\n",
    "import torch.nn as nn\n",
    "import torch as th\n",
    "import torch.nn.functional as F\n",
    "import dgl.function as fn\n",
    "from dgl.data.utils import load_graphs\n",
    "import networkx as nx\n",
    "import pandas as pd\n",
    "import socket\n",
    "import struct\n",
    "import random\n",
    "from sklearn.preprocessing import LabelEncoder\n",
    "from sklearn.model_selection import train_test_split\n",
    "from sklearn.preprocessing import StandardScaler, MinMaxScaler\n",
    "import seaborn as sns\n",
    "import matplotlib.pyplot as plt\n",
    "import numpy as np"
   ]
  },
  {
   "cell_type": "code",
   "execution_count": 2,
   "metadata": {},
   "outputs": [
    {
     "name": "stdout",
     "output_type": "stream",
     "text": [
      "总样本数: 2934817\n",
      "字段: ['pkSeqID', 'proto', 'saddr', 'sport', 'daddr', 'dport', 'seq', 'stddev', 'N_IN_Conn_P_SrcIP', 'min', 'state_number', 'mean', 'N_IN_Conn_P_DstIP', 'drate', 'srate', 'max', 'attack', 'category', 'subcategory']\n",
      "category\n",
      "DDoS              1541315\n",
      "DoS               1320148\n",
      "Reconnaissance      72919\n",
      "Normal                370\n",
      "Theft                  65\n",
      "Name: count, dtype: int64\n"
     ]
    }
   ],
   "source": [
    "# data = pd.read_csv('./bot.csv')\n",
    "import pandas as pd\n",
    "from glob import glob\n",
    "\n",
    "# 读取所有 Full5pc 的 CSV（例如 Full5pc_1, Full5pc_2, ...）\n",
    "files = glob(\"./bot/UNSW_2018_IoT_Botnet_Final_10_best_Training.csv\")\n",
    "dfs = [pd.read_csv(f) for f in files]\n",
    "data = pd.concat(dfs, ignore_index=True)\n",
    "\n",
    "print(\"总样本数:\", len(data))\n",
    "print(\"字段:\", data.columns.tolist())\n",
    "print(data['category'].value_counts())  # 看攻击类别分布"
   ]
  },
  {
   "cell_type": "code",
   "execution_count": 3,
   "metadata": {},
   "outputs": [
    {
     "name": "stdout",
     "output_type": "stream",
     "text": [
      "字段: ['pkSeqID', 'proto', 'saddr', 'sport', 'daddr', 'dport', 'seq', 'stddev', 'N_IN_Conn_P_SrcIP', 'min', 'state_number', 'mean', 'N_IN_Conn_P_DstIP', 'drate', 'srate', 'max', 'attack', 'category', 'subcategory']\n",
      "Shape:  (19,)\n"
     ]
    }
   ],
   "source": [
    "print(\"字段:\", data.columns.tolist())\n",
    "print(\"Shape: \", data.columns.shape)"
   ]
  },
  {
   "cell_type": "code",
   "execution_count": 4,
   "metadata": {},
   "outputs": [],
   "source": [
    "# data.drop(columns=['sport', 'dport'], inplace=True)"
   ]
  },
  {
   "cell_type": "code",
   "execution_count": 5,
   "metadata": {},
   "outputs": [
    {
     "data": {
      "text/plain": [
       "category\n",
       "DDoS              1541315\n",
       "DoS               1320148\n",
       "Reconnaissance      72919\n",
       "Normal                370\n",
       "Theft                  65\n",
       "Name: count, dtype: int64"
      ]
     },
     "execution_count": 5,
     "metadata": {},
     "output_type": "execute_result"
    }
   ],
   "source": [
    "data.category.value_counts()"
   ]
  },
  {
   "cell_type": "code",
   "execution_count": 6,
   "metadata": {},
   "outputs": [],
   "source": [
    "le = LabelEncoder()\n",
    "le.fit_transform(data.category.values)\n",
    "data['category'] = le.transform(data['category'])"
   ]
  },
  {
   "cell_type": "code",
   "execution_count": 7,
   "metadata": {},
   "outputs": [
    {
     "data": {
      "text/plain": [
       "category\n",
       "0    1541315\n",
       "1    1320148\n",
       "3      72919\n",
       "2        370\n",
       "4         65\n",
       "Name: count, dtype: int64"
      ]
     },
     "execution_count": 7,
     "metadata": {},
     "output_type": "execute_result"
    }
   ],
   "source": [
    "data['category'].value_counts()"
   ]
  },
  {
   "cell_type": "code",
   "execution_count": 8,
   "metadata": {},
   "outputs": [],
   "source": [
    "le.fit_transform(data.proto.values)\n",
    "data['proto'] = le.transform(data['proto'])"
   ]
  },
  {
   "cell_type": "code",
   "execution_count": 9,
   "metadata": {},
   "outputs": [
    {
     "data": {
      "text/plain": [
       "proto\n",
       "4    1596819\n",
       "3    1330598\n",
       "1       7228\n",
       "0        166\n",
       "2          6\n",
       "Name: count, dtype: int64"
      ]
     },
     "execution_count": 9,
     "metadata": {},
     "output_type": "execute_result"
    }
   ],
   "source": [
    "data['proto'].value_counts()"
   ]
  },
  {
   "cell_type": "code",
   "execution_count": 10,
   "metadata": {},
   "outputs": [],
   "source": [
    "data['saddr'] = data.saddr.apply(str)\n",
    "data['daddr'] = data.daddr.apply(str)"
   ]
  },
  {
   "cell_type": "code",
   "execution_count": 11,
   "metadata": {},
   "outputs": [],
   "source": [
    "data['saddr'] = data.saddr.apply(lambda x: socket.inet_ntoa(struct.pack('>I', random.randint(0xac100001, 0xac1f0001))))"
   ]
  },
  {
   "cell_type": "code",
   "execution_count": 12,
   "metadata": {},
   "outputs": [],
   "source": [
    "data = data.reset_index()\n",
    "data.replace([np.inf, -np.inf], np.nan,inplace = True)"
   ]
  },
  {
   "cell_type": "code",
   "execution_count": 13,
   "metadata": {},
   "outputs": [],
   "source": [
    "data.fillna(0,inplace = True)"
   ]
  },
  {
   "cell_type": "code",
   "execution_count": 14,
   "metadata": {},
   "outputs": [],
   "source": [
    "# label_ground_truth = data[[\"saddr\", \"daddr\",\"label\"]]"
   ]
  },
  {
   "cell_type": "code",
   "execution_count": 15,
   "metadata": {},
   "outputs": [],
   "source": [
    "data.drop(columns=['index'],inplace=True)"
   ]
  },
  {
   "cell_type": "code",
   "execution_count": 16,
   "metadata": {},
   "outputs": [
    {
     "name": "stdout",
     "output_type": "stream",
     "text": [
      "字段: ['pkSeqID', 'proto', 'saddr', 'sport', 'daddr', 'dport', 'seq', 'stddev', 'N_IN_Conn_P_SrcIP', 'min', 'state_number', 'mean', 'N_IN_Conn_P_DstIP', 'drate', 'srate', 'max', 'attack', 'category', 'subcategory']\n",
      "Shape:  (19,)\n"
     ]
    }
   ],
   "source": [
    "print(\"字段:\", data.columns.tolist())\n",
    "print(\"Shape: \", data.columns.shape)"
   ]
  },
  {
   "cell_type": "code",
   "execution_count": 17,
   "metadata": {},
   "outputs": [
    {
     "data": {
      "text/html": [
       "<div>\n",
       "<style scoped>\n",
       "    .dataframe tbody tr th:only-of-type {\n",
       "        vertical-align: middle;\n",
       "    }\n",
       "\n",
       "    .dataframe tbody tr th {\n",
       "        vertical-align: top;\n",
       "    }\n",
       "\n",
       "    .dataframe thead th {\n",
       "        text-align: right;\n",
       "    }\n",
       "</style>\n",
       "<table border=\"1\" class=\"dataframe\">\n",
       "  <thead>\n",
       "    <tr style=\"text-align: right;\">\n",
       "      <th></th>\n",
       "      <th>pkSeqID</th>\n",
       "      <th>proto</th>\n",
       "      <th>saddr</th>\n",
       "      <th>sport</th>\n",
       "      <th>daddr</th>\n",
       "      <th>dport</th>\n",
       "      <th>seq</th>\n",
       "      <th>stddev</th>\n",
       "      <th>N_IN_Conn_P_SrcIP</th>\n",
       "      <th>min</th>\n",
       "      <th>state_number</th>\n",
       "      <th>mean</th>\n",
       "      <th>N_IN_Conn_P_DstIP</th>\n",
       "      <th>drate</th>\n",
       "      <th>srate</th>\n",
       "      <th>max</th>\n",
       "      <th>attack</th>\n",
       "      <th>category</th>\n",
       "      <th>subcategory</th>\n",
       "    </tr>\n",
       "  </thead>\n",
       "  <tbody>\n",
       "    <tr>\n",
       "      <th>0</th>\n",
       "      <td>3142762</td>\n",
       "      <td>4</td>\n",
       "      <td>172.26.166.60</td>\n",
       "      <td>6551</td>\n",
       "      <td>192.168.100.3</td>\n",
       "      <td>80</td>\n",
       "      <td>251984</td>\n",
       "      <td>1.900363</td>\n",
       "      <td>100</td>\n",
       "      <td>0.000000</td>\n",
       "      <td>4</td>\n",
       "      <td>2.687519</td>\n",
       "      <td>100</td>\n",
       "      <td>0.000000</td>\n",
       "      <td>0.494549</td>\n",
       "      <td>4.031619</td>\n",
       "      <td>1</td>\n",
       "      <td>0</td>\n",
       "      <td>UDP</td>\n",
       "    </tr>\n",
       "    <tr>\n",
       "      <th>1</th>\n",
       "      <td>2432264</td>\n",
       "      <td>3</td>\n",
       "      <td>172.23.162.154</td>\n",
       "      <td>5532</td>\n",
       "      <td>192.168.100.3</td>\n",
       "      <td>80</td>\n",
       "      <td>256724</td>\n",
       "      <td>0.078003</td>\n",
       "      <td>38</td>\n",
       "      <td>3.856930</td>\n",
       "      <td>3</td>\n",
       "      <td>3.934927</td>\n",
       "      <td>100</td>\n",
       "      <td>0.000000</td>\n",
       "      <td>0.256493</td>\n",
       "      <td>4.012924</td>\n",
       "      <td>1</td>\n",
       "      <td>0</td>\n",
       "      <td>TCP</td>\n",
       "    </tr>\n",
       "    <tr>\n",
       "      <th>2</th>\n",
       "      <td>1976315</td>\n",
       "      <td>3</td>\n",
       "      <td>172.26.89.198</td>\n",
       "      <td>27165</td>\n",
       "      <td>192.168.100.3</td>\n",
       "      <td>80</td>\n",
       "      <td>62921</td>\n",
       "      <td>0.268666</td>\n",
       "      <td>100</td>\n",
       "      <td>2.974100</td>\n",
       "      <td>3</td>\n",
       "      <td>3.341429</td>\n",
       "      <td>100</td>\n",
       "      <td>0.000000</td>\n",
       "      <td>0.294880</td>\n",
       "      <td>3.609205</td>\n",
       "      <td>1</td>\n",
       "      <td>0</td>\n",
       "      <td>TCP</td>\n",
       "    </tr>\n",
       "    <tr>\n",
       "      <th>3</th>\n",
       "      <td>1240757</td>\n",
       "      <td>4</td>\n",
       "      <td>172.21.11.230</td>\n",
       "      <td>48719</td>\n",
       "      <td>192.168.100.3</td>\n",
       "      <td>80</td>\n",
       "      <td>99168</td>\n",
       "      <td>1.823185</td>\n",
       "      <td>63</td>\n",
       "      <td>0.000000</td>\n",
       "      <td>4</td>\n",
       "      <td>3.222832</td>\n",
       "      <td>63</td>\n",
       "      <td>0.000000</td>\n",
       "      <td>0.461435</td>\n",
       "      <td>4.942302</td>\n",
       "      <td>1</td>\n",
       "      <td>1</td>\n",
       "      <td>UDP</td>\n",
       "    </tr>\n",
       "    <tr>\n",
       "      <th>4</th>\n",
       "      <td>3257991</td>\n",
       "      <td>4</td>\n",
       "      <td>172.16.164.99</td>\n",
       "      <td>22461</td>\n",
       "      <td>192.168.100.3</td>\n",
       "      <td>80</td>\n",
       "      <td>105063</td>\n",
       "      <td>0.822418</td>\n",
       "      <td>100</td>\n",
       "      <td>2.979995</td>\n",
       "      <td>4</td>\n",
       "      <td>3.983222</td>\n",
       "      <td>100</td>\n",
       "      <td>0.000000</td>\n",
       "      <td>1.002999</td>\n",
       "      <td>4.994452</td>\n",
       "      <td>1</td>\n",
       "      <td>0</td>\n",
       "      <td>UDP</td>\n",
       "    </tr>\n",
       "    <tr>\n",
       "      <th>...</th>\n",
       "      <td>...</td>\n",
       "      <td>...</td>\n",
       "      <td>...</td>\n",
       "      <td>...</td>\n",
       "      <td>...</td>\n",
       "      <td>...</td>\n",
       "      <td>...</td>\n",
       "      <td>...</td>\n",
       "      <td>...</td>\n",
       "      <td>...</td>\n",
       "      <td>...</td>\n",
       "      <td>...</td>\n",
       "      <td>...</td>\n",
       "      <td>...</td>\n",
       "      <td>...</td>\n",
       "      <td>...</td>\n",
       "      <td>...</td>\n",
       "      <td>...</td>\n",
       "      <td>...</td>\n",
       "    </tr>\n",
       "    <tr>\n",
       "      <th>2934812</th>\n",
       "      <td>1132803</td>\n",
       "      <td>4</td>\n",
       "      <td>172.19.250.7</td>\n",
       "      <td>56044</td>\n",
       "      <td>192.168.100.5</td>\n",
       "      <td>80</td>\n",
       "      <td>253370</td>\n",
       "      <td>0.016992</td>\n",
       "      <td>100</td>\n",
       "      <td>4.082509</td>\n",
       "      <td>4</td>\n",
       "      <td>4.102515</td>\n",
       "      <td>100</td>\n",
       "      <td>0.000000</td>\n",
       "      <td>0.243473</td>\n",
       "      <td>4.124047</td>\n",
       "      <td>1</td>\n",
       "      <td>1</td>\n",
       "      <td>UDP</td>\n",
       "    </tr>\n",
       "    <tr>\n",
       "      <th>2934813</th>\n",
       "      <td>3384621</td>\n",
       "      <td>4</td>\n",
       "      <td>172.27.159.196</td>\n",
       "      <td>21546</td>\n",
       "      <td>192.168.100.3</td>\n",
       "      <td>80</td>\n",
       "      <td>231693</td>\n",
       "      <td>1.922317</td>\n",
       "      <td>100</td>\n",
       "      <td>0.000000</td>\n",
       "      <td>4</td>\n",
       "      <td>2.718527</td>\n",
       "      <td>100</td>\n",
       "      <td>0.000000</td>\n",
       "      <td>0.490800</td>\n",
       "      <td>4.090534</td>\n",
       "      <td>1</td>\n",
       "      <td>0</td>\n",
       "      <td>UDP</td>\n",
       "    </tr>\n",
       "    <tr>\n",
       "      <th>2934814</th>\n",
       "      <td>775893</td>\n",
       "      <td>4</td>\n",
       "      <td>172.23.25.189</td>\n",
       "      <td>30897</td>\n",
       "      <td>192.168.100.5</td>\n",
       "      <td>80</td>\n",
       "      <td>158616</td>\n",
       "      <td>2.112228</td>\n",
       "      <td>100</td>\n",
       "      <td>0.000000</td>\n",
       "      <td>4</td>\n",
       "      <td>2.110766</td>\n",
       "      <td>100</td>\n",
       "      <td>0.000000</td>\n",
       "      <td>0.207444</td>\n",
       "      <td>4.332615</td>\n",
       "      <td>1</td>\n",
       "      <td>1</td>\n",
       "      <td>UDP</td>\n",
       "    </tr>\n",
       "    <tr>\n",
       "      <th>2934815</th>\n",
       "      <td>443484</td>\n",
       "      <td>3</td>\n",
       "      <td>172.16.121.232</td>\n",
       "      <td>36904</td>\n",
       "      <td>192.168.100.7</td>\n",
       "      <td>80</td>\n",
       "      <td>179855</td>\n",
       "      <td>0.000000</td>\n",
       "      <td>100</td>\n",
       "      <td>0.000000</td>\n",
       "      <td>3</td>\n",
       "      <td>0.000000</td>\n",
       "      <td>100</td>\n",
       "      <td>0.000000</td>\n",
       "      <td>0.162130</td>\n",
       "      <td>0.000000</td>\n",
       "      <td>1</td>\n",
       "      <td>1</td>\n",
       "      <td>TCP</td>\n",
       "    </tr>\n",
       "    <tr>\n",
       "      <th>2934816</th>\n",
       "      <td>96906</td>\n",
       "      <td>3</td>\n",
       "      <td>172.30.159.204</td>\n",
       "      <td>14302</td>\n",
       "      <td>192.168.100.3</td>\n",
       "      <td>80</td>\n",
       "      <td>95429</td>\n",
       "      <td>0.053820</td>\n",
       "      <td>100</td>\n",
       "      <td>0.064767</td>\n",
       "      <td>1</td>\n",
       "      <td>0.118588</td>\n",
       "      <td>100</td>\n",
       "      <td>0.038796</td>\n",
       "      <td>0.116388</td>\n",
       "      <td>0.172408</td>\n",
       "      <td>1</td>\n",
       "      <td>1</td>\n",
       "      <td>TCP</td>\n",
       "    </tr>\n",
       "  </tbody>\n",
       "</table>\n",
       "<p>2934817 rows × 19 columns</p>\n",
       "</div>"
      ],
      "text/plain": [
       "         pkSeqID  proto           saddr  sport          daddr dport     seq  \\\n",
       "0        3142762      4   172.26.166.60   6551  192.168.100.3    80  251984   \n",
       "1        2432264      3  172.23.162.154   5532  192.168.100.3    80  256724   \n",
       "2        1976315      3   172.26.89.198  27165  192.168.100.3    80   62921   \n",
       "3        1240757      4   172.21.11.230  48719  192.168.100.3    80   99168   \n",
       "4        3257991      4   172.16.164.99  22461  192.168.100.3    80  105063   \n",
       "...          ...    ...             ...    ...            ...   ...     ...   \n",
       "2934812  1132803      4    172.19.250.7  56044  192.168.100.5    80  253370   \n",
       "2934813  3384621      4  172.27.159.196  21546  192.168.100.3    80  231693   \n",
       "2934814   775893      4   172.23.25.189  30897  192.168.100.5    80  158616   \n",
       "2934815   443484      3  172.16.121.232  36904  192.168.100.7    80  179855   \n",
       "2934816    96906      3  172.30.159.204  14302  192.168.100.3    80   95429   \n",
       "\n",
       "           stddev  N_IN_Conn_P_SrcIP       min  state_number      mean  \\\n",
       "0        1.900363                100  0.000000             4  2.687519   \n",
       "1        0.078003                 38  3.856930             3  3.934927   \n",
       "2        0.268666                100  2.974100             3  3.341429   \n",
       "3        1.823185                 63  0.000000             4  3.222832   \n",
       "4        0.822418                100  2.979995             4  3.983222   \n",
       "...           ...                ...       ...           ...       ...   \n",
       "2934812  0.016992                100  4.082509             4  4.102515   \n",
       "2934813  1.922317                100  0.000000             4  2.718527   \n",
       "2934814  2.112228                100  0.000000             4  2.110766   \n",
       "2934815  0.000000                100  0.000000             3  0.000000   \n",
       "2934816  0.053820                100  0.064767             1  0.118588   \n",
       "\n",
       "         N_IN_Conn_P_DstIP     drate     srate       max  attack  category  \\\n",
       "0                      100  0.000000  0.494549  4.031619       1         0   \n",
       "1                      100  0.000000  0.256493  4.012924       1         0   \n",
       "2                      100  0.000000  0.294880  3.609205       1         0   \n",
       "3                       63  0.000000  0.461435  4.942302       1         1   \n",
       "4                      100  0.000000  1.002999  4.994452       1         0   \n",
       "...                    ...       ...       ...       ...     ...       ...   \n",
       "2934812                100  0.000000  0.243473  4.124047       1         1   \n",
       "2934813                100  0.000000  0.490800  4.090534       1         0   \n",
       "2934814                100  0.000000  0.207444  4.332615       1         1   \n",
       "2934815                100  0.000000  0.162130  0.000000       1         1   \n",
       "2934816                100  0.038796  0.116388  0.172408       1         1   \n",
       "\n",
       "        subcategory  \n",
       "0               UDP  \n",
       "1               TCP  \n",
       "2               TCP  \n",
       "3               UDP  \n",
       "4               UDP  \n",
       "...             ...  \n",
       "2934812         UDP  \n",
       "2934813         UDP  \n",
       "2934814         UDP  \n",
       "2934815         TCP  \n",
       "2934816         TCP  \n",
       "\n",
       "[2934817 rows x 19 columns]"
      ]
     },
     "execution_count": 17,
     "metadata": {},
     "output_type": "execute_result"
    }
   ],
   "source": [
    "data"
   ]
  },
  {
   "cell_type": "code",
   "execution_count": 18,
   "metadata": {},
   "outputs": [
    {
     "data": {
      "text/plain": [
       "0          0\n",
       "1          0\n",
       "2          0\n",
       "3          1\n",
       "4          0\n",
       "          ..\n",
       "2934812    1\n",
       "2934813    0\n",
       "2934814    1\n",
       "2934815    1\n",
       "2934816    1\n",
       "Name: category, Length: 2934817, dtype: int64"
      ]
     },
     "execution_count": 18,
     "metadata": {},
     "output_type": "execute_result"
    }
   ],
   "source": [
    "labels = data[\"category\"]\n",
    "labels"
   ]
  },
  {
   "cell_type": "code",
   "execution_count": 19,
   "metadata": {},
   "outputs": [
    {
     "data": {
      "text/html": [
       "<div>\n",
       "<style scoped>\n",
       "    .dataframe tbody tr th:only-of-type {\n",
       "        vertical-align: middle;\n",
       "    }\n",
       "\n",
       "    .dataframe tbody tr th {\n",
       "        vertical-align: top;\n",
       "    }\n",
       "\n",
       "    .dataframe thead th {\n",
       "        text-align: right;\n",
       "    }\n",
       "</style>\n",
       "<table border=\"1\" class=\"dataframe\">\n",
       "  <thead>\n",
       "    <tr style=\"text-align: right;\">\n",
       "      <th></th>\n",
       "      <th>pkSeqID</th>\n",
       "      <th>proto</th>\n",
       "      <th>sport</th>\n",
       "      <th>dport</th>\n",
       "      <th>seq</th>\n",
       "      <th>stddev</th>\n",
       "      <th>N_IN_Conn_P_SrcIP</th>\n",
       "      <th>min</th>\n",
       "      <th>state_number</th>\n",
       "      <th>mean</th>\n",
       "      <th>N_IN_Conn_P_DstIP</th>\n",
       "      <th>drate</th>\n",
       "      <th>srate</th>\n",
       "      <th>max</th>\n",
       "      <th>attack</th>\n",
       "    </tr>\n",
       "  </thead>\n",
       "  <tbody>\n",
       "    <tr>\n",
       "      <th>0</th>\n",
       "      <td>3142762</td>\n",
       "      <td>4</td>\n",
       "      <td>6551</td>\n",
       "      <td>80</td>\n",
       "      <td>251984</td>\n",
       "      <td>1.900363</td>\n",
       "      <td>100</td>\n",
       "      <td>0.000000</td>\n",
       "      <td>4</td>\n",
       "      <td>2.687519</td>\n",
       "      <td>100</td>\n",
       "      <td>0.000000</td>\n",
       "      <td>0.494549</td>\n",
       "      <td>4.031619</td>\n",
       "      <td>1</td>\n",
       "    </tr>\n",
       "    <tr>\n",
       "      <th>1</th>\n",
       "      <td>2432264</td>\n",
       "      <td>3</td>\n",
       "      <td>5532</td>\n",
       "      <td>80</td>\n",
       "      <td>256724</td>\n",
       "      <td>0.078003</td>\n",
       "      <td>38</td>\n",
       "      <td>3.856930</td>\n",
       "      <td>3</td>\n",
       "      <td>3.934927</td>\n",
       "      <td>100</td>\n",
       "      <td>0.000000</td>\n",
       "      <td>0.256493</td>\n",
       "      <td>4.012924</td>\n",
       "      <td>1</td>\n",
       "    </tr>\n",
       "    <tr>\n",
       "      <th>2</th>\n",
       "      <td>1976315</td>\n",
       "      <td>3</td>\n",
       "      <td>27165</td>\n",
       "      <td>80</td>\n",
       "      <td>62921</td>\n",
       "      <td>0.268666</td>\n",
       "      <td>100</td>\n",
       "      <td>2.974100</td>\n",
       "      <td>3</td>\n",
       "      <td>3.341429</td>\n",
       "      <td>100</td>\n",
       "      <td>0.000000</td>\n",
       "      <td>0.294880</td>\n",
       "      <td>3.609205</td>\n",
       "      <td>1</td>\n",
       "    </tr>\n",
       "    <tr>\n",
       "      <th>3</th>\n",
       "      <td>1240757</td>\n",
       "      <td>4</td>\n",
       "      <td>48719</td>\n",
       "      <td>80</td>\n",
       "      <td>99168</td>\n",
       "      <td>1.823185</td>\n",
       "      <td>63</td>\n",
       "      <td>0.000000</td>\n",
       "      <td>4</td>\n",
       "      <td>3.222832</td>\n",
       "      <td>63</td>\n",
       "      <td>0.000000</td>\n",
       "      <td>0.461435</td>\n",
       "      <td>4.942302</td>\n",
       "      <td>1</td>\n",
       "    </tr>\n",
       "    <tr>\n",
       "      <th>4</th>\n",
       "      <td>3257991</td>\n",
       "      <td>4</td>\n",
       "      <td>22461</td>\n",
       "      <td>80</td>\n",
       "      <td>105063</td>\n",
       "      <td>0.822418</td>\n",
       "      <td>100</td>\n",
       "      <td>2.979995</td>\n",
       "      <td>4</td>\n",
       "      <td>3.983222</td>\n",
       "      <td>100</td>\n",
       "      <td>0.000000</td>\n",
       "      <td>1.002999</td>\n",
       "      <td>4.994452</td>\n",
       "      <td>1</td>\n",
       "    </tr>\n",
       "    <tr>\n",
       "      <th>...</th>\n",
       "      <td>...</td>\n",
       "      <td>...</td>\n",
       "      <td>...</td>\n",
       "      <td>...</td>\n",
       "      <td>...</td>\n",
       "      <td>...</td>\n",
       "      <td>...</td>\n",
       "      <td>...</td>\n",
       "      <td>...</td>\n",
       "      <td>...</td>\n",
       "      <td>...</td>\n",
       "      <td>...</td>\n",
       "      <td>...</td>\n",
       "      <td>...</td>\n",
       "      <td>...</td>\n",
       "    </tr>\n",
       "    <tr>\n",
       "      <th>2934812</th>\n",
       "      <td>1132803</td>\n",
       "      <td>4</td>\n",
       "      <td>56044</td>\n",
       "      <td>80</td>\n",
       "      <td>253370</td>\n",
       "      <td>0.016992</td>\n",
       "      <td>100</td>\n",
       "      <td>4.082509</td>\n",
       "      <td>4</td>\n",
       "      <td>4.102515</td>\n",
       "      <td>100</td>\n",
       "      <td>0.000000</td>\n",
       "      <td>0.243473</td>\n",
       "      <td>4.124047</td>\n",
       "      <td>1</td>\n",
       "    </tr>\n",
       "    <tr>\n",
       "      <th>2934813</th>\n",
       "      <td>3384621</td>\n",
       "      <td>4</td>\n",
       "      <td>21546</td>\n",
       "      <td>80</td>\n",
       "      <td>231693</td>\n",
       "      <td>1.922317</td>\n",
       "      <td>100</td>\n",
       "      <td>0.000000</td>\n",
       "      <td>4</td>\n",
       "      <td>2.718527</td>\n",
       "      <td>100</td>\n",
       "      <td>0.000000</td>\n",
       "      <td>0.490800</td>\n",
       "      <td>4.090534</td>\n",
       "      <td>1</td>\n",
       "    </tr>\n",
       "    <tr>\n",
       "      <th>2934814</th>\n",
       "      <td>775893</td>\n",
       "      <td>4</td>\n",
       "      <td>30897</td>\n",
       "      <td>80</td>\n",
       "      <td>158616</td>\n",
       "      <td>2.112228</td>\n",
       "      <td>100</td>\n",
       "      <td>0.000000</td>\n",
       "      <td>4</td>\n",
       "      <td>2.110766</td>\n",
       "      <td>100</td>\n",
       "      <td>0.000000</td>\n",
       "      <td>0.207444</td>\n",
       "      <td>4.332615</td>\n",
       "      <td>1</td>\n",
       "    </tr>\n",
       "    <tr>\n",
       "      <th>2934815</th>\n",
       "      <td>443484</td>\n",
       "      <td>3</td>\n",
       "      <td>36904</td>\n",
       "      <td>80</td>\n",
       "      <td>179855</td>\n",
       "      <td>0.000000</td>\n",
       "      <td>100</td>\n",
       "      <td>0.000000</td>\n",
       "      <td>3</td>\n",
       "      <td>0.000000</td>\n",
       "      <td>100</td>\n",
       "      <td>0.000000</td>\n",
       "      <td>0.162130</td>\n",
       "      <td>0.000000</td>\n",
       "      <td>1</td>\n",
       "    </tr>\n",
       "    <tr>\n",
       "      <th>2934816</th>\n",
       "      <td>96906</td>\n",
       "      <td>3</td>\n",
       "      <td>14302</td>\n",
       "      <td>80</td>\n",
       "      <td>95429</td>\n",
       "      <td>0.053820</td>\n",
       "      <td>100</td>\n",
       "      <td>0.064767</td>\n",
       "      <td>1</td>\n",
       "      <td>0.118588</td>\n",
       "      <td>100</td>\n",
       "      <td>0.038796</td>\n",
       "      <td>0.116388</td>\n",
       "      <td>0.172408</td>\n",
       "      <td>1</td>\n",
       "    </tr>\n",
       "  </tbody>\n",
       "</table>\n",
       "<p>2934817 rows × 15 columns</p>\n",
       "</div>"
      ],
      "text/plain": [
       "         pkSeqID  proto  sport dport     seq    stddev  N_IN_Conn_P_SrcIP  \\\n",
       "0        3142762      4   6551    80  251984  1.900363                100   \n",
       "1        2432264      3   5532    80  256724  0.078003                 38   \n",
       "2        1976315      3  27165    80   62921  0.268666                100   \n",
       "3        1240757      4  48719    80   99168  1.823185                 63   \n",
       "4        3257991      4  22461    80  105063  0.822418                100   \n",
       "...          ...    ...    ...   ...     ...       ...                ...   \n",
       "2934812  1132803      4  56044    80  253370  0.016992                100   \n",
       "2934813  3384621      4  21546    80  231693  1.922317                100   \n",
       "2934814   775893      4  30897    80  158616  2.112228                100   \n",
       "2934815   443484      3  36904    80  179855  0.000000                100   \n",
       "2934816    96906      3  14302    80   95429  0.053820                100   \n",
       "\n",
       "              min  state_number      mean  N_IN_Conn_P_DstIP     drate  \\\n",
       "0        0.000000             4  2.687519                100  0.000000   \n",
       "1        3.856930             3  3.934927                100  0.000000   \n",
       "2        2.974100             3  3.341429                100  0.000000   \n",
       "3        0.000000             4  3.222832                 63  0.000000   \n",
       "4        2.979995             4  3.983222                100  0.000000   \n",
       "...           ...           ...       ...                ...       ...   \n",
       "2934812  4.082509             4  4.102515                100  0.000000   \n",
       "2934813  0.000000             4  2.718527                100  0.000000   \n",
       "2934814  0.000000             4  2.110766                100  0.000000   \n",
       "2934815  0.000000             3  0.000000                100  0.000000   \n",
       "2934816  0.064767             1  0.118588                100  0.038796   \n",
       "\n",
       "            srate       max  attack  \n",
       "0        0.494549  4.031619       1  \n",
       "1        0.256493  4.012924       1  \n",
       "2        0.294880  3.609205       1  \n",
       "3        0.461435  4.942302       1  \n",
       "4        1.002999  4.994452       1  \n",
       "...           ...       ...     ...  \n",
       "2934812  0.243473  4.124047       1  \n",
       "2934813  0.490800  4.090534       1  \n",
       "2934814  0.207444  4.332615       1  \n",
       "2934815  0.162130  0.000000       1  \n",
       "2934816  0.116388  0.172408       1  \n",
       "\n",
       "[2934817 rows x 15 columns]"
      ]
     },
     "execution_count": 19,
     "metadata": {},
     "output_type": "execute_result"
    }
   ],
   "source": [
    "\n",
    "features = data.drop(columns=[\"category\", \"subcategory\"])\n",
    "features = features.drop(['saddr', 'daddr'], axis=1)\n",
    "features"
   ]
  },
  {
   "cell_type": "code",
   "execution_count": 20,
   "metadata": {},
   "outputs": [
    {
     "name": "stdout",
     "output_type": "stream",
     "text": [
      "字段: ['pkSeqID', 'proto', 'sport', 'dport', 'seq', 'stddev', 'N_IN_Conn_P_SrcIP', 'min', 'state_number', 'mean', 'N_IN_Conn_P_DstIP', 'drate', 'srate', 'max', 'attack']\n",
      "Shape:  (15,)\n"
     ]
    }
   ],
   "source": [
    "print(\"字段:\", features.columns.tolist())\n",
    "print(\"Shape: \", features.columns.shape)"
   ]
  },
  {
   "cell_type": "code",
   "execution_count": 21,
   "metadata": {},
   "outputs": [
    {
     "data": {
      "text/plain": [
       "Index(['pkSeqID', 'proto', 'sport', 'dport', 'seq', 'stddev',\n",
       "       'N_IN_Conn_P_SrcIP', 'min', 'state_number', 'mean', 'N_IN_Conn_P_DstIP',\n",
       "       'drate', 'srate', 'max', 'attack'],\n",
       "      dtype='object')"
      ]
     },
     "execution_count": 21,
     "metadata": {},
     "output_type": "execute_result"
    }
   ],
   "source": [
    "features.columns"
   ]
  },
  {
   "cell_type": "code",
   "execution_count": 22,
   "metadata": {},
   "outputs": [],
   "source": [
    "num_features = features.select_dtypes(include=[np.number])\n",
    "features_array = num_features.values.astype(np.float32)\n",
    "\n",
    "# features_array = features.values.astype(np.float32)\n",
    "labels_array = labels.values.astype(np.int64)  # 如果标签是整数型，可以使用 np.long 类型"
   ]
  },
  {
   "cell_type": "code",
   "execution_count": 23,
   "metadata": {},
   "outputs": [
    {
     "data": {
      "text/plain": [
       "(2934817, 13)"
      ]
     },
     "execution_count": 23,
     "metadata": {},
     "output_type": "execute_result"
    }
   ],
   "source": [
    "features_array.shape"
   ]
  },
  {
   "cell_type": "code",
   "execution_count": 24,
   "metadata": {},
   "outputs": [
    {
     "data": {
      "text/plain": [
       "(2934817,)"
      ]
     },
     "execution_count": 24,
     "metadata": {},
     "output_type": "execute_result"
    }
   ],
   "source": [
    "labels_array.shape"
   ]
  },
  {
   "cell_type": "code",
   "execution_count": 25,
   "metadata": {},
   "outputs": [],
   "source": [
    "scaler = StandardScaler()\n",
    "standardized_data = scaler.fit_transform(features_array)\n",
    "min_max_scaler = MinMaxScaler()\n",
    "normalized_data = min_max_scaler.fit_transform(standardized_data)"
   ]
  },
  {
   "cell_type": "code",
   "execution_count": 26,
   "metadata": {},
   "outputs": [],
   "source": [
    "import torch\n",
    "features_tensor = torch.tensor(normalized_data, dtype=torch.float32)\n",
    "labels_tensor = torch.tensor(labels_array, dtype=torch.long)  # 如果标签是整数型，可以使用 torch.long 类型"
   ]
  },
  {
   "cell_type": "code",
   "execution_count": 27,
   "metadata": {},
   "outputs": [],
   "source": [
    "features_tensor = pd.concat([data[['saddr', 'daddr']].reset_index(drop=True), pd.DataFrame(features_tensor.numpy())], axis=1)"
   ]
  },
  {
   "cell_type": "code",
   "execution_count": 28,
   "metadata": {},
   "outputs": [],
   "source": [
    "X_train = features_tensor\n",
    "y_train = labels_tensor"
   ]
  },
  {
   "cell_type": "code",
   "execution_count": 29,
   "metadata": {},
   "outputs": [],
   "source": [
    "train_ds = len(X_train)"
   ]
  },
  {
   "cell_type": "code",
   "execution_count": 30,
   "metadata": {},
   "outputs": [],
   "source": [
    "cols_to_norm = list(set(list(X_train.iloc[:, 2:].columns)) - set(list(['label'])))\n",
    "X_train[cols_to_norm] = scaler.fit_transform(X_train[cols_to_norm])"
   ]
  },
  {
   "cell_type": "code",
   "execution_count": 31,
   "metadata": {},
   "outputs": [],
   "source": [
    "X_train['label'] = y_train\n",
    "X_train['h'] = X_train[cols_to_norm].values.tolist()"
   ]
  },
  {
   "cell_type": "code",
   "execution_count": 32,
   "metadata": {},
   "outputs": [
    {
     "data": {
      "text/html": [
       "<div>\n",
       "<style scoped>\n",
       "    .dataframe tbody tr th:only-of-type {\n",
       "        vertical-align: middle;\n",
       "    }\n",
       "\n",
       "    .dataframe tbody tr th {\n",
       "        vertical-align: top;\n",
       "    }\n",
       "\n",
       "    .dataframe thead th {\n",
       "        text-align: right;\n",
       "    }\n",
       "</style>\n",
       "<table border=\"1\" class=\"dataframe\">\n",
       "  <thead>\n",
       "    <tr style=\"text-align: right;\">\n",
       "      <th></th>\n",
       "      <th>saddr</th>\n",
       "      <th>daddr</th>\n",
       "      <th>0</th>\n",
       "      <th>1</th>\n",
       "      <th>2</th>\n",
       "      <th>3</th>\n",
       "      <th>4</th>\n",
       "      <th>5</th>\n",
       "      <th>6</th>\n",
       "      <th>7</th>\n",
       "      <th>8</th>\n",
       "      <th>9</th>\n",
       "      <th>10</th>\n",
       "      <th>11</th>\n",
       "      <th>12</th>\n",
       "      <th>label</th>\n",
       "      <th>h</th>\n",
       "    </tr>\n",
       "  </thead>\n",
       "  <tbody>\n",
       "    <tr>\n",
       "      <th>0</th>\n",
       "      <td>172.26.166.60</td>\n",
       "      <td>192.168.100.3</td>\n",
       "      <td>1.235583</td>\n",
       "      <td>0.897328</td>\n",
       "      <td>1.724395</td>\n",
       "      <td>1.261013</td>\n",
       "      <td>0.715453</td>\n",
       "      <td>-0.685658</td>\n",
       "      <td>0.729321</td>\n",
       "      <td>0.301132</td>\n",
       "      <td>0.415178</td>\n",
       "      <td>-0.007652</td>\n",
       "      <td>-0.003357</td>\n",
       "      <td>0.544007</td>\n",
       "      <td>0.011229</td>\n",
       "      <td>0</td>\n",
       "      <td>[1.2355825901031494, 0.8973283767700195, 1.724...</td>\n",
       "    </tr>\n",
       "    <tr>\n",
       "      <th>1</th>\n",
       "      <td>172.23.162.154</td>\n",
       "      <td>192.168.100.3</td>\n",
       "      <td>0.564705</td>\n",
       "      <td>-1.049143</td>\n",
       "      <td>1.786939</td>\n",
       "      <td>-1.006622</td>\n",
       "      <td>-1.826553</td>\n",
       "      <td>1.914139</td>\n",
       "      <td>-0.113064</td>\n",
       "      <td>1.123003</td>\n",
       "      <td>0.415178</td>\n",
       "      <td>-0.007652</td>\n",
       "      <td>-0.003660</td>\n",
       "      <td>0.533961</td>\n",
       "      <td>0.011229</td>\n",
       "      <td>0</td>\n",
       "      <td>[0.5647051334381104, -1.0491434335708618, 1.78...</td>\n",
       "    </tr>\n",
       "    <tr>\n",
       "      <th>2</th>\n",
       "      <td>172.26.89.198</td>\n",
       "      <td>192.168.100.3</td>\n",
       "      <td>0.134182</td>\n",
       "      <td>-1.049143</td>\n",
       "      <td>-0.770268</td>\n",
       "      <td>-0.769373</td>\n",
       "      <td>0.715453</td>\n",
       "      <td>1.319060</td>\n",
       "      <td>-0.113064</td>\n",
       "      <td>0.731969</td>\n",
       "      <td>0.415178</td>\n",
       "      <td>-0.007652</td>\n",
       "      <td>-0.003612</td>\n",
       "      <td>0.317014</td>\n",
       "      <td>0.011229</td>\n",
       "      <td>0</td>\n",
       "      <td>[0.13418172299861908, -1.0491434335708618, -0....</td>\n",
       "    </tr>\n",
       "    <tr>\n",
       "      <th>3</th>\n",
       "      <td>172.21.11.230</td>\n",
       "      <td>192.168.100.3</td>\n",
       "      <td>-0.560358</td>\n",
       "      <td>0.897328</td>\n",
       "      <td>-0.291994</td>\n",
       "      <td>1.164977</td>\n",
       "      <td>-0.801551</td>\n",
       "      <td>-0.685658</td>\n",
       "      <td>0.729321</td>\n",
       "      <td>0.653830</td>\n",
       "      <td>-1.621537</td>\n",
       "      <td>-0.007652</td>\n",
       "      <td>-0.003399</td>\n",
       "      <td>1.033381</td>\n",
       "      <td>0.011229</td>\n",
       "      <td>1</td>\n",
       "      <td>[-0.5603584051132202, 0.8973283767700195, -0.2...</td>\n",
       "    </tr>\n",
       "    <tr>\n",
       "      <th>4</th>\n",
       "      <td>172.16.164.99</td>\n",
       "      <td>192.168.100.3</td>\n",
       "      <td>1.344386</td>\n",
       "      <td>0.897328</td>\n",
       "      <td>-0.214210</td>\n",
       "      <td>-0.080317</td>\n",
       "      <td>0.715453</td>\n",
       "      <td>1.323033</td>\n",
       "      <td>0.729321</td>\n",
       "      <td>1.154823</td>\n",
       "      <td>0.415178</td>\n",
       "      <td>-0.007652</td>\n",
       "      <td>-0.002709</td>\n",
       "      <td>1.061404</td>\n",
       "      <td>0.011229</td>\n",
       "      <td>0</td>\n",
       "      <td>[1.3443859815597534, 0.8973283767700195, -0.21...</td>\n",
       "    </tr>\n",
       "    <tr>\n",
       "      <th>...</th>\n",
       "      <td>...</td>\n",
       "      <td>...</td>\n",
       "      <td>...</td>\n",
       "      <td>...</td>\n",
       "      <td>...</td>\n",
       "      <td>...</td>\n",
       "      <td>...</td>\n",
       "      <td>...</td>\n",
       "      <td>...</td>\n",
       "      <td>...</td>\n",
       "      <td>...</td>\n",
       "      <td>...</td>\n",
       "      <td>...</td>\n",
       "      <td>...</td>\n",
       "      <td>...</td>\n",
       "      <td>...</td>\n",
       "      <td>...</td>\n",
       "    </tr>\n",
       "    <tr>\n",
       "      <th>2934812</th>\n",
       "      <td>172.19.250.7</td>\n",
       "      <td>192.168.100.5</td>\n",
       "      <td>-0.662292</td>\n",
       "      <td>0.897328</td>\n",
       "      <td>1.742683</td>\n",
       "      <td>-1.082541</td>\n",
       "      <td>0.715453</td>\n",
       "      <td>2.066192</td>\n",
       "      <td>0.729321</td>\n",
       "      <td>1.233421</td>\n",
       "      <td>0.415178</td>\n",
       "      <td>-0.007652</td>\n",
       "      <td>-0.003677</td>\n",
       "      <td>0.593675</td>\n",
       "      <td>0.011229</td>\n",
       "      <td>1</td>\n",
       "      <td>[-0.6622923612594604, 0.8973283767700195, 1.74...</td>\n",
       "    </tr>\n",
       "    <tr>\n",
       "      <th>2934813</th>\n",
       "      <td>172.27.159.196</td>\n",
       "      <td>192.168.100.3</td>\n",
       "      <td>1.463955</td>\n",
       "      <td>0.897328</td>\n",
       "      <td>1.456657</td>\n",
       "      <td>1.288331</td>\n",
       "      <td>0.715453</td>\n",
       "      <td>-0.685658</td>\n",
       "      <td>0.729321</td>\n",
       "      <td>0.321562</td>\n",
       "      <td>0.415178</td>\n",
       "      <td>-0.007652</td>\n",
       "      <td>-0.003362</td>\n",
       "      <td>0.575666</td>\n",
       "      <td>0.011229</td>\n",
       "      <td>0</td>\n",
       "      <td>[1.4639545679092407, 0.8973283767700195, 1.456...</td>\n",
       "    </tr>\n",
       "    <tr>\n",
       "      <th>2934814</th>\n",
       "      <td>172.23.25.189</td>\n",
       "      <td>192.168.100.5</td>\n",
       "      <td>-0.999300</td>\n",
       "      <td>0.897328</td>\n",
       "      <td>0.492415</td>\n",
       "      <td>1.524645</td>\n",
       "      <td>0.715453</td>\n",
       "      <td>-0.685658</td>\n",
       "      <td>0.729321</td>\n",
       "      <td>-0.078869</td>\n",
       "      <td>0.415178</td>\n",
       "      <td>-0.007652</td>\n",
       "      <td>-0.003723</td>\n",
       "      <td>0.705753</td>\n",
       "      <td>0.011229</td>\n",
       "      <td>1</td>\n",
       "      <td>[-0.9992995858192444, 0.8973283767700195, 0.49...</td>\n",
       "    </tr>\n",
       "    <tr>\n",
       "      <th>2934815</th>\n",
       "      <td>172.16.121.232</td>\n",
       "      <td>192.168.100.7</td>\n",
       "      <td>-1.313172</td>\n",
       "      <td>-1.049143</td>\n",
       "      <td>0.772662</td>\n",
       "      <td>-1.103685</td>\n",
       "      <td>0.715453</td>\n",
       "      <td>-0.685658</td>\n",
       "      <td>-0.113064</td>\n",
       "      <td>-1.469575</td>\n",
       "      <td>0.415178</td>\n",
       "      <td>-0.007652</td>\n",
       "      <td>-0.003781</td>\n",
       "      <td>-1.622465</td>\n",
       "      <td>0.011229</td>\n",
       "      <td>1</td>\n",
       "      <td>[-1.3131719827651978, -1.0491434335708618, 0.7...</td>\n",
       "    </tr>\n",
       "    <tr>\n",
       "      <th>2934816</th>\n",
       "      <td>172.30.159.204</td>\n",
       "      <td>192.168.100.3</td>\n",
       "      <td>-1.640423</td>\n",
       "      <td>-1.049143</td>\n",
       "      <td>-0.341329</td>\n",
       "      <td>-1.036714</td>\n",
       "      <td>0.715453</td>\n",
       "      <td>-0.642001</td>\n",
       "      <td>-1.797832</td>\n",
       "      <td>-1.391442</td>\n",
       "      <td>0.415178</td>\n",
       "      <td>-0.006962</td>\n",
       "      <td>-0.003839</td>\n",
       "      <td>-1.529818</td>\n",
       "      <td>0.011229</td>\n",
       "      <td>1</td>\n",
       "      <td>[-1.64042329788208, -1.0491434335708618, -0.34...</td>\n",
       "    </tr>\n",
       "  </tbody>\n",
       "</table>\n",
       "<p>2934817 rows × 17 columns</p>\n",
       "</div>"
      ],
      "text/plain": [
       "                  saddr          daddr         0         1         2  \\\n",
       "0         172.26.166.60  192.168.100.3  1.235583  0.897328  1.724395   \n",
       "1        172.23.162.154  192.168.100.3  0.564705 -1.049143  1.786939   \n",
       "2         172.26.89.198  192.168.100.3  0.134182 -1.049143 -0.770268   \n",
       "3         172.21.11.230  192.168.100.3 -0.560358  0.897328 -0.291994   \n",
       "4         172.16.164.99  192.168.100.3  1.344386  0.897328 -0.214210   \n",
       "...                 ...            ...       ...       ...       ...   \n",
       "2934812    172.19.250.7  192.168.100.5 -0.662292  0.897328  1.742683   \n",
       "2934813  172.27.159.196  192.168.100.3  1.463955  0.897328  1.456657   \n",
       "2934814   172.23.25.189  192.168.100.5 -0.999300  0.897328  0.492415   \n",
       "2934815  172.16.121.232  192.168.100.7 -1.313172 -1.049143  0.772662   \n",
       "2934816  172.30.159.204  192.168.100.3 -1.640423 -1.049143 -0.341329   \n",
       "\n",
       "                3         4         5         6         7         8         9  \\\n",
       "0        1.261013  0.715453 -0.685658  0.729321  0.301132  0.415178 -0.007652   \n",
       "1       -1.006622 -1.826553  1.914139 -0.113064  1.123003  0.415178 -0.007652   \n",
       "2       -0.769373  0.715453  1.319060 -0.113064  0.731969  0.415178 -0.007652   \n",
       "3        1.164977 -0.801551 -0.685658  0.729321  0.653830 -1.621537 -0.007652   \n",
       "4       -0.080317  0.715453  1.323033  0.729321  1.154823  0.415178 -0.007652   \n",
       "...           ...       ...       ...       ...       ...       ...       ...   \n",
       "2934812 -1.082541  0.715453  2.066192  0.729321  1.233421  0.415178 -0.007652   \n",
       "2934813  1.288331  0.715453 -0.685658  0.729321  0.321562  0.415178 -0.007652   \n",
       "2934814  1.524645  0.715453 -0.685658  0.729321 -0.078869  0.415178 -0.007652   \n",
       "2934815 -1.103685  0.715453 -0.685658 -0.113064 -1.469575  0.415178 -0.007652   \n",
       "2934816 -1.036714  0.715453 -0.642001 -1.797832 -1.391442  0.415178 -0.006962   \n",
       "\n",
       "               10        11        12  label  \\\n",
       "0       -0.003357  0.544007  0.011229      0   \n",
       "1       -0.003660  0.533961  0.011229      0   \n",
       "2       -0.003612  0.317014  0.011229      0   \n",
       "3       -0.003399  1.033381  0.011229      1   \n",
       "4       -0.002709  1.061404  0.011229      0   \n",
       "...           ...       ...       ...    ...   \n",
       "2934812 -0.003677  0.593675  0.011229      1   \n",
       "2934813 -0.003362  0.575666  0.011229      0   \n",
       "2934814 -0.003723  0.705753  0.011229      1   \n",
       "2934815 -0.003781 -1.622465  0.011229      1   \n",
       "2934816 -0.003839 -1.529818  0.011229      1   \n",
       "\n",
       "                                                         h  \n",
       "0        [1.2355825901031494, 0.8973283767700195, 1.724...  \n",
       "1        [0.5647051334381104, -1.0491434335708618, 1.78...  \n",
       "2        [0.13418172299861908, -1.0491434335708618, -0....  \n",
       "3        [-0.5603584051132202, 0.8973283767700195, -0.2...  \n",
       "4        [1.3443859815597534, 0.8973283767700195, -0.21...  \n",
       "...                                                    ...  \n",
       "2934812  [-0.6622923612594604, 0.8973283767700195, 1.74...  \n",
       "2934813  [1.4639545679092407, 0.8973283767700195, 1.456...  \n",
       "2934814  [-0.9992995858192444, 0.8973283767700195, 0.49...  \n",
       "2934815  [-1.3131719827651978, -1.0491434335708618, 0.7...  \n",
       "2934816  [-1.64042329788208, -1.0491434335708618, -0.34...  \n",
       "\n",
       "[2934817 rows x 17 columns]"
      ]
     },
     "execution_count": 32,
     "metadata": {},
     "output_type": "execute_result"
    }
   ],
   "source": [
    "X_train"
   ]
  },
  {
   "cell_type": "code",
   "execution_count": 33,
   "metadata": {},
   "outputs": [],
   "source": [
    "from dgl.data.utils import load_graphs   \n",
    "G = load_graphs(\"./data.bin\")[0][0]"
   ]
  },
  {
   "cell_type": "code",
   "execution_count": null,
   "metadata": {},
   "outputs": [],
   "source": []
  },
  {
   "cell_type": "code",
   "execution_count": null,
   "metadata": {},
   "outputs": [],
   "source": [
    "G = nx.from_pandas_edgelist(X_train, \"saddr\", \"daddr\", ['h', 'label'], create_using=nx.MultiGraph())\n",
    "G = G.to_directed()\n",
    "G = from_networkx(G, edge_attrs=['h', 'label'])"
   ]
  },
  {
   "cell_type": "code",
   "execution_count": null,
   "metadata": {},
   "outputs": [],
   "source": [
    "# Eq1\n",
    "G.ndata['h'] = th.ones(G.num_nodes(), G.edata['h'].shape[1])\n",
    "G.ndata['h'] = th.reshape(G.ndata['h'], (G.ndata['h'].shape[0], 1, G.ndata['h'].shape[1]))\n",
    "G.edata['h'] = th.reshape(G.edata['h'], (G.edata['h'].shape[0], 1, G.edata['h'].shape[1]))"
   ]
  },
  {
   "cell_type": "code",
   "execution_count": null,
   "metadata": {},
   "outputs": [],
   "source": [
    "G.edata['train_mask'] = th.ones(len(G.edata['h']), dtype=th.bool)"
   ]
  },
  {
   "cell_type": "code",
   "execution_count": null,
   "metadata": {},
   "outputs": [],
   "source": []
  },
  {
   "cell_type": "code",
   "execution_count": null,
   "metadata": {},
   "outputs": [],
   "source": [
    "# from dgl.data.utils import save_graphs\n",
    "# save_graphs(\"./data.bin\", [G])"
   ]
  },
  {
   "cell_type": "code",
   "execution_count": 34,
   "metadata": {
    "scrolled": true
   },
   "outputs": [
    {
     "name": "stdout",
     "output_type": "stream",
     "text": [
      "torch.Size([933626, 1, 13])\n",
      "torch.Size([5869634, 1, 13])\n"
     ]
    }
   ],
   "source": [
    "node_features = G.ndata['h']\n",
    "edge_features = G.edata['h']\n",
    "\n",
    "edge_label = G.edata['label']\n",
    "train_mask = G.edata['train_mask']\n",
    "\n",
    "print(node_features.shape)\n",
    "print(edge_features.shape)"
   ]
  },
  {
   "cell_type": "code",
   "execution_count": 47,
   "metadata": {},
   "outputs": [],
   "source": [
    "import torch\n",
    "import torch as th\n",
    "import torch.nn as nn\n",
    "import torch.nn.functional as F\n",
    "import dgl.function as fn\n",
    "class SAGELayer(nn.Module):\n",
    "    # ndim_in, edims 是初始输入的维度，但只有 W_msg111 仍使用 edims\n",
    "    # ndim_out 是本层最终输出的特征维度 (即 128)\n",
    "    def __init__(self, ndim_in, edims, ndim_out, activation):\n",
    "        super(SAGELayer, self).__init__()\n",
    "        \n",
    "        # W_msg111：第一次聚合，输入edims (13)，输出ndim_out (128)\n",
    "        self.W_msg111 = nn.Linear(edims, ndim_out)\n",
    "        \n",
    "        # --- 核心修复：第二次聚合 W_msg ---\n",
    "        # 输入： 第一次聚合后的节点特征 (ndim_out=128) + 原始边特征 (edims=13)\n",
    "        # 修复为： 128 + 13 = 141\n",
    "        self.W_msg = nn.Linear(ndim_out + edims, ndim_out) # 141 -> 128\n",
    "        \n",
    "        # W_apply：接收 ndim_out 维度输入 (h_neigh + h_neigh)，输出 ndim_out\n",
    "        self.W_apply = nn.Linear(ndim_out, ndim_out)\n",
    "        \n",
    "        self.activation = activation\n",
    "\n",
    "    def message_func(self, edges):\n",
    "        # 修正维度：[B, 1, F] -> [B, F]\n",
    "        src_h = edges.src['h'].squeeze(1)\n",
    "        edge_h = edges.data['h'].squeeze(1)\n",
    "        concatenated = th.cat([src_h, edge_h], dim=1) \n",
    "        # 消息 m 的维度是 ndim_out\n",
    "        return {'m': self.W_msg(concatenated).unsqueeze(1)} \n",
    "\n",
    "    def message_func111(self, edges):\n",
    "        # 修正维度：[B, 1, F] -> [B, F]\n",
    "        edge_h = edges.data['h'].squeeze(1)\n",
    "        # 原始思想：th.add(edges.data['h'], edges.data['h'])，维度不变\n",
    "        added = th.add(edge_h, edge_h)\n",
    "        # 消息 m 的维度是 ndim_out\n",
    "        return {'m': self.W_msg111(added).unsqueeze(1)}\n",
    "    def forward(self, g_dgl, nfeats, efeats):\n",
    "        with g_dgl.local_scope():\n",
    "            g = g_dgl\n",
    "            # 节点 h 初始为 [N, 1, ndim_in=13]\n",
    "            g.ndata['h'] = nfeats\n",
    "            g.edata['h'] = efeats\n",
    "\n",
    "            # 第一次聚合：将 h 变为 [N, 1, ndim_out=128]\n",
    "            g.update_all(self.message_func111, fn.mean('m', 'h_neigh'))\n",
    "            g.ndata['h'] = F.relu(g.ndata['h_neigh']) # h 现在是 128 维\n",
    "\n",
    "            # 第二次聚合：使用 128 维的源节点特征和 13 维的边特征\n",
    "            # 拼接维度：128 + 13 = 141 (与 W_msg 匹配)\n",
    "            g.update_all(self.message_func, fn.mean('m', 'h_neigh'))\n",
    "\n",
    "            h_neigh = g.ndata['h_neigh'] \n",
    "            aaa = th.add(h_neigh, h_neigh)\n",
    "            \n",
    "            aaa_squeezed = aaa.squeeze(1) \n",
    "            g.ndata['h'] = F.relu(self.W_apply(aaa_squeezed)).unsqueeze(1)\n",
    "\n",
    "            return g.ndata['h']"
   ]
  },
  {
   "cell_type": "code",
   "execution_count": 48,
   "metadata": {},
   "outputs": [],
   "source": [
    "# --- 2. SAGE (Simplified, Coordinating Block) ---\n",
    "class SAGE(nn.Module):\n",
    "    def __init__(self, ndim_in, ndim_out, edim, activation, dropout):\n",
    "        super(SAGE, self).__init__()\n",
    "        self.layers = nn.ModuleList()\n",
    "        # GNN 层输出 ndim_out 维特征\n",
    "        self.layers.append(SAGELayer(ndim_in, edim, ndim_out, activation))\n",
    "        self.dropout = nn.Dropout(p=dropout)\n",
    "\n",
    "    def forward(self, g, nfeats, efeats):\n",
    "        for i, layer in enumerate(self.layers):\n",
    "            if i != 0:\n",
    "                nfeats = self.dropout(nfeats)\n",
    "            nfeats = layer(g, nfeats, efeats)\n",
    "            \n",
    "        # 原始思想：nfeats.sum(1)\n",
    "        # 结果：[N, 1, ndim_out] -> [N, ndim_out]\n",
    "        return nfeats.sum(1)"
   ]
  },
  {
   "cell_type": "code",
   "execution_count": 49,
   "metadata": {},
   "outputs": [],
   "source": [
    "# --- 3. FullyConnectedPredictor (Flexible + Original Logic) ---\n",
    "class FullyConnectedPredictor(nn.Module):\n",
    "    # in_features 是 GNN 输出特征维度 (ndim_out)\n",
    "    # edge_dim 是原始边特征维度\n",
    "    def __init__(self, in_features, out_classes, edge_dim):\n",
    "        super().__init__()\n",
    "        \n",
    "        # --- 原始思想 1：fc111 (边特征转换) ---\n",
    "        # 原始是 (32 -> 128)。现在是 (edge_dim -> in_features)\n",
    "        self.fc_edge = nn.Linear(edge_dim, in_features)\n",
    "        \n",
    "        # --- 原始思想 2：fc (最终预测层) ---\n",
    "        # 原始输入是 (h_u + h_v)[in_features] + 转换后的边特征[in_features]，总维度 2 * in_features\n",
    "        self.fc = nn.Linear(2 * in_features, out_classes) \n",
    "\n",
    "    def apply_edges(self, edges):\n",
    "        # 节点特征 h_u 和 h_v 形状为 [B, in_features]\n",
    "        h_u = edges.src['h']\n",
    "        h_v = edges.dst['h']\n",
    "        \n",
    "        # --- 原始思想：节点特征乘以 10 并相加 ---\n",
    "        h_u_scaled = h_u * 10\n",
    "        h_v_scaled = h_v * 10\n",
    "        concatenated = th.add(h_u_scaled, h_v_scaled) # [B, in_features]\n",
    "        \n",
    "        # 边特征处理\n",
    "        h_e_raw = edges.data['h'].squeeze(1) # [B, edge_dim]\n",
    "        h_e_transformed = self.fc_edge(h_e_raw) # [B, in_features]\n",
    "        \n",
    "        # 最终拼接： [h_u * 10 + h_v * 10] + [h_e_transformed]\n",
    "        concatenated = th.cat([concatenated, h_e_transformed], 1) # [B, 2 * in_features]\n",
    "        \n",
    "        # 预测分数\n",
    "        score = self.fc(concatenated) # [B, out_classes]\n",
    "        return {'score': score}\n",
    "\n",
    "    def forward(self, graph, h):\n",
    "        with graph.local_scope():\n",
    "            graph.ndata['h'] = h\n",
    "            graph.apply_edges(self.apply_edges)\n",
    "            return graph.edata['score']"
   ]
  },
  {
   "cell_type": "code",
   "execution_count": 50,
   "metadata": {},
   "outputs": [],
   "source": [
    "# --- 4. Model Class (Adapted for New Predictor) ---\n",
    "class Model(nn.Module):\n",
    "    def __init__(self, ndim_in, ndim_out, edim, activation, dropout, num_classes):\n",
    "        super().__init__()\n",
    "        # GNN 块使用 ndim_out 作为其输出维度\n",
    "        self.gnn = SAGE(ndim_in, ndim_out, edim, activation, dropout) \n",
    "        \n",
    "        # 预测器现在接收 in_features (ndim_out), out_classes, 和 edge_dim (edim)\n",
    "        self.pred = FullyConnectedPredictor(ndim_out, num_classes, edim) \n",
    "\n",
    "    def forward(self, g, nfeats, efeats):\n",
    "        h = self.gnn(g, nfeats, efeats)\n",
    "        return self.pred(g, h)"
   ]
  },
  {
   "cell_type": "code",
   "execution_count": 39,
   "metadata": {},
   "outputs": [],
   "source": [
    "from sklearn.utils import class_weight\n",
    "\n",
    "class_weights = class_weight.compute_class_weight('balanced',\n",
    "                                                  classes=np.unique(G.edata['label'].cpu().numpy()),\n",
    "                                                  y=G.edata['label'].cpu().numpy())\n",
    "\n",
    "class_weights = th.FloatTensor(class_weights)\n",
    "criterion = nn.CrossEntropyLoss().cuda()\n",
    "# criterion = nn.CrossEntropyLoss(weight=class_weights).cuda()"
   ]
  },
  {
   "cell_type": "code",
   "execution_count": 40,
   "metadata": {},
   "outputs": [],
   "source": [
    "def compute_accuracy(pred, labels):\n",
    "    return (pred.argmax(1) == labels).float().mean().item()"
   ]
  },
  {
   "cell_type": "code",
   "execution_count": 41,
   "metadata": {},
   "outputs": [],
   "source": [
    "node_features = node_features.cuda()\n",
    "edge_features = edge_features.cuda()\n",
    "edge_label = edge_label.cuda()\n",
    "train_mask = train_mask.cuda()\n",
    "G = G.to('cuda')"
   ]
  },
  {
   "cell_type": "code",
   "execution_count": 44,
   "metadata": {},
   "outputs": [
    {
     "name": "stdout",
     "output_type": "stream",
     "text": [
      "Node feature shape: torch.Size([933626, 1, 13])\n",
      "Edge feature shape: torch.Size([5869634, 1, 13])\n"
     ]
    }
   ],
   "source": [
    "print(f\"Node feature shape: {node_features.shape}\")\n",
    "print(f\"Edge feature shape: {edge_features.shape}\")\n",
    "\n",
    "# 假设输出是:\n",
    "# Node feature shape: [N, 1, A]  -> A是实际的节点维度\n",
    "# Edge feature shape: [E, 1, B]  -> B是实际的边的维度\n",
    "\n",
    "A_actual = node_features.shape[2] # 实际节点维度\n",
    "B_actual = edge_features.shape[2] # 实际边维度"
   ]
  },
  {
   "cell_type": "code",
   "execution_count": 45,
   "metadata": {},
   "outputs": [],
   "source": [
    "# 获取实际的特征维度\n",
    "actual_node_dim = node_features.shape[2] \n",
    "actual_edge_dim = edge_features.shape[2] "
   ]
  },
  {
   "cell_type": "code",
   "execution_count": 46,
   "metadata": {},
   "outputs": [
    {
     "name": "stdout",
     "output_type": "stream",
     "text": [
      "Node In Dim: 13\n",
      "Edge In Dim: 13\n"
     ]
    }
   ],
   "source": [
    "# 定义 GNN 的输入/输出维度\n",
    "node_in_dim = actual_node_dim # 应该等于某个值 A_actual\n",
    "edge_in_dim = actual_edge_dim # 应该等于某个值 B_actual\n",
    "gnn_out_dim = 128            \n",
    "num_classes = 5\n",
    "print(f\"Node In Dim: {actual_node_dim}\")\n",
    "print(f\"Edge In Dim: {actual_edge_dim}\")"
   ]
  },
  {
   "cell_type": "code",
   "execution_count": 51,
   "metadata": {},
   "outputs": [
    {
     "name": "stderr",
     "output_type": "stream",
     "text": [
      "/tmp/ipykernel_10389/3643900901.py:20: UserWarning: indexing with dtype torch.uint8 is now deprecated, please use a dtype torch.bool instead. (Triggered internally at /opt/conda/conda-bld/pytorch_1720538435607/work/aten/src/ATen/native/IndexingUtils.h:27.)\n",
      "  loss = criterion(pred[train_mask], edge_label[train_mask])\n",
      "/opt/conda/lib/python3.11/site-packages/torch/autograd/graph.py:768: UserWarning: indexing with dtype torch.uint8 is now deprecated, please use a dtype torch.bool instead. (Triggered internally at /opt/conda/conda-bld/pytorch_1720538435607/work/aten/src/ATen/native/IndexingUtils.h:27.)\n",
      "  return Variable._execution_engine.run_backward(  # Calls into the C++ engine to run the backward pass\n",
      "/tmp/ipykernel_10389/3643900901.py:27: UserWarning: indexing with dtype torch.uint8 is now deprecated, please use a dtype torch.bool instead. (Triggered internally at /opt/conda/conda-bld/pytorch_1720538435607/work/aten/src/ATen/native/IndexingUtils.h:27.)\n",
      "  acc = compute_accuracy(pred[train_mask], edge_label[train_mask])\n",
      "/tmp/ipykernel_10389/3643900901.py:33: UserWarning: indexing with dtype torch.uint8 is now deprecated, please use a dtype torch.bool instead. (Triggered internally at /opt/conda/conda-bld/pytorch_1720538435607/work/aten/src/ATen/native/IndexingUtils.h:27.)\n",
      "  print('Epoch:', epoch, ' Training acc:', compute_accuracy(pred[train_mask], edge_label[train_mask]))\n"
     ]
    },
    {
     "name": "stdout",
     "output_type": "stream",
     "text": [
      "Epoch: 1  Training acc: 0.2039261758327484\n",
      "Epoch: 2  Training acc: 0.6771519780158997\n",
      "Epoch: 3  Training acc: 0.7730908393859863\n",
      "Epoch: 4  Training acc: 0.8165943622589111\n",
      "Epoch: 5  Training acc: 0.8509805202484131\n",
      "Epoch: 6  Training acc: 0.8578460216522217\n",
      "Epoch: 7  Training acc: 0.8579837083816528\n",
      "Epoch: 8  Training acc: 0.8502724766731262\n",
      "Epoch: 9  Training acc: 0.841496467590332\n",
      "Epoch: 10  Training acc: 0.8453900814056396\n",
      "Epoch: 11  Training acc: 0.8601987957954407\n",
      "Epoch: 12  Training acc: 0.8698767423629761\n",
      "Epoch: 13  Training acc: 0.8742460012435913\n",
      "Epoch: 14  Training acc: 0.8773555755615234\n",
      "Epoch: 15  Training acc: 0.8802096247673035\n",
      "Epoch: 16  Training acc: 0.8830956220626831\n",
      "Epoch: 17  Training acc: 0.8889293670654297\n",
      "Epoch: 18  Training acc: 0.896134614944458\n",
      "Epoch: 19  Training acc: 0.9006398320198059\n",
      "Epoch: 20  Training acc: 0.9044499397277832\n",
      "Epoch: 21  Training acc: 0.9109992384910583\n",
      "Epoch: 22  Training acc: 0.9174000024795532\n",
      "Epoch: 23  Training acc: 0.9226531386375427\n",
      "Epoch: 24  Training acc: 0.9258829951286316\n",
      "Epoch: 25  Training acc: 0.9262414574623108\n",
      "Epoch: 26  Training acc: 0.9277229309082031\n",
      "Epoch: 27  Training acc: 0.9334926605224609\n",
      "Epoch: 28  Training acc: 0.9403806328773499\n",
      "Epoch: 29  Training acc: 0.9444193840026855\n",
      "Epoch: 30  Training acc: 0.9445734024047852\n",
      "Epoch: 31  Training acc: 0.942783534526825\n",
      "Epoch: 32  Training acc: 0.94150710105896\n",
      "Epoch: 33  Training acc: 0.9426608681678772\n",
      "Epoch: 34  Training acc: 0.9453632235527039\n",
      "Epoch: 35  Training acc: 0.9463476538658142\n",
      "Epoch: 36  Training acc: 0.9457285404205322\n",
      "Epoch: 37  Training acc: 0.9455073475837708\n",
      "Epoch: 38  Training acc: 0.947899341583252\n",
      "Epoch: 39  Training acc: 0.9520887136459351\n",
      "Epoch: 40  Training acc: 0.9551962018013\n",
      "Epoch: 41  Training acc: 0.9560102224349976\n",
      "Epoch: 42  Training acc: 0.9555706977844238\n",
      "Epoch: 43  Training acc: 0.9557717442512512\n",
      "Epoch: 44  Training acc: 0.9574934840202332\n",
      "Epoch: 45  Training acc: 0.9591112732887268\n",
      "Epoch: 46  Training acc: 0.9594728350639343\n",
      "Epoch: 47  Training acc: 0.959049642086029\n",
      "Epoch: 48  Training acc: 0.9591130018234253\n",
      "Epoch: 49  Training acc: 0.9607768058776855\n",
      "Epoch: 50  Training acc: 0.9631966948509216\n",
      "Epoch: 51  Training acc: 0.9647460579872131\n",
      "Epoch: 52  Training acc: 0.9651736617088318\n",
      "Epoch: 53  Training acc: 0.965210497379303\n",
      "Epoch: 54  Training acc: 0.9660132527351379\n",
      "Epoch: 55  Training acc: 0.9676283597946167\n",
      "Epoch: 56  Training acc: 0.9688894152641296\n",
      "Epoch: 57  Training acc: 0.9692798852920532\n",
      "Epoch: 58  Training acc: 0.9694499373435974\n",
      "Epoch: 59  Training acc: 0.9702690243721008\n",
      "Epoch: 60  Training acc: 0.971786379814148\n",
      "Epoch: 61  Training acc: 0.9732593894004822\n",
      "Epoch: 62  Training acc: 0.9741057753562927\n",
      "Epoch: 63  Training acc: 0.9746209383010864\n",
      "Epoch: 64  Training acc: 0.9752366542816162\n",
      "Epoch: 65  Training acc: 0.9760111570358276\n",
      "Epoch: 66  Training acc: 0.9768438935279846\n",
      "Epoch: 67  Training acc: 0.9775465130805969\n",
      "Epoch: 68  Training acc: 0.9780998826026917\n",
      "Epoch: 69  Training acc: 0.9785414338111877\n",
      "Epoch: 70  Training acc: 0.9790655374526978\n",
      "Epoch: 71  Training acc: 0.9797415137290955\n",
      "Epoch: 72  Training acc: 0.9805681705474854\n",
      "Epoch: 73  Training acc: 0.9812939167022705\n",
      "Epoch: 74  Training acc: 0.9817430377006531\n",
      "Epoch: 75  Training acc: 0.9820554852485657\n",
      "Epoch: 76  Training acc: 0.9823706746101379\n",
      "Epoch: 77  Training acc: 0.9829314947128296\n",
      "Epoch: 78  Training acc: 0.9835669994354248\n",
      "Epoch: 79  Training acc: 0.9840593338012695\n",
      "Epoch: 80  Training acc: 0.9843653440475464\n",
      "Epoch: 81  Training acc: 0.9846266508102417\n",
      "Epoch: 82  Training acc: 0.9849817156791687\n",
      "Epoch: 83  Training acc: 0.9854723811149597\n",
      "Epoch: 84  Training acc: 0.9859402179718018\n",
      "Epoch: 85  Training acc: 0.9863266348838806\n",
      "Epoch: 86  Training acc: 0.9866295456886292\n",
      "Epoch: 87  Training acc: 0.9868425130844116\n",
      "Epoch: 88  Training acc: 0.9870619177818298\n",
      "Epoch: 89  Training acc: 0.9873607754707336\n",
      "Epoch: 90  Training acc: 0.9876943230628967\n",
      "Epoch: 91  Training acc: 0.987981915473938\n",
      "Epoch: 92  Training acc: 0.9882197380065918\n",
      "Epoch: 93  Training acc: 0.9884337186813354\n",
      "Epoch: 94  Training acc: 0.9886375069618225\n",
      "Epoch: 95  Training acc: 0.988885223865509\n",
      "Epoch: 96  Training acc: 0.9891295433044434\n",
      "Epoch: 97  Training acc: 0.989337682723999\n",
      "Epoch: 98  Training acc: 0.9895285367965698\n",
      "Epoch: 99  Training acc: 0.989685595035553\n"
     ]
    }
   ],
   "source": [
    "# 实例化模型\n",
    "model = Model(\n",
    "    ndim_in=node_in_dim, \n",
    "    ndim_out=gnn_out_dim, \n",
    "    edim=edge_in_dim, \n",
    "    activation=F.relu, \n",
    "    dropout=0.2,\n",
    "    num_classes=num_classes\n",
    ").to('cuda')\n",
    "\n",
    "# 优化器\n",
    "opt = th.optim.Adam(model.parameters())\n",
    "\n",
    "# 训练循环 (保持不变)\n",
    "losses = []\n",
    "accuracies = []\n",
    "\n",
    "for epoch in range(1, 100):\n",
    "    pred = model(G, node_features, edge_features)\n",
    "    loss = criterion(pred[train_mask], edge_label[train_mask])\n",
    "    opt.zero_grad()\n",
    "    loss.backward()\n",
    "    opt.step()\n",
    "\n",
    "    # 记录损失和准确率\n",
    "    losses.append(loss.item())\n",
    "    acc = compute_accuracy(pred[train_mask], edge_label[train_mask])\n",
    "    accuracies.append(acc)\n",
    "\n",
    "    if epoch % 1 == 0:\n",
    "        # if epoch % 100 == 0:\n",
    "        #     th.save(model.state_dict(), os.path.join('./model', 'epoch-{}.pt'.format(epoch)))\n",
    "        print('Epoch:', epoch, ' Training acc:', compute_accuracy(pred[train_mask], edge_label[train_mask]))\n"
   ]
  },
  {
   "cell_type": "code",
   "execution_count": 52,
   "metadata": {},
   "outputs": [],
   "source": [
    "import torch as th\n",
    "import os\n",
    "\n",
    "# 定义保存路径\n",
    "MODEL_DIR = './saved_models'\n",
    "MODEL_NAME = 'edge_predictor_sage_final.pt'\n",
    "SAVE_PATH = os.path.join(MODEL_DIR, MODEL_NAME)"
   ]
  },
  {
   "cell_type": "code",
   "execution_count": 53,
   "metadata": {},
   "outputs": [
    {
     "name": "stdout",
     "output_type": "stream",
     "text": [
      "模型已成功保存到: ./saved_models/edge_predictor_sage_final.pt\n"
     ]
    }
   ],
   "source": [
    "\n",
    "\n",
    "# 确保目录存在\n",
    "os.makedirs(MODEL_DIR, exist_ok=True)\n",
    "\n",
    "# 保存模型的状态字典\n",
    "# model 是您训练好的 Model 实例\n",
    "th.save(model.state_dict(), SAVE_PATH)\n",
    "\n",
    "print(f\"模型已成功保存到: {SAVE_PATH}\")"
   ]
  },
  {
   "cell_type": "code",
   "execution_count": 54,
   "metadata": {},
   "outputs": [
    {
     "name": "stdout",
     "output_type": "stream",
     "text": [
      "总样本数: 733705\n",
      "字段: ['pkSeqID', 'proto', 'saddr', 'sport', 'daddr', 'dport', 'seq', 'stddev', 'N_IN_Conn_P_SrcIP', 'min', 'state_number', 'mean', 'N_IN_Conn_P_DstIP', 'drate', 'srate', 'max', 'attack', 'category', 'subcategory']\n",
      "category\n",
      "DDoS              385309\n",
      "DoS               330112\n",
      "Reconnaissance     18163\n",
      "Normal               107\n",
      "Theft                 14\n",
      "Name: count, dtype: int64\n"
     ]
    }
   ],
   "source": [
    "# data = pd.read_csv('./bot.csv')\n",
    "import pandas as pd\n",
    "from glob import glob\n",
    "\n",
    "# 读取所有 Full5pc 的 CSV（例如 Full5pc_1, Full5pc_2, ...）\n",
    "test_files = glob(\"./bot/UNSW_2018_IoT_Botnet_Final_10_best_Testing.csv\")\n",
    "test_dfs = [pd.read_csv(f) for f in test_files]\n",
    "test_data = pd.concat(test_dfs, ignore_index=True)\n",
    "\n",
    "print(\"总样本数:\", len(test_data))\n",
    "print(\"字段:\", test_data.columns.tolist())\n",
    "print(test_data['category'].value_counts())  # 看攻击类别分布"
   ]
  },
  {
   "cell_type": "code",
   "execution_count": 55,
   "metadata": {},
   "outputs": [],
   "source": [
    "le = LabelEncoder()\n",
    "le.fit_transform(test_data.category.values)\n",
    "test_data['category'] = le.transform(test_data['category'])"
   ]
  },
  {
   "cell_type": "code",
   "execution_count": 56,
   "metadata": {},
   "outputs": [],
   "source": [
    "le.fit_transform(test_data.proto.values)\n",
    "test_data['proto'] = le.transform(test_data['proto'])"
   ]
  },
  {
   "cell_type": "code",
   "execution_count": 57,
   "metadata": {},
   "outputs": [],
   "source": [
    "test_data['saddr'] = test_data.saddr.apply(str)\n",
    "test_data['daddr'] = test_data.daddr.apply(str)"
   ]
  },
  {
   "cell_type": "code",
   "execution_count": 58,
   "metadata": {},
   "outputs": [],
   "source": [
    "test_data['saddr'] = test_data.saddr.apply(lambda x: socket.inet_ntoa(struct.pack('>I', random.randint(0xac100001, 0xac1f0001))))"
   ]
  },
  {
   "cell_type": "code",
   "execution_count": 59,
   "metadata": {},
   "outputs": [],
   "source": [
    "test_data = test_data.reset_index()\n",
    "test_data.replace([np.inf, -np.inf], np.nan,inplace = True)"
   ]
  },
  {
   "cell_type": "code",
   "execution_count": 60,
   "metadata": {},
   "outputs": [],
   "source": [
    "test_data.fillna(0,inplace = True)"
   ]
  },
  {
   "cell_type": "code",
   "execution_count": 61,
   "metadata": {},
   "outputs": [],
   "source": [
    "test_data.drop(columns=['index'],inplace=True)"
   ]
  },
  {
   "cell_type": "code",
   "execution_count": 62,
   "metadata": {},
   "outputs": [
    {
     "name": "stdout",
     "output_type": "stream",
     "text": [
      "字段: ['pkSeqID', 'proto', 'saddr', 'sport', 'daddr', 'dport', 'seq', 'stddev', 'N_IN_Conn_P_SrcIP', 'min', 'state_number', 'mean', 'N_IN_Conn_P_DstIP', 'drate', 'srate', 'max', 'attack', 'category', 'subcategory']\n",
      "Shape:  (19,)\n"
     ]
    }
   ],
   "source": [
    "print(\"字段:\", test_data.columns.tolist())\n",
    "print(\"Shape: \", test_data.columns.shape)"
   ]
  },
  {
   "cell_type": "code",
   "execution_count": null,
   "metadata": {},
   "outputs": [],
   "source": [
    "test_features = test_data.drop(columns=[\"category\", \"subcategory\"])\n",
    "test_features = test_features.drop(['saddr', 'daddr'], axis=1)\n",
    "test_features"
   ]
  },
  {
   "cell_type": "code",
   "execution_count": null,
   "metadata": {},
   "outputs": [],
   "source": [
    "test_labels = test_data[\"category\"]\n",
    "test_labels"
   ]
  },
  {
   "cell_type": "code",
   "execution_count": null,
   "metadata": {},
   "outputs": [],
   "source": [
    "test_num_features = test_features.select_dtypes(include=[np.number])\n",
    "test_features_array = test_num_features.values.astype(np.float32)\n",
    "\n",
    "# features_array = features.values.astype(np.float32)\n",
    "test_labels_array = test_labels.values.astype(np.int64)  # 如果标签是整数型，可以使用 np.long 类型"
   ]
  },
  {
   "cell_type": "code",
   "execution_count": null,
   "metadata": {},
   "outputs": [],
   "source": [
    "test_features_array.shape"
   ]
  },
  {
   "cell_type": "code",
   "execution_count": null,
   "metadata": {},
   "outputs": [],
   "source": [
    "test_labels_array.shape"
   ]
  },
  {
   "cell_type": "code",
   "execution_count": null,
   "metadata": {},
   "outputs": [],
   "source": [
    "scaler = StandardScaler()\n",
    "test_standardized_data = scaler.fit_transform(test_features_array)\n",
    "min_max_scaler = MinMaxScaler()\n",
    "test_normalized_data = min_max_scaler.fit_transform(test_standardized_data)"
   ]
  },
  {
   "cell_type": "code",
   "execution_count": null,
   "metadata": {},
   "outputs": [],
   "source": [
    "import torch\n",
    "test_features_tensor = torch.tensor(test_normalized_data, dtype=torch.float32)\n",
    "test_labels_tensor = torch.tensor(test_labels_array, dtype=torch.long)  # 如果标签是整数型，可以使用 torch.long 类型"
   ]
  },
  {
   "cell_type": "code",
   "execution_count": null,
   "metadata": {},
   "outputs": [],
   "source": [
    "test_features_tensor = pd.concat([test_data[['saddr', 'daddr']].reset_index(drop=True), pd.DataFrame(test_features_tensor.numpy())], axis=1)"
   ]
  },
  {
   "cell_type": "code",
   "execution_count": null,
   "metadata": {},
   "outputs": [],
   "source": [
    "X_test = test_features_tensor\n",
    "y_test = test_labels_tensor"
   ]
  },
  {
   "cell_type": "code",
   "execution_count": null,
   "metadata": {},
   "outputs": [],
   "source": [
    "test_ds = len(X_test)"
   ]
  },
  {
   "cell_type": "code",
   "execution_count": null,
   "metadata": {},
   "outputs": [],
   "source": [
    "test_cols_to_norm = list(set(list(X_test.iloc[:, 2:].columns)) - set(list(['label'])))\n",
    "X_test[test_cols_to_norm] = scaler.fit_transform(X_test[test_cols_to_norm])"
   ]
  },
  {
   "cell_type": "code",
   "execution_count": null,
   "metadata": {},
   "outputs": [],
   "source": [
    "X_test['label'] = y_test\n",
    "X_test['h'] = X_test[test_cols_to_norm].values.tolist()"
   ]
  },
  {
   "cell_type": "code",
   "execution_count": null,
   "metadata": {},
   "outputs": [],
   "source": [
    "X_test"
   ]
  },
  {
   "cell_type": "code",
   "execution_count": 63,
   "metadata": {},
   "outputs": [],
   "source": [
    "from dgl.data.utils import load_graphs   \n",
    "G_Test = load_graphs(\"./test_data.bin\")[0][0]"
   ]
  },
  {
   "cell_type": "code",
   "execution_count": null,
   "metadata": {},
   "outputs": [],
   "source": [
    "G_Test = nx.from_pandas_edgelist(X_test, \"saddr\", \"daddr\", ['h', 'label'], create_using=nx.MultiGraph())\n",
    "G_Test = G_Test.to_directed()\n",
    "G_Test = from_networkx(G_Test, edge_attrs=['h', 'label'])"
   ]
  },
  {
   "cell_type": "code",
   "execution_count": null,
   "metadata": {},
   "outputs": [],
   "source": [
    "# Eq1\n",
    "G_Test.ndata['h'] = th.ones(G_Test.num_nodes(), G_Test.edata['h'].shape[1])\n",
    "G_Test.ndata['h'] = th.reshape(G_Test.ndata['h'], (G_Test.ndata['h'].shape[0], 1, G_Test.ndata['h'].shape[1]))\n",
    "G_Test.edata['h'] = th.reshape(G_Test.edata['h'], (G_Test.edata['h'].shape[0], 1, G_Test.edata['h'].shape[1]))"
   ]
  },
  {
   "cell_type": "code",
   "execution_count": null,
   "metadata": {},
   "outputs": [],
   "source": [
    "G_Test.edata['test_mask'] = th.ones(len(G_Test.edata['h']), dtype=th.bool)"
   ]
  },
  {
   "cell_type": "code",
   "execution_count": null,
   "metadata": {},
   "outputs": [],
   "source": [
    "# from dgl.data.utils import save_graphs\n",
    "# save_graphs(\"./test_data.bin\", [G_Test])"
   ]
  },
  {
   "cell_type": "code",
   "execution_count": 64,
   "metadata": {},
   "outputs": [
    {
     "name": "stdout",
     "output_type": "stream",
     "text": [
      "torch.Size([517147, 1, 13])\n",
      "torch.Size([1467410, 1, 13])\n"
     ]
    }
   ],
   "source": [
    "test_node_features = G_Test.ndata['h'].cuda()\n",
    "test_edge_features = G_Test.edata['h'].cuda()\n",
    "\n",
    "test_edge_label = G_Test.edata['label']\n",
    "test_mask = G_Test.edata['test_mask']\n",
    "\n",
    "print(test_node_features.shape)\n",
    "print(test_edge_features.shape)"
   ]
  },
  {
   "cell_type": "code",
   "execution_count": 65,
   "metadata": {},
   "outputs": [],
   "source": [
    "actual = G_Test.edata.pop('label')"
   ]
  },
  {
   "cell_type": "code",
   "execution_count": null,
   "metadata": {},
   "outputs": [],
   "source": []
  },
  {
   "cell_type": "code",
   "execution_count": 66,
   "metadata": {},
   "outputs": [
    {
     "name": "stderr",
     "output_type": "stream",
     "text": [
      "/tmp/ipykernel_10389/107044675.py:21: FutureWarning: You are using `torch.load` with `weights_only=False` (the current default value), which uses the default pickle module implicitly. It is possible to construct malicious pickle data which will execute arbitrary code during unpickling (See https://github.com/pytorch/pytorch/blob/main/SECURITY.md#untrusted-models for more details). In a future release, the default value for `weights_only` will be flipped to `True`. This limits the functions that could be executed during unpickling. Arbitrary objects will no longer be allowed to be loaded via this mode unless they are explicitly allowlisted by the user via `torch.serialization.add_safe_globals`. We recommend you start setting `weights_only=True` for any use case where you don't have full control of the loaded file. Please open an issue on GitHub for any issues related to this experimental feature.\n",
      "  loaded_model.load_state_dict(th.load(SAVE_PATH))\n"
     ]
    },
    {
     "data": {
      "text/plain": [
       "Model(\n",
       "  (gnn): SAGE(\n",
       "    (layers): ModuleList(\n",
       "      (0): SAGELayer(\n",
       "        (W_msg111): Linear(in_features=13, out_features=128, bias=True)\n",
       "        (W_msg): Linear(in_features=141, out_features=128, bias=True)\n",
       "        (W_apply): Linear(in_features=128, out_features=128, bias=True)\n",
       "      )\n",
       "    )\n",
       "    (dropout): Dropout(p=0.2, inplace=False)\n",
       "  )\n",
       "  (pred): FullyConnectedPredictor(\n",
       "    (fc_edge): Linear(in_features=13, out_features=128, bias=True)\n",
       "    (fc): Linear(in_features=256, out_features=5, bias=True)\n",
       "  )\n",
       ")"
      ]
     },
     "execution_count": 66,
     "metadata": {},
     "output_type": "execute_result"
    }
   ],
   "source": [
    "# 假设您已经定义了 Model 类和所有必要的参数\n",
    "\n",
    "# 重新定义模型参数 (必须与保存时一致)\n",
    "node_in_dim = test_node_features.shape[2] # 假设是 35\n",
    "edge_in_dim = test_edge_features.shape[2] # 假设是 35\n",
    "gnn_out_dim = 128\n",
    "num_classes = 5\n",
    "\n",
    "# 1. 实例化模型（使用与训练时相同的参数）\n",
    "loaded_model = Model(\n",
    "    ndim_in=node_in_dim, \n",
    "    ndim_out=gnn_out_dim, \n",
    "    edim=edge_in_dim, \n",
    "    activation=F.relu, \n",
    "    dropout=0.2,\n",
    "    num_classes=num_classes\n",
    ").to('cuda')\n",
    "\n",
    "# 2. 加载状态字典\n",
    "# 如果模型训练时在 GPU 上，加载到 CPU 或当前设备：\n",
    "loaded_model.load_state_dict(th.load(SAVE_PATH))\n",
    "\n",
    "# 3. 将模型设置为评估模式（在进行推理或测试时非常重要）\n",
    "loaded_model.eval() \n",
    "\n",
    "# 4. 如果需要在 GPU 上进行推理，请移动模型\n",
    "# loaded_model.to('cuda')"
   ]
  },
  {
   "cell_type": "code",
   "execution_count": 67,
   "metadata": {},
   "outputs": [],
   "source": [
    "# X_test[cols_to_norm] = scaler.transform(X_test[cols_to_norm])\n",
    "\n",
    "# X_test['label'] = y_test\n",
    "# X_test['h'] = X_test[cols_to_norm].values.tolist()\n",
    "\n",
    "# G_test = nx.from_pandas_edgelist(X_test, \"saddr\", \"daddr\", ['h', 'label'], create_using=nx.MultiGraph())\n",
    "# G_test = G_test.to_directed()\n",
    "# G_test = from_networkx(G_test, edge_attrs=['h', 'label'])\n",
    "# G_test.ndata['feature'] = th.ones(G_test.num_nodes(), G.ndata['h'].shape[2])\n",
    "\n",
    "# G_test.ndata['feature'] = th.reshape(G_test.ndata['feature'],\n",
    "#                                      (G_test.ndata['feature'].shape[0], 1, G_test.ndata['feature'].shape[1]))\n",
    "# G_test.edata['h'] = th.reshape(G_test.edata['h'], (G_test.edata['h'].shape[0], 1, G_test.edata['h'].shape[1]))\n"
   ]
  },
  {
   "cell_type": "code",
   "execution_count": 68,
   "metadata": {},
   "outputs": [
    {
     "name": "stdout",
     "output_type": "stream",
     "text": [
      "2.767412011999113 seconds\n"
     ]
    }
   ],
   "source": [
    "import timeit\n",
    "G_Test = G_Test.to('cuda')\n",
    "start_time = timeit.default_timer()\n",
    "# node_features_test = G_Test.ndata['feature'].cuda()\n",
    "# edge_features_test = G_Test.edata['h'].cuda()\n",
    "test_pred = loaded_model(G_Test, test_node_features, test_edge_features).to('cuda')\n",
    "elapsed = timeit.default_timer() - start_time\n",
    "\n",
    "print(str(elapsed) + ' seconds')\n",
    "\n",
    "test_pred = test_pred.argmax(1)\n",
    "test_pred = th.Tensor.cpu(test_pred).detach().numpy()"
   ]
  },
  {
   "cell_type": "code",
   "execution_count": 69,
   "metadata": {},
   "outputs": [
    {
     "name": "stdout",
     "output_type": "stream",
     "text": [
      "输出混淆矩阵\n",
      "[[770126    398      0     94      0]\n",
      " [   910 659308      2      4      0]\n",
      " [    22      2    190      0      0]\n",
      " [  8070      6      0  28250      0]\n",
      " [    22      0      0      6      0]]\n"
     ]
    }
   ],
   "source": [
    "print(\"输出混淆矩阵\")\n",
    "from sklearn.metrics import confusion_matrix\n",
    "cm = confusion_matrix(actual, test_pred)\n",
    "print(cm)"
   ]
  },
  {
   "cell_type": "code",
   "execution_count": 70,
   "metadata": {},
   "outputs": [
    {
     "name": "stdout",
     "output_type": "stream",
     "text": [
      "计算评价指标\n",
      "over\n"
     ]
    },
    {
     "name": "stderr",
     "output_type": "stream",
     "text": [
      "/tmp/ipykernel_10389/1725162759.py:11: RuntimeWarning: invalid value encountered in divide\n",
      "  precision_per_class = np.diag(conf_matrix) / np.sum(conf_matrix, axis=0)\n"
     ]
    }
   ],
   "source": [
    "print(\"计算评价指标\")\n",
    "import numpy as np\n",
    "# from tabulate import tabulate\n",
    "\n",
    "conf_matrix = cm\n",
    "\n",
    "# 计算评估指标\n",
    "accuracy = np.sum(np.diag(conf_matrix)) / np.sum(conf_matrix)\n",
    "recall_per_class = np.diag(conf_matrix) / np.sum(conf_matrix, axis=1)\n",
    "recall = np.mean(recall_per_class)\n",
    "precision_per_class = np.diag(conf_matrix) / np.sum(conf_matrix, axis=0)\n",
    "f1_per_class = 2 * (precision_per_class * recall_per_class) / (precision_per_class + recall_per_class)\n",
    "class_counts = np.sum(conf_matrix, axis=1)\n",
    "weighted_f1 = np.sum(f1_per_class * class_counts) / np.sum(class_counts)\n",
    "\n",
    "table_data = []\n",
    "for i in range(len(recall_per_class)):\n",
    "    table_data.append([f\"类别 {i}\",\n",
    "                       np.round(np.diag(conf_matrix)[i] / np.sum(conf_matrix[i]), 3),\n",
    "                       np.round(recall_per_class[i], 3),\n",
    "                       np.round(precision_per_class[i], 3),\n",
    "                       np.round(f1_per_class[i], 3)])\n",
    "\n",
    "table_data.append([\"平均\", np.round(accuracy, 3), np.round(recall, 3), np.round(np.mean(precision_per_class), 3),\n",
    "                   np.round(weighted_f1, 3)])\n",
    "\n",
    "headers = [\"类别\", \"准确率\", \"召回率\", \"精确率\", \"加权平均F1值\"]\n",
    "# print(tabulate(table_data, headers=headers, floatfmt=\".3f\", tablefmt=\"pretty\", numalign='center'))\n",
    "\n",
    "print('over')"
   ]
  },
  {
   "cell_type": "code",
   "execution_count": 71,
   "metadata": {},
   "outputs": [
    {
     "name": "stdout",
     "output_type": "stream",
     "text": [
      "target_names [0 1 2 3 4]\n"
     ]
    },
    {
     "data": {
      "image/png": "[encoded data removed]",
      "text/plain": [
       "<Figure size 1200x1200 with 2 Axes>"
      ]
     },
     "metadata": {},
     "output_type": "display_data"
    },
    {
     "name": "stderr",
     "output_type": "stream",
     "text": [
      "/opt/conda/lib/python3.11/site-packages/sklearn/metrics/_classification.py:1731: UndefinedMetricWarning: Precision is ill-defined and being set to 0.0 in labels with no predicted samples. Use `zero_division` parameter to control this behavior.\n",
      "  _warn_prf(average, modifier, f\"{metric.capitalize()} is\", result.shape[0])\n",
      "/opt/conda/lib/python3.11/site-packages/sklearn/metrics/_classification.py:1731: UndefinedMetricWarning: Precision is ill-defined and being set to 0.0 in labels with no predicted samples. Use `zero_division` parameter to control this behavior.\n",
      "  _warn_prf(average, modifier, f\"{metric.capitalize()} is\", result.shape[0])\n",
      "/opt/conda/lib/python3.11/site-packages/sklearn/metrics/_classification.py:1731: UndefinedMetricWarning: Precision is ill-defined and being set to 0.0 in labels with no predicted samples. Use `zero_division` parameter to control this behavior.\n",
      "  _warn_prf(average, modifier, f\"{metric.capitalize()} is\", result.shape[0])\n"
     ]
    },
    {
     "name": "stdout",
     "output_type": "stream",
     "text": [
      "              precision    recall  f1-score   support\n",
      "\n",
      "           0     0.9884    0.9994    0.9939    770618\n",
      "           1     0.9994    0.9986    0.9990    660224\n",
      "           2     0.9896    0.8879    0.9360       214\n",
      "           3     0.9963    0.7777    0.8735     36326\n",
      "           4     0.0000    0.0000    0.0000        28\n",
      "\n",
      "    accuracy                         0.9935   1467410\n",
      "   macro avg     0.7947    0.7327    0.7605   1467410\n",
      "weighted avg     0.9935    0.9935    0.9932   1467410\n",
      "\n"
     ]
    },
    {
     "name": "stderr",
     "output_type": "stream",
     "text": [
      "/opt/conda/lib/python3.11/site-packages/sklearn/metrics/_classification.py:1731: UndefinedMetricWarning: Precision is ill-defined and being set to 0.0 in labels with no predicted samples. Use `zero_division` parameter to control this behavior.\n",
      "  _warn_prf(average, modifier, f\"{metric.capitalize()} is\", result.shape[0])\n",
      "/opt/conda/lib/python3.11/site-packages/sklearn/metrics/_classification.py:1731: UndefinedMetricWarning: Precision is ill-defined and being set to 0.0 in labels with no predicted samples. Use `zero_division` parameter to control this behavior.\n",
      "  _warn_prf(average, modifier, f\"{metric.capitalize()} is\", result.shape[0])\n",
      "/opt/conda/lib/python3.11/site-packages/sklearn/metrics/_classification.py:1731: UndefinedMetricWarning: Precision is ill-defined and being set to 0.0 in labels with no predicted samples. Use `zero_division` parameter to control this behavior.\n",
      "  _warn_prf(average, modifier, f\"{metric.capitalize()} is\", result.shape[0])\n"
     ]
    }
   ],
   "source": [
    "import numpy as np\n",
    "import pandas as pd\n",
    "\n",
    "def plot_confusion_matrix(cm,\n",
    "                          target_names,\n",
    "                          title='Confusion matrix',\n",
    "                          cmap=None,\n",
    "                          normalize=True):\n",
    "    import matplotlib.pyplot as plt\n",
    "    import numpy as np\n",
    "    import itertools\n",
    "\n",
    "    accuracy = np.trace(cm) / float(np.sum(cm))\n",
    "    misclass = 1 - accuracy\n",
    "\n",
    "    if cmap is None:\n",
    "        cmap = plt.get_cmap('Blues')\n",
    "\n",
    "    plt.figure(figsize=(12, 12))\n",
    "    plt.imshow(cm, interpolation='nearest', cmap=cmap)\n",
    "    plt.title(title)\n",
    "    plt.colorbar()\n",
    "\n",
    "    if target_names is not None:\n",
    "        tick_marks = np.arange(len(target_names))\n",
    "        plt.xticks(tick_marks, target_names, rotation=45)\n",
    "        plt.yticks(tick_marks, target_names)\n",
    "\n",
    "    if normalize:\n",
    "        cm = cm.astype('float') / cm.sum(axis=1)[:, np.newaxis]\n",
    "\n",
    "    thresh = cm.max() / 1.5 if normalize else cm.max() / 2\n",
    "    for i, j in itertools.product(range(cm.shape[0]), range(cm.shape[1])):\n",
    "        if normalize:\n",
    "            plt.text(j, i, \"{:0.4f}\".format(cm[i, j]),\n",
    "                     horizontalalignment=\"center\",\n",
    "                     color=\"white\" if cm[i, j] > thresh else \"black\")\n",
    "        else:\n",
    "            plt.text(j, i, \"{:,}\".format(cm[i, j]),\n",
    "                     horizontalalignment=\"center\",\n",
    "                     color=\"white\" if cm[i, j] > thresh else \"black\")\n",
    "\n",
    "    plt.tight_layout()\n",
    "    plt.ylabel('True label')\n",
    "    plt.xlabel('Predicted label\\naccuracy={:0.4f}; misclass={:0.4f}'.format(accuracy, misclass))\n",
    "    plt.show()\n",
    "\n",
    "\n",
    "from sklearn.metrics import confusion_matrix\n",
    "\n",
    "print(\"target_names\",np.unique(actual))\n",
    "plot_confusion_matrix(cm=confusion_matrix(actual, test_pred),\n",
    "                      normalize=False,\n",
    "                      target_names=np.unique(actual),\n",
    "                      title=\"Confusion Matrix\")\n",
    "\n",
    "from sklearn.metrics import classification_report\n",
    "print(classification_report(actual, test_pred, digits=4))\n",
    "report = classification_report(actual, test_pred, digits=4, output_dict=True)\n",
    "df = pd.DataFrame(report).transpose()"
   ]
  },
  {
   "cell_type": "code",
   "execution_count": null,
   "metadata": {},
   "outputs": [],
   "source": []
  }
 ],
 "metadata": {
  "kernelspec": {
   "display_name": "Python 3 (ipykernel)",
   "language": "python",
   "name": "python3"
  },
  "language_info": {
   "codemirror_mode": {
    "name": "ipython",
    "version": 3
   },
   "file_extension": ".py",
   "mimetype": "text/x-python",
   "name": "python",
   "nbconvert_exporter": "python",
   "pygments_lexer": "ipython3",
   "version": "3.11.9"
  }
 },
 "nbformat": 4,
 "nbformat_minor": 4
}
