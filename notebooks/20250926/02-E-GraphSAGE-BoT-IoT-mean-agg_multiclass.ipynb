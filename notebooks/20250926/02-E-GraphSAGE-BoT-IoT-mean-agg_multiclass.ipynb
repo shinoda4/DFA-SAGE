{
 "cells": [
  {
   "cell_type": "code",
   "execution_count": null,
   "metadata": {},
   "outputs": [],
   "source": [
    "%pip install scikit-learn seaborn dgl -f https://data.dgl.ai/wheels/torch-2.4/cu124/repo.html"
   ]
  },
  {
   "cell_type": "code",
   "execution_count": null,
   "metadata": {},
   "outputs": [],
   "source": [
    "import dgl.nn as dglnn\n",
    "from dgl import from_networkx\n",
    "import torch.nn as nn\n",
    "import torch as th\n",
    "import torch.nn.functional as F\n",
    "import dgl.function as fn\n",
    "from dgl.data.utils import load_graphs\n",
    "import networkx as nx\n",
    "import pandas as pd\n",
    "import socket\n",
    "import struct\n",
    "import random\n",
    "from sklearn.preprocessing import LabelEncoder\n",
    "from sklearn.model_selection import train_test_split\n",
    "from sklearn.preprocessing import StandardScaler, MinMaxScaler\n",
    "import seaborn as sns\n",
    "import matplotlib.pyplot as plt\n",
    "import numpy as np"
   ]
  },
  {
   "cell_type": "code",
   "execution_count": null,
   "metadata": {},
   "outputs": [],
   "source": [
    "# data = pd.read_csv('./bot.csv')\n",
    "import pandas as pd\n",
    "from glob import glob\n",
    "\n",
    "# 读取所有 Full5pc 的 CSV（例如 Full5pc_1, Full5pc_2, ...）\n",
    "files = glob(\"./bot/UNSW_2018_IoT_Botnet_Final_10_best_Training.csv\")\n",
    "dfs = [pd.read_csv(f) for f in files]\n",
    "data = pd.concat(dfs, ignore_index=True)\n",
    "\n",
    "print(\"总样本数:\", len(data))\n",
    "print(\"字段:\", data.columns.tolist())\n",
    "print(data['category'].value_counts())  # 看攻击类别分布"
   ]
  },
  {
   "cell_type": "code",
   "execution_count": null,
   "metadata": {},
   "outputs": [],
   "source": [
    "print(\"字段:\", data.columns.tolist())\n",
    "print(\"Shape: \", data.columns.shape)"
   ]
  },
  {
   "cell_type": "code",
   "execution_count": null,
   "metadata": {},
   "outputs": [],
   "source": [
    "# data.drop(columns=['sport', 'dport'], inplace=True)"
   ]
  },
  {
   "cell_type": "code",
   "execution_count": null,
   "metadata": {},
   "outputs": [],
   "source": [
    "data.category.value_counts()"
   ]
  },
  {
   "cell_type": "code",
   "execution_count": null,
   "metadata": {},
   "outputs": [],
   "source": [
    "le = LabelEncoder()\n",
    "le.fit_transform(data.category.values)\n",
    "data['category'] = le.transform(data['category'])"
   ]
  },
  {
   "cell_type": "code",
   "execution_count": null,
   "metadata": {},
   "outputs": [],
   "source": [
    "data['category'].value_counts()"
   ]
  },
  {
   "cell_type": "code",
   "execution_count": null,
   "metadata": {},
   "outputs": [],
   "source": [
    "le.fit_transform(data.proto.values)\n",
    "data['proto'] = le.transform(data['proto'])"
   ]
  },
  {
   "cell_type": "code",
   "execution_count": null,
   "metadata": {},
   "outputs": [],
   "source": [
    "data['proto'].value_counts()"
   ]
  },
  {
   "cell_type": "code",
   "execution_count": null,
   "metadata": {},
   "outputs": [],
   "source": [
    "data['saddr'] = data.saddr.apply(str)\n",
    "data['daddr'] = data.daddr.apply(str)"
   ]
  },
  {
   "cell_type": "code",
   "execution_count": null,
   "metadata": {},
   "outputs": [],
   "source": [
    "data['saddr'] = data.saddr.apply(lambda x: socket.inet_ntoa(struct.pack('>I', random.randint(0xac100001, 0xac1f0001))))"
   ]
  },
  {
   "cell_type": "code",
   "execution_count": null,
   "metadata": {},
   "outputs": [],
   "source": [
    "data = data.reset_index()\n",
    "data.replace([np.inf, -np.inf], np.nan,inplace = True)"
   ]
  },
  {
   "cell_type": "code",
   "execution_count": null,
   "metadata": {},
   "outputs": [],
   "source": [
    "data.fillna(0,inplace = True)"
   ]
  },
  {
   "cell_type": "code",
   "execution_count": null,
   "metadata": {},
   "outputs": [],
   "source": [
    "# label_ground_truth = data[[\"saddr\", \"daddr\",\"label\"]]"
   ]
  },
  {
   "cell_type": "code",
   "execution_count": null,
   "metadata": {},
   "outputs": [],
   "source": [
    "data.drop(columns=['index'],inplace=True)"
   ]
  },
  {
   "cell_type": "code",
   "execution_count": null,
   "metadata": {},
   "outputs": [],
   "source": [
    "print(\"字段:\", data.columns.tolist())\n",
    "print(\"Shape: \", data.columns.shape)"
   ]
  },
  {
   "cell_type": "code",
   "execution_count": null,
   "metadata": {},
   "outputs": [],
   "source": [
    "data"
   ]
  },
  {
   "cell_type": "code",
   "execution_count": null,
   "metadata": {},
   "outputs": [],
   "source": [
    "labels = data[\"category\"]\n",
    "labels"
   ]
  },
  {
   "cell_type": "code",
   "execution_count": null,
   "metadata": {},
   "outputs": [],
   "source": [
    "\n",
    "features = data.drop(columns=[\"category\", \"subcategory\"])\n",
    "features = features.drop(['saddr', 'daddr'], axis=1)\n",
    "features"
   ]
  },
  {
   "cell_type": "code",
   "execution_count": null,
   "metadata": {},
   "outputs": [],
   "source": [
    "print(\"字段:\", features.columns.tolist())\n",
    "print(\"Shape: \", features.columns.shape)"
   ]
  },
  {
   "cell_type": "code",
   "execution_count": null,
   "metadata": {},
   "outputs": [],
   "source": [
    "features.columns"
   ]
  },
  {
   "cell_type": "code",
   "execution_count": null,
   "metadata": {},
   "outputs": [],
   "source": [
    "num_features = features.select_dtypes(include=[np.number])\n",
    "features_array = num_features.values.astype(np.float32)\n",
    "\n",
    "# features_array = features.values.astype(np.float32)\n",
    "labels_array = labels.values.astype(np.int64)  # 如果标签是整数型，可以使用 np.long 类型"
   ]
  },
  {
   "cell_type": "code",
   "execution_count": null,
   "metadata": {},
   "outputs": [],
   "source": [
    "features_array.shape"
   ]
  },
  {
   "cell_type": "code",
   "execution_count": null,
   "metadata": {},
   "outputs": [],
   "source": [
    "labels_array.shape"
   ]
  },
  {
   "cell_type": "code",
   "execution_count": null,
   "metadata": {},
   "outputs": [],
   "source": [
    "scaler = StandardScaler()\n",
    "standardized_data = scaler.fit_transform(features_array)\n",
    "min_max_scaler = MinMaxScaler()\n",
    "normalized_data = min_max_scaler.fit_transform(standardized_data)"
   ]
  },
  {
   "cell_type": "code",
   "execution_count": null,
   "metadata": {},
   "outputs": [],
   "source": [
    "import torch\n",
    "features_tensor = torch.tensor(normalized_data, dtype=torch.float32)\n",
    "labels_tensor = torch.tensor(labels_array, dtype=torch.long)  # 如果标签是整数型，可以使用 torch.long 类型"
   ]
  },
  {
   "cell_type": "code",
   "execution_count": null,
   "metadata": {},
   "outputs": [],
   "source": [
    "features_tensor = pd.concat([data[['saddr', 'daddr']].reset_index(drop=True), pd.DataFrame(features_tensor.numpy())], axis=1)"
   ]
  },
  {
   "cell_type": "code",
   "execution_count": null,
   "metadata": {},
   "outputs": [],
   "source": [
    "X_train = features_tensor\n",
    "y_train = labels_tensor"
   ]
  },
  {
   "cell_type": "code",
   "execution_count": null,
   "metadata": {},
   "outputs": [],
   "source": [
    "train_ds = len(X_train)"
   ]
  },
  {
   "cell_type": "code",
   "execution_count": null,
   "metadata": {},
   "outputs": [],
   "source": [
    "cols_to_norm = list(set(list(X_train.iloc[:, 2:].columns)) - set(list(['label'])))\n",
    "X_train[cols_to_norm] = scaler.fit_transform(X_train[cols_to_norm])"
   ]
  },
  {
   "cell_type": "code",
   "execution_count": null,
   "metadata": {},
   "outputs": [],
   "source": [
    "X_train['label'] = y_train\n",
    "X_train['h'] = X_train[cols_to_norm].values.tolist()"
   ]
  },
  {
   "cell_type": "code",
   "execution_count": null,
   "metadata": {},
   "outputs": [],
   "source": [
    "X_train"
   ]
  },
  {
   "cell_type": "code",
   "execution_count": null,
   "metadata": {},
   "outputs": [],
   "source": [
    "from dgl.data.utils import load_graphs   \n",
    "G = load_graphs(\"./data.bin\")[0][0]"
   ]
  },
  {
   "cell_type": "code",
   "execution_count": null,
   "metadata": {},
   "outputs": [],
   "source": []
  },
  {
   "cell_type": "code",
   "execution_count": null,
   "metadata": {},
   "outputs": [],
   "source": [
    "G = nx.from_pandas_edgelist(X_train, \"saddr\", \"daddr\", ['h', 'label'], create_using=nx.MultiGraph())\n",
    "G = G.to_directed()\n",
    "G = from_networkx(G, edge_attrs=['h', 'label'])"
   ]
  },
  {
   "cell_type": "code",
   "execution_count": null,
   "metadata": {},
   "outputs": [],
   "source": [
    "# Eq1\n",
    "G.ndata['h'] = th.ones(G.num_nodes(), G.edata['h'].shape[1])\n",
    "G.ndata['h'] = th.reshape(G.ndata['h'], (G.ndata['h'].shape[0], 1, G.ndata['h'].shape[1]))\n",
    "G.edata['h'] = th.reshape(G.edata['h'], (G.edata['h'].shape[0], 1, G.edata['h'].shape[1]))"
   ]
  },
  {
   "cell_type": "code",
   "execution_count": null,
   "metadata": {},
   "outputs": [],
   "source": [
    "G.edata['train_mask'] = th.ones(len(G.edata['h']), dtype=th.bool)"
   ]
  },
  {
   "cell_type": "code",
   "execution_count": null,
   "metadata": {},
   "outputs": [],
   "source": []
  },
  {
   "cell_type": "code",
   "execution_count": null,
   "metadata": {},
   "outputs": [],
   "source": [
    "# from dgl.data.utils import save_graphs\n",
    "# save_graphs(\"./data.bin\", [G])"
   ]
  },
  {
   "cell_type": "code",
   "execution_count": null,
   "metadata": {
    "scrolled": true
   },
   "outputs": [],
   "source": [
    "node_features = G.ndata['h']\n",
    "edge_features = G.edata['h']\n",
    "\n",
    "edge_label = G.edata['label']\n",
    "train_mask = G.edata['train_mask']\n",
    "\n",
    "print(node_features.shape)\n",
    "print(edge_features.shape)"
   ]
  },
  {
   "cell_type": "code",
   "execution_count": 4,
   "metadata": {},
   "outputs": [],
   "source": [
    "import torch\n",
    "import torch as th\n",
    "import torch.nn as nn\n",
    "import torch.nn.functional as F\n",
    "import dgl.function as fn\n",
    "\n",
    "# --- 1. SAGELayer (Modified) ---\n",
    "class SAGELayer(nn.Module):\n",
    "    # edim是边的特征维度\n",
    "    # ndim_in是输入节点特征维度\n",
    "    # ndim_out是输出节点特征维度\n",
    "    def __init__(self, ndim_in, edims, ndim_out, activation):\n",
    "        super(SAGELayer, self).__init__()\n",
    "        \n",
    "        # 消息函数 W_msg 接收拼接后的特征：源节点特征(ndim_in) + 边特征(edims)\n",
    "        self.W_msg = nn.Linear(ndim_in + edims, ndim_out) \n",
    "        \n",
    "        # 激活函数\n",
    "        self.activation = activation\n",
    "\n",
    "        # 标准 GraphSAGE 的 'apply' 操作是拼接 self 和 neigh，然后进行线性变换\n",
    "        # 我们这里使用 GAT/GCN 的简单方式：直接对聚合后的特征进行线性变换 (W_apply)\n",
    "        # 如果使用'self-attention'，则需要增加一个针对 'h_self' 的变换，这里简化为只用聚合特征\n",
    "        \n",
    "        # 聚合后的特征维度就是 ndim_out\n",
    "        # W_apply 接收聚合后的特征 (ndim_out)，并将其变换到最终的 ndim_out\n",
    "        # 为了兼容原始代码中复杂的相加操作，我们将输出结果直接作为最终的特征\n",
    "        self.W_apply = nn.Linear(ndim_out, ndim_out)\n",
    "\n",
    "    # 消息函数: 拼接源节点特征和边特征\n",
    "    def message_func(self, edges):\n",
    "        # edges.src['h'] 是 [B, 1, F_src], edges.data['h'] 是 [B, 1, F_edge]\n",
    "        \n",
    "        # 1. 移除维度 1: [B, 1, F] -> [B, F]\n",
    "        src_h = edges.src['h'].squeeze(1) # [B, ndim_in]\n",
    "        edge_h = edges.data['h'].squeeze(1) # [B, edims]\n",
    "        \n",
    "        # 2. 拼接\n",
    "        concatenated = th.cat([src_h, edge_h], dim=1) # [B, ndim_in + edims]\n",
    "        \n",
    "        # 3. 线性变换\n",
    "        # 消息 'm' 的维度为 ndim_out\n",
    "        return {'m': self.W_msg(concatenated).unsqueeze(1)} # 恢复 [B, 1, ndim_out] 形状\n",
    "\n",
    "    def forward(self, g_dgl, nfeats, efeats):\n",
    "        with g_dgl.local_scope():\n",
    "            g = g_dgl\n",
    "            \n",
    "            # 修正输入特征的形状: [N, 1, F] -> [N, F] \n",
    "            # DGL 的 ndata/edata 应该存储 [N, F]，但在 message_func/apply_edges 中使用时需要处理\n",
    "            g.ndata['h'] = nfeats\n",
    "            g.edata['h'] = efeats\n",
    "\n",
    "            # 聚合邻居节点特征\n",
    "            g.update_all(self.message_func, fn.mean('m', 'h_neigh'))\n",
    "\n",
    "            h_neigh = g.ndata['h_neigh'] # [N, 1, ndim_out]\n",
    "            \n",
    "            # W_apply操作: 移除维度1，进行线性变换，再恢复维度1\n",
    "            h_neigh_squeezed = h_neigh.squeeze(1) # [N, ndim_out]\n",
    "            \n",
    "            # 核心 GraphSAGE 'apply' 步骤\n",
    "            h_new = self.W_apply(h_neigh_squeezed) # [N, ndim_out]\n",
    "            \n",
    "            # 应用激活函数并恢复形状\n",
    "            g.ndata['h'] = self.activation(h_new).unsqueeze(1) # [N, 1, ndim_out]\n",
    "\n",
    "            return g.ndata['h']\n",
    "\n",
    "# --- 2. SAGE (Simplified) ---\n",
    "class SAGE(nn.Module):\n",
    "    def __init__(self, ndim_in, ndim_out, edim, activation, dropout):\n",
    "        super(SAGE, self).__init__()\n",
    "        self.layers = nn.ModuleList()\n",
    "        # 这里只保留一层 GNN，使其输出 ndim_out 维特征\n",
    "        self.layers.append(SAGELayer(ndim_in, edim, ndim_out, activation))\n",
    "        self.dropout = nn.Dropout(p=dropout)\n",
    "\n",
    "    def forward(self, g, nfeats, efeats):\n",
    "        for i, layer in enumerate(self.layers):\n",
    "            if i != 0:\n",
    "                # Dropout 应该在 GNN 层之间作用于节点特征，这里只有一层，可忽略\n",
    "                nfeats = self.dropout(nfeats) \n",
    "            nfeats = layer(g, nfeats, efeats)\n",
    "            \n",
    "        # 最终输出的形状是 [N, 1, ndim_out]，将其挤压为 [N, ndim_out]\n",
    "        return nfeats.squeeze(1)\n",
    "\n",
    "\n",
    "# --- 3. FullyConnectedPredictor (Modified) ---\n",
    "class FullyConnectedPredictor(nn.Module):\n",
    "    # in_features 是 GNN 层的输出维度 (ndim_out)\n",
    "    def __init__(self, in_features, out_classes, edge_dim):\n",
    "        super().__init__()\n",
    "        \n",
    "        # 边特征的预处理层: 原始维度 edge_dim -> 匹配节点特征维度 in_features\n",
    "        self.fc_edge = nn.Linear(edge_dim, in_features)\n",
    "        \n",
    "        # 预测层: 接收 [源节点特征 + 目标节点特征 + 转换后的边特征]\n",
    "        # 维度: in_features + in_features + in_features = 3 * in_features\n",
    "        self.fc = nn.Linear(3 * in_features, out_classes)\n",
    "\n",
    "    def apply_edges(self, edges):\n",
    "        # 节点特征来自 GNN 输出，形状为 [B, in_features]\n",
    "        h_u = edges.src['h'] # [B, in_features]\n",
    "        h_v = edges.dst['h'] # [B, in_features]\n",
    "        \n",
    "        # 边特征来自原始输入，形状为 [B, 1, edge_dim]，需要修正\n",
    "        h_e_raw = edges.data['h'].squeeze(1) # [B, edge_dim]\n",
    "        \n",
    "        # 转换边特征维度\n",
    "        h_e_transformed = self.fc_edge(h_e_raw) # [B, in_features]\n",
    "        \n",
    "        # 拼接特征\n",
    "        concatenated = th.cat([h_u, h_v, h_e_transformed], 1) # [B, 3 * in_features]\n",
    "        \n",
    "        # 预测分数\n",
    "        score = self.fc(concatenated) # [B, out_classes]\n",
    "        return {'score': score}\n",
    "\n",
    "    def forward(self, graph, h):\n",
    "        with graph.local_scope():\n",
    "            # h 的形状是 [N, ndim_out]\n",
    "            graph.ndata['h'] = h\n",
    "            # 原始边特征 G.edata['h'] 已经在 main loop 中传入，这里直接使用\n",
    "            graph.apply_edges(self.apply_edges)\n",
    "            return graph.edata['score']"
   ]
  },
  {
   "cell_type": "code",
   "execution_count": null,
   "metadata": {},
   "outputs": [],
   "source": [
    "from sklearn.utils import class_weight\n",
    "\n",
    "class_weights = class_weight.compute_class_weight('balanced',\n",
    "                                                  classes=np.unique(G.edata['label'].cpu().numpy()),\n",
    "                                                  y=G.edata['label'].cpu().numpy())\n",
    "\n",
    "class_weights = th.FloatTensor(class_weights)\n",
    "criterion = nn.CrossEntropyLoss().cuda()\n",
    "# criterion = nn.CrossEntropyLoss(weight=class_weights).cuda()"
   ]
  },
  {
   "cell_type": "code",
   "execution_count": null,
   "metadata": {},
   "outputs": [],
   "source": [
    "def compute_accuracy(pred, labels):\n",
    "    return (pred.argmax(1) == labels).float().mean().item()"
   ]
  },
  {
   "cell_type": "code",
   "execution_count": null,
   "metadata": {},
   "outputs": [],
   "source": [
    "node_features = node_features.cuda()\n",
    "edge_features = edge_features.cuda()\n",
    "edge_label = edge_label.cuda()\n",
    "train_mask = train_mask.cuda()\n",
    "G = G.to('cuda')"
   ]
  },
  {
   "cell_type": "code",
   "execution_count": null,
   "metadata": {},
   "outputs": [],
   "source": [
    "# --- 4. Model and Training (Modified) ---\n",
    "# 定义 GNN 的输入/输出维度\n",
    "node_in_dim = node_features.shape[2]  # 13 (节点特征的最后一维)\n",
    "edge_in_dim = edge_features.shape[2]  # 13 (边特征的最后一维)\n",
    "gnn_out_dim = 128                     # GNN 输出特征维度\n",
    "num_classes = 5                       # 预测的类别数量"
   ]
  },
  {
   "cell_type": "code",
   "execution_count": 5,
   "metadata": {},
   "outputs": [],
   "source": [
    "class Model(nn.Module):\n",
    "    def __init__(self, ndim_in, ndim_out, edim, activation, dropout, num_classes):\n",
    "        super().__init__()\n",
    "        # ndim_out 统一为 GNN 层的输出维度 (128)\n",
    "        self.gnn = SAGE(ndim_in, ndim_out, edim, activation, dropout) \n",
    "        \n",
    "        # 预测器需要 GNN 输出的特征维度 (ndim_out) 和 原始的边特征维度 (edim)\n",
    "        self.pred = FullyConnectedPredictor(ndim_out, num_classes, edim) \n",
    "\n",
    "    def forward(self, g, nfeats, efeats):\n",
    "        # h 的形状是 [N, ndim_out]，即 [861438, 128]\n",
    "        h = self.gnn(g, nfeats, efeats)\n",
    "        \n",
    "        # 预测器需要 g 和 h，同时将原始边特征 efeats 存储在 graph.edata['h'] 中供 apply_edges 使用\n",
    "        # 注意: 边特征 efeats 必须作为原始数据传入，因为它在 apply_edges 中被再次访问\n",
    "        return self.pred(g, h)"
   ]
  },
  {
   "cell_type": "code",
   "execution_count": null,
   "metadata": {},
   "outputs": [],
   "source": [
    "\n",
    "\n",
    "\n",
    "\n",
    "\n",
    "# 实例化模型\n",
    "model = Model(\n",
    "    ndim_in=node_in_dim, \n",
    "    ndim_out=gnn_out_dim, \n",
    "    edim=edge_in_dim, \n",
    "    activation=F.relu, \n",
    "    dropout=0.2,\n",
    "    num_classes=num_classes\n",
    ").to('cuda')\n",
    "\n",
    "# 优化器\n",
    "opt = th.optim.Adam(model.parameters())\n",
    "\n",
    "# 训练循环 (保持不变)\n",
    "losses = []\n",
    "accuracies = []\n",
    "\n",
    "for epoch in range(1, 100):\n",
    "    pred = model(G, node_features, edge_features)\n",
    "    loss = criterion(pred[train_mask], edge_label[train_mask])\n",
    "    opt.zero_grad()\n",
    "    loss.backward()\n",
    "    opt.step()\n",
    "\n",
    "    # 记录损失和准确率\n",
    "    losses.append(loss.item())\n",
    "    acc = compute_accuracy(pred[train_mask], edge_label[train_mask])\n",
    "    accuracies.append(acc)\n",
    "\n",
    "    if epoch % 1 == 0:\n",
    "        # if epoch % 100 == 0:\n",
    "        #     th.save(model.state_dict(), os.path.join('./model', 'epoch-{}.pt'.format(epoch)))\n",
    "        print('Epoch:', epoch, ' Training acc:', compute_accuracy(pred[train_mask], edge_label[train_mask]))\n"
   ]
  },
  {
   "cell_type": "code",
   "execution_count": 7,
   "metadata": {},
   "outputs": [],
   "source": [
    "import torch as th\n",
    "import os\n",
    "\n",
    "# 定义保存路径\n",
    "MODEL_DIR = './saved_models'\n",
    "MODEL_NAME = 'edge_predictor_sage_final.pt'\n",
    "SAVE_PATH = os.path.join(MODEL_DIR, MODEL_NAME)"
   ]
  },
  {
   "cell_type": "code",
   "execution_count": null,
   "metadata": {},
   "outputs": [],
   "source": [
    "\n",
    "\n",
    "# 确保目录存在\n",
    "os.makedirs(MODEL_DIR, exist_ok=True)\n",
    "\n",
    "# 保存模型的状态字典\n",
    "# model 是您训练好的 Model 实例\n",
    "th.save(model.state_dict(), SAVE_PATH)\n",
    "\n",
    "print(f\"模型已成功保存到: {SAVE_PATH}\")"
   ]
  },
  {
   "cell_type": "code",
   "execution_count": null,
   "metadata": {},
   "outputs": [],
   "source": [
    "# data = pd.read_csv('./bot.csv')\n",
    "import pandas as pd\n",
    "from glob import glob\n",
    "\n",
    "# 读取所有 Full5pc 的 CSV（例如 Full5pc_1, Full5pc_2, ...）\n",
    "test_files = glob(\"./bot/UNSW_2018_IoT_Botnet_Final_10_best_Testing.csv\")\n",
    "test_dfs = [pd.read_csv(f) for f in test_files]\n",
    "test_data = pd.concat(test_dfs, ignore_index=True)\n",
    "\n",
    "print(\"总样本数:\", len(test_data))\n",
    "print(\"字段:\", test_data.columns.tolist())\n",
    "print(test_data['category'].value_counts())  # 看攻击类别分布"
   ]
  },
  {
   "cell_type": "code",
   "execution_count": null,
   "metadata": {},
   "outputs": [],
   "source": [
    "le = LabelEncoder()\n",
    "le.fit_transform(test_data.category.values)\n",
    "test_data['category'] = le.transform(test_data['category'])"
   ]
  },
  {
   "cell_type": "code",
   "execution_count": null,
   "metadata": {},
   "outputs": [],
   "source": [
    "le.fit_transform(test_data.proto.values)\n",
    "test_data['proto'] = le.transform(test_data['proto'])"
   ]
  },
  {
   "cell_type": "code",
   "execution_count": null,
   "metadata": {},
   "outputs": [],
   "source": [
    "test_data['saddr'] = test_data.saddr.apply(str)\n",
    "test_data['daddr'] = test_data.daddr.apply(str)"
   ]
  },
  {
   "cell_type": "code",
   "execution_count": null,
   "metadata": {},
   "outputs": [],
   "source": [
    "test_data['saddr'] = test_data.saddr.apply(lambda x: socket.inet_ntoa(struct.pack('>I', random.randint(0xac100001, 0xac1f0001))))"
   ]
  },
  {
   "cell_type": "code",
   "execution_count": null,
   "metadata": {},
   "outputs": [],
   "source": [
    "test_data = test_data.reset_index()\n",
    "test_data.replace([np.inf, -np.inf], np.nan,inplace = True)"
   ]
  },
  {
   "cell_type": "code",
   "execution_count": null,
   "metadata": {},
   "outputs": [],
   "source": [
    "test_data.fillna(0,inplace = True)"
   ]
  },
  {
   "cell_type": "code",
   "execution_count": null,
   "metadata": {},
   "outputs": [],
   "source": [
    "test_data.drop(columns=['index'],inplace=True)"
   ]
  },
  {
   "cell_type": "code",
   "execution_count": null,
   "metadata": {},
   "outputs": [],
   "source": [
    "print(\"字段:\", test_data.columns.tolist())\n",
    "print(\"Shape: \", test_data.columns.shape)"
   ]
  },
  {
   "cell_type": "code",
   "execution_count": null,
   "metadata": {},
   "outputs": [],
   "source": [
    "test_features = test_data.drop(columns=[\"category\", \"subcategory\"])\n",
    "test_features = test_features.drop(['saddr', 'daddr'], axis=1)\n",
    "test_features"
   ]
  },
  {
   "cell_type": "code",
   "execution_count": null,
   "metadata": {},
   "outputs": [],
   "source": [
    "test_labels = test_data[\"category\"]\n",
    "test_labels"
   ]
  },
  {
   "cell_type": "code",
   "execution_count": null,
   "metadata": {},
   "outputs": [],
   "source": [
    "test_num_features = test_features.select_dtypes(include=[np.number])\n",
    "test_features_array = test_num_features.values.astype(np.float32)\n",
    "\n",
    "# features_array = features.values.astype(np.float32)\n",
    "test_labels_array = test_labels.values.astype(np.int64)  # 如果标签是整数型，可以使用 np.long 类型"
   ]
  },
  {
   "cell_type": "code",
   "execution_count": null,
   "metadata": {},
   "outputs": [],
   "source": [
    "test_features_array.shape"
   ]
  },
  {
   "cell_type": "code",
   "execution_count": null,
   "metadata": {},
   "outputs": [],
   "source": [
    "test_labels_array.shape"
   ]
  },
  {
   "cell_type": "code",
   "execution_count": null,
   "metadata": {},
   "outputs": [],
   "source": [
    "scaler = StandardScaler()\n",
    "test_standardized_data = scaler.fit_transform(test_features_array)\n",
    "min_max_scaler = MinMaxScaler()\n",
    "test_normalized_data = min_max_scaler.fit_transform(test_standardized_data)"
   ]
  },
  {
   "cell_type": "code",
   "execution_count": null,
   "metadata": {},
   "outputs": [],
   "source": [
    "import torch\n",
    "test_features_tensor = torch.tensor(test_normalized_data, dtype=torch.float32)\n",
    "test_labels_tensor = torch.tensor(test_labels_array, dtype=torch.long)  # 如果标签是整数型，可以使用 torch.long 类型"
   ]
  },
  {
   "cell_type": "code",
   "execution_count": null,
   "metadata": {},
   "outputs": [],
   "source": [
    "test_features_tensor = pd.concat([test_data[['saddr', 'daddr']].reset_index(drop=True), pd.DataFrame(test_features_tensor.numpy())], axis=1)"
   ]
  },
  {
   "cell_type": "code",
   "execution_count": null,
   "metadata": {},
   "outputs": [],
   "source": [
    "X_test = test_features_tensor\n",
    "y_test = test_labels_tensor"
   ]
  },
  {
   "cell_type": "code",
   "execution_count": null,
   "metadata": {},
   "outputs": [],
   "source": [
    "test_ds = len(X_test)"
   ]
  },
  {
   "cell_type": "code",
   "execution_count": null,
   "metadata": {},
   "outputs": [],
   "source": [
    "test_cols_to_norm = list(set(list(X_test.iloc[:, 2:].columns)) - set(list(['label'])))\n",
    "X_test[test_cols_to_norm] = scaler.fit_transform(X_test[test_cols_to_norm])"
   ]
  },
  {
   "cell_type": "code",
   "execution_count": null,
   "metadata": {},
   "outputs": [],
   "source": [
    "X_test['label'] = y_test\n",
    "X_test['h'] = X_test[test_cols_to_norm].values.tolist()"
   ]
  },
  {
   "cell_type": "code",
   "execution_count": null,
   "metadata": {},
   "outputs": [],
   "source": [
    "X_test"
   ]
  },
  {
   "cell_type": "code",
   "execution_count": 1,
   "metadata": {},
   "outputs": [],
   "source": [
    "from dgl.data.utils import load_graphs   \n",
    "G_Test = load_graphs(\"./test_data.bin\")[0][0]"
   ]
  },
  {
   "cell_type": "code",
   "execution_count": null,
   "metadata": {},
   "outputs": [],
   "source": [
    "G_Test = nx.from_pandas_edgelist(X_test, \"saddr\", \"daddr\", ['h', 'label'], create_using=nx.MultiGraph())\n",
    "G_Test = G_Test.to_directed()\n",
    "G_Test = from_networkx(G_Test, edge_attrs=['h', 'label'])"
   ]
  },
  {
   "cell_type": "code",
   "execution_count": null,
   "metadata": {},
   "outputs": [],
   "source": [
    "# Eq1\n",
    "G_Test.ndata['h'] = th.ones(G_Test.num_nodes(), G_Test.edata['h'].shape[1])\n",
    "G_Test.ndata['h'] = th.reshape(G_Test.ndata['h'], (G_Test.ndata['h'].shape[0], 1, G_Test.ndata['h'].shape[1]))\n",
    "G_Test.edata['h'] = th.reshape(G_Test.edata['h'], (G_Test.edata['h'].shape[0], 1, G_Test.edata['h'].shape[1]))"
   ]
  },
  {
   "cell_type": "code",
   "execution_count": null,
   "metadata": {},
   "outputs": [],
   "source": [
    "G_Test.edata['test_mask'] = th.ones(len(G_Test.edata['h']), dtype=th.bool)"
   ]
  },
  {
   "cell_type": "code",
   "execution_count": null,
   "metadata": {},
   "outputs": [],
   "source": [
    "# from dgl.data.utils import save_graphs\n",
    "# save_graphs(\"./test_data.bin\", [G_Test])"
   ]
  },
  {
   "cell_type": "code",
   "execution_count": 2,
   "metadata": {},
   "outputs": [
    {
     "name": "stdout",
     "output_type": "stream",
     "text": [
      "torch.Size([517147, 1, 13])\n",
      "torch.Size([1467410, 1, 13])\n"
     ]
    }
   ],
   "source": [
    "test_node_features = G_Test.ndata['h'].cuda()\n",
    "test_edge_features = G_Test.edata['h'].cuda()\n",
    "\n",
    "test_edge_label = G_Test.edata['label']\n",
    "test_mask = G_Test.edata['test_mask']\n",
    "\n",
    "print(test_node_features.shape)\n",
    "print(test_edge_features.shape)"
   ]
  },
  {
   "cell_type": "code",
   "execution_count": 3,
   "metadata": {},
   "outputs": [],
   "source": [
    "actual = G_Test.edata.pop('label')"
   ]
  },
  {
   "cell_type": "code",
   "execution_count": null,
   "metadata": {},
   "outputs": [],
   "source": []
  },
  {
   "cell_type": "code",
   "execution_count": 8,
   "metadata": {},
   "outputs": [
    {
     "name": "stderr",
     "output_type": "stream",
     "text": [
      "/tmp/ipykernel_10238/107044675.py:21: FutureWarning: You are using `torch.load` with `weights_only=False` (the current default value), which uses the default pickle module implicitly. It is possible to construct malicious pickle data which will execute arbitrary code during unpickling (See https://github.com/pytorch/pytorch/blob/main/SECURITY.md#untrusted-models for more details). In a future release, the default value for `weights_only` will be flipped to `True`. This limits the functions that could be executed during unpickling. Arbitrary objects will no longer be allowed to be loaded via this mode unless they are explicitly allowlisted by the user via `torch.serialization.add_safe_globals`. We recommend you start setting `weights_only=True` for any use case where you don't have full control of the loaded file. Please open an issue on GitHub for any issues related to this experimental feature.\n",
      "  loaded_model.load_state_dict(th.load(SAVE_PATH))\n"
     ]
    },
    {
     "data": {
      "text/plain": [
       "Model(\n",
       "  (gnn): SAGE(\n",
       "    (layers): ModuleList(\n",
       "      (0): SAGELayer(\n",
       "        (W_msg): Linear(in_features=26, out_features=128, bias=True)\n",
       "        (W_apply): Linear(in_features=128, out_features=128, bias=True)\n",
       "      )\n",
       "    )\n",
       "    (dropout): Dropout(p=0.2, inplace=False)\n",
       "  )\n",
       "  (pred): FullyConnectedPredictor(\n",
       "    (fc_edge): Linear(in_features=13, out_features=128, bias=True)\n",
       "    (fc): Linear(in_features=384, out_features=5, bias=True)\n",
       "  )\n",
       ")"
      ]
     },
     "execution_count": 8,
     "metadata": {},
     "output_type": "execute_result"
    }
   ],
   "source": [
    "# 假设您已经定义了 Model 类和所有必要的参数\n",
    "\n",
    "# 重新定义模型参数 (必须与保存时一致)\n",
    "node_in_dim = test_node_features.shape[2] # 假设是 35\n",
    "edge_in_dim = test_edge_features.shape[2] # 假设是 35\n",
    "gnn_out_dim = 128\n",
    "num_classes = 5\n",
    "\n",
    "# 1. 实例化模型（使用与训练时相同的参数）\n",
    "loaded_model = Model(\n",
    "    ndim_in=node_in_dim, \n",
    "    ndim_out=gnn_out_dim, \n",
    "    edim=edge_in_dim, \n",
    "    activation=F.relu, \n",
    "    dropout=0.2,\n",
    "    num_classes=num_classes\n",
    ").to('cuda')\n",
    "\n",
    "# 2. 加载状态字典\n",
    "# 如果模型训练时在 GPU 上，加载到 CPU 或当前设备：\n",
    "loaded_model.load_state_dict(th.load(SAVE_PATH))\n",
    "\n",
    "# 3. 将模型设置为评估模式（在进行推理或测试时非常重要）\n",
    "loaded_model.eval() \n",
    "\n",
    "# 4. 如果需要在 GPU 上进行推理，请移动模型\n",
    "# loaded_model.to('cuda')"
   ]
  },
  {
   "cell_type": "code",
   "execution_count": null,
   "metadata": {},
   "outputs": [],
   "source": [
    "# X_test[cols_to_norm] = scaler.transform(X_test[cols_to_norm])\n",
    "\n",
    "# X_test['label'] = y_test\n",
    "# X_test['h'] = X_test[cols_to_norm].values.tolist()\n",
    "\n",
    "# G_test = nx.from_pandas_edgelist(X_test, \"saddr\", \"daddr\", ['h', 'label'], create_using=nx.MultiGraph())\n",
    "# G_test = G_test.to_directed()\n",
    "# G_test = from_networkx(G_test, edge_attrs=['h', 'label'])\n",
    "# G_test.ndata['feature'] = th.ones(G_test.num_nodes(), G.ndata['h'].shape[2])\n",
    "\n",
    "# G_test.ndata['feature'] = th.reshape(G_test.ndata['feature'],\n",
    "#                                      (G_test.ndata['feature'].shape[0], 1, G_test.ndata['feature'].shape[1]))\n",
    "# G_test.edata['h'] = th.reshape(G_test.edata['h'], (G_test.edata['h'].shape[0], 1, G_test.edata['h'].shape[1]))\n"
   ]
  },
  {
   "cell_type": "code",
   "execution_count": 10,
   "metadata": {},
   "outputs": [
    {
     "name": "stdout",
     "output_type": "stream",
     "text": [
      "0.5755581379999057 seconds\n"
     ]
    }
   ],
   "source": [
    "import timeit\n",
    "G_Test = G_Test.to('cuda')\n",
    "start_time = timeit.default_timer()\n",
    "# node_features_test = G_Test.ndata['feature'].cuda()\n",
    "# edge_features_test = G_Test.edata['h'].cuda()\n",
    "test_pred = loaded_model(G_Test, test_node_features, test_edge_features).to('cuda')\n",
    "elapsed = timeit.default_timer() - start_time\n",
    "\n",
    "print(str(elapsed) + ' seconds')\n",
    "\n",
    "test_pred = test_pred.argmax(1)\n",
    "test_pred = th.Tensor.cpu(test_pred).detach().numpy()"
   ]
  },
  {
   "cell_type": "code",
   "execution_count": 11,
   "metadata": {},
   "outputs": [
    {
     "name": "stdout",
     "output_type": "stream",
     "text": [
      "输出混淆矩阵\n",
      "[[769663    133      1    821      0]\n",
      " [  3704 656513      0      7      0]\n",
      " [     0      0    214      0      0]\n",
      " [ 12454      0      0  23872      0]\n",
      " [    10      0      0     18      0]]\n"
     ]
    }
   ],
   "source": [
    "print(\"输出混淆矩阵\")\n",
    "from sklearn.metrics import confusion_matrix\n",
    "cm = confusion_matrix(actual, test_pred)\n",
    "print(cm)"
   ]
  },
  {
   "cell_type": "code",
   "execution_count": 12,
   "metadata": {},
   "outputs": [
    {
     "name": "stdout",
     "output_type": "stream",
     "text": [
      "计算评价指标\n",
      "over\n"
     ]
    },
    {
     "name": "stderr",
     "output_type": "stream",
     "text": [
      "/tmp/ipykernel_10238/1725162759.py:11: RuntimeWarning: invalid value encountered in divide\n",
      "  precision_per_class = np.diag(conf_matrix) / np.sum(conf_matrix, axis=0)\n"
     ]
    }
   ],
   "source": [
    "print(\"计算评价指标\")\n",
    "import numpy as np\n",
    "# from tabulate import tabulate\n",
    "\n",
    "conf_matrix = cm\n",
    "\n",
    "# 计算评估指标\n",
    "accuracy = np.sum(np.diag(conf_matrix)) / np.sum(conf_matrix)\n",
    "recall_per_class = np.diag(conf_matrix) / np.sum(conf_matrix, axis=1)\n",
    "recall = np.mean(recall_per_class)\n",
    "precision_per_class = np.diag(conf_matrix) / np.sum(conf_matrix, axis=0)\n",
    "f1_per_class = 2 * (precision_per_class * recall_per_class) / (precision_per_class + recall_per_class)\n",
    "class_counts = np.sum(conf_matrix, axis=1)\n",
    "weighted_f1 = np.sum(f1_per_class * class_counts) / np.sum(class_counts)\n",
    "\n",
    "table_data = []\n",
    "for i in range(len(recall_per_class)):\n",
    "    table_data.append([f\"类别 {i}\",\n",
    "                       np.round(np.diag(conf_matrix)[i] / np.sum(conf_matrix[i]), 3),\n",
    "                       np.round(recall_per_class[i], 3),\n",
    "                       np.round(precision_per_class[i], 3),\n",
    "                       np.round(f1_per_class[i], 3)])\n",
    "\n",
    "table_data.append([\"平均\", np.round(accuracy, 3), np.round(recall, 3), np.round(np.mean(precision_per_class), 3),\n",
    "                   np.round(weighted_f1, 3)])\n",
    "\n",
    "headers = [\"类别\", \"准确率\", \"召回率\", \"精确率\", \"加权平均F1值\"]\n",
    "# print(tabulate(table_data, headers=headers, floatfmt=\".3f\", tablefmt=\"pretty\", numalign='center'))\n",
    "\n",
    "print('over')"
   ]
  },
  {
   "cell_type": "code",
   "execution_count": 14,
   "metadata": {},
   "outputs": [
    {
     "name": "stdout",
     "output_type": "stream",
     "text": [
      "target_names [0 1 2 3 4]\n"
     ]
    },
    {
     "data": {
      "image/png": "[encoded data removed]",
      "text/plain": [
       "<Figure size 1200x1200 with 2 Axes>"
      ]
     },
     "metadata": {},
     "output_type": "display_data"
    },
    {
     "name": "stderr",
     "output_type": "stream",
     "text": [
      "/opt/conda/lib/python3.11/site-packages/sklearn/metrics/_classification.py:1731: UndefinedMetricWarning: Precision is ill-defined and being set to 0.0 in labels with no predicted samples. Use `zero_division` parameter to control this behavior.\n",
      "  _warn_prf(average, modifier, f\"{metric.capitalize()} is\", result.shape[0])\n",
      "/opt/conda/lib/python3.11/site-packages/sklearn/metrics/_classification.py:1731: UndefinedMetricWarning: Precision is ill-defined and being set to 0.0 in labels with no predicted samples. Use `zero_division` parameter to control this behavior.\n",
      "  _warn_prf(average, modifier, f\"{metric.capitalize()} is\", result.shape[0])\n",
      "/opt/conda/lib/python3.11/site-packages/sklearn/metrics/_classification.py:1731: UndefinedMetricWarning: Precision is ill-defined and being set to 0.0 in labels with no predicted samples. Use `zero_division` parameter to control this behavior.\n",
      "  _warn_prf(average, modifier, f\"{metric.capitalize()} is\", result.shape[0])\n"
     ]
    },
    {
     "name": "stdout",
     "output_type": "stream",
     "text": [
      "              precision    recall  f1-score   support\n",
      "\n",
      "           0     0.9794    0.9988    0.9890    770618\n",
      "           1     0.9998    0.9944    0.9971    660224\n",
      "           2     0.9953    1.0000    0.9977       214\n",
      "           3     0.9658    0.6572    0.7821     36326\n",
      "           4     0.0000    0.0000    0.0000        28\n",
      "\n",
      "    accuracy                         0.9883   1467410\n",
      "   macro avg     0.7881    0.7301    0.7532   1467410\n",
      "weighted avg     0.9882    0.9883    0.9875   1467410\n",
      "\n"
     ]
    },
    {
     "name": "stderr",
     "output_type": "stream",
     "text": [
      "/opt/conda/lib/python3.11/site-packages/sklearn/metrics/_classification.py:1731: UndefinedMetricWarning: Precision is ill-defined and being set to 0.0 in labels with no predicted samples. Use `zero_division` parameter to control this behavior.\n",
      "  _warn_prf(average, modifier, f\"{metric.capitalize()} is\", result.shape[0])\n",
      "/opt/conda/lib/python3.11/site-packages/sklearn/metrics/_classification.py:1731: UndefinedMetricWarning: Precision is ill-defined and being set to 0.0 in labels with no predicted samples. Use `zero_division` parameter to control this behavior.\n",
      "  _warn_prf(average, modifier, f\"{metric.capitalize()} is\", result.shape[0])\n",
      "/opt/conda/lib/python3.11/site-packages/sklearn/metrics/_classification.py:1731: UndefinedMetricWarning: Precision is ill-defined and being set to 0.0 in labels with no predicted samples. Use `zero_division` parameter to control this behavior.\n",
      "  _warn_prf(average, modifier, f\"{metric.capitalize()} is\", result.shape[0])\n"
     ]
    }
   ],
   "source": [
    "import numpy as np\n",
    "import pandas as pd\n",
    "\n",
    "def plot_confusion_matrix(cm,\n",
    "                          target_names,\n",
    "                          title='Confusion matrix',\n",
    "                          cmap=None,\n",
    "                          normalize=True):\n",
    "    import matplotlib.pyplot as plt\n",
    "    import numpy as np\n",
    "    import itertools\n",
    "\n",
    "    accuracy = np.trace(cm) / float(np.sum(cm))\n",
    "    misclass = 1 - accuracy\n",
    "\n",
    "    if cmap is None:\n",
    "        cmap = plt.get_cmap('Blues')\n",
    "\n",
    "    plt.figure(figsize=(12, 12))\n",
    "    plt.imshow(cm, interpolation='nearest', cmap=cmap)\n",
    "    plt.title(title)\n",
    "    plt.colorbar()\n",
    "\n",
    "    if target_names is not None:\n",
    "        tick_marks = np.arange(len(target_names))\n",
    "        plt.xticks(tick_marks, target_names, rotation=45)\n",
    "        plt.yticks(tick_marks, target_names)\n",
    "\n",
    "    if normalize:\n",
    "        cm = cm.astype('float') / cm.sum(axis=1)[:, np.newaxis]\n",
    "\n",
    "    thresh = cm.max() / 1.5 if normalize else cm.max() / 2\n",
    "    for i, j in itertools.product(range(cm.shape[0]), range(cm.shape[1])):\n",
    "        if normalize:\n",
    "            plt.text(j, i, \"{:0.4f}\".format(cm[i, j]),\n",
    "                     horizontalalignment=\"center\",\n",
    "                     color=\"white\" if cm[i, j] > thresh else \"black\")\n",
    "        else:\n",
    "            plt.text(j, i, \"{:,}\".format(cm[i, j]),\n",
    "                     horizontalalignment=\"center\",\n",
    "                     color=\"white\" if cm[i, j] > thresh else \"black\")\n",
    "\n",
    "    plt.tight_layout()\n",
    "    plt.ylabel('True label')\n",
    "    plt.xlabel('Predicted label\\naccuracy={:0.4f}; misclass={:0.4f}'.format(accuracy, misclass))\n",
    "    plt.show()\n",
    "\n",
    "\n",
    "from sklearn.metrics import confusion_matrix\n",
    "\n",
    "print(\"target_names\",np.unique(actual))\n",
    "plot_confusion_matrix(cm=confusion_matrix(actual, test_pred),\n",
    "                      normalize=False,\n",
    "                      target_names=np.unique(actual),\n",
    "                      title=\"Confusion Matrix\")\n",
    "\n",
    "from sklearn.metrics import classification_report\n",
    "print(classification_report(actual, test_pred, digits=4))\n",
    "report = classification_report(actual, test_pred, digits=4, output_dict=True)\n",
    "df = pd.DataFrame(report).transpose()"
   ]
  },
  {
   "cell_type": "code",
   "execution_count": null,
   "metadata": {},
   "outputs": [],
   "source": []
  },
  {
   "cell_type": "code",
   "execution_count": null,
   "metadata": {},
   "outputs": [],
   "source": []
  },
  {
   "cell_type": "code",
   "execution_count": null,
   "metadata": {},
   "outputs": [],
   "source": []
  },
  {
   "cell_type": "code",
   "execution_count": null,
   "metadata": {},
   "outputs": [],
   "source": []
  },
  {
   "cell_type": "code",
   "execution_count": null,
   "metadata": {},
   "outputs": [],
   "source": []
  },
  {
   "cell_type": "code",
   "execution_count": null,
   "metadata": {},
   "outputs": [],
   "source": []
  },
  {
   "cell_type": "code",
   "execution_count": null,
   "metadata": {},
   "outputs": [],
   "source": []
  },
  {
   "cell_type": "code",
   "execution_count": null,
   "metadata": {},
   "outputs": [],
   "source": []
  },
  {
   "cell_type": "code",
   "execution_count": null,
   "metadata": {},
   "outputs": [],
   "source": []
  },
  {
   "cell_type": "code",
   "execution_count": null,
   "metadata": {},
   "outputs": [],
   "source": []
  },
  {
   "cell_type": "code",
   "execution_count": null,
   "metadata": {},
   "outputs": [],
   "source": []
  },
  {
   "cell_type": "code",
   "execution_count": null,
   "metadata": {},
   "outputs": [],
   "source": []
  },
  {
   "cell_type": "code",
   "execution_count": null,
   "metadata": {},
   "outputs": [],
   "source": []
  },
  {
   "cell_type": "code",
   "execution_count": null,
   "metadata": {},
   "outputs": [],
   "source": [
    "X_train, X_test, y_train, y_test = train_test_split(\n",
    "     data, label_ground_truth, test_size=0.3, random_state=42, stratify=label_ground_truth.label)"
   ]
  },
  {
   "cell_type": "code",
   "execution_count": null,
   "metadata": {},
   "outputs": [],
   "source": [
    "X_train['h'] = X_train[ cols_to_norm ].values.tolist()"
   ]
  },
  {
   "cell_type": "code",
   "execution_count": null,
   "metadata": {},
   "outputs": [],
   "source": [
    "#from dgl.data.utils import load_graphs   \n",
    "#G = load_graphs(\"./data.bin\")[0][0]"
   ]
  },
  {
   "cell_type": "code",
   "execution_count": null,
   "metadata": {},
   "outputs": [],
   "source": [
    "G = nx.from_pandas_edgelist(X_train, \"saddr\", \"daddr\", ['h','label'], create_using= nx.MultiGraph())"
   ]
  },
  {
   "cell_type": "code",
   "execution_count": null,
   "metadata": {},
   "outputs": [],
   "source": [
    "G = G.to_directed()"
   ]
  },
  {
   "cell_type": "code",
   "execution_count": null,
   "metadata": {},
   "outputs": [],
   "source": [
    "G = from_networkx(G,edge_attrs=['h','label'])"
   ]
  },
  {
   "cell_type": "code",
   "execution_count": null,
   "metadata": {},
   "outputs": [],
   "source": [
    "#from dgl.data.utils import save_graphs\n",
    "#save_graphs(\"./data.bin\", [G])\n"
   ]
  },
  {
   "cell_type": "code",
   "execution_count": null,
   "metadata": {},
   "outputs": [],
   "source": [
    "G.ndata['h'] = th.ones(G.num_nodes(), G.edata['h'].shape[1]) "
   ]
  },
  {
   "cell_type": "code",
   "execution_count": null,
   "metadata": {},
   "outputs": [],
   "source": [
    "G.edata['train_mask'] = th.ones(len(G.edata['h']), dtype= th.bool)"
   ]
  },
  {
   "cell_type": "code",
   "execution_count": null,
   "metadata": {},
   "outputs": [],
   "source": [
    "#G = load_graphs(\"./bot_train_G.bin\") [0][0]"
   ]
  },
  {
   "cell_type": "code",
   "execution_count": null,
   "metadata": {},
   "outputs": [],
   "source": [
    "# Eq1\n",
    "G.ndata['h'] = th.ones(G.num_nodes(), G.edata['h'].shape[1])"
   ]
  },
  {
   "cell_type": "code",
   "execution_count": null,
   "metadata": {},
   "outputs": [],
   "source": [
    "G.edata['train_mask'] = th.ones(len(G.edata['h']), dtype=th.bool)"
   ]
  },
  {
   "cell_type": "code",
   "execution_count": null,
   "metadata": {},
   "outputs": [],
   "source": [
    "G.ndata['h'] = th.reshape(G.ndata['h'], (G.ndata['h'].shape[0], 1, G.ndata['h'].shape[1]))\n",
    "G.edata['h'] = th.reshape(G.edata['h'], (G.edata['h'].shape[0], 1, G.edata['h'].shape[1]))"
   ]
  },
  {
   "cell_type": "code",
   "execution_count": null,
   "metadata": {},
   "outputs": [],
   "source": [
    "class MLPPredictor(nn.Module):\n",
    "    def __init__(self, in_features, out_classes):\n",
    "        super().__init__()\n",
    "        self.W = nn.Linear(in_features * 2, out_classes)\n",
    "\n",
    "    def apply_edges(self, edges):\n",
    "        h_u = edges.src['h']\n",
    "        h_v = edges.dst['h']\n",
    "        score = self.W(th.cat([h_u, h_v], 1))\n",
    "        return {'score': score}\n",
    "\n",
    "    def forward(self, graph, h):\n",
    "        with graph.local_scope():\n",
    "            graph.ndata['h'] = h\n",
    "            graph.apply_edges(self.apply_edges)\n",
    "            return graph.edata['score']"
   ]
  },
  {
   "cell_type": "code",
   "execution_count": null,
   "metadata": {},
   "outputs": [],
   "source": [
    "G.ndata['h'].shape"
   ]
  },
  {
   "cell_type": "code",
   "execution_count": null,
   "metadata": {},
   "outputs": [],
   "source": [
    "def compute_accuracy(pred, labels):\n",
    "    return (pred.argmax(1) == labels).float().mean().item()"
   ]
  },
  {
   "cell_type": "code",
   "execution_count": null,
   "metadata": {},
   "outputs": [],
   "source": [
    "class SAGELayer(nn.Module):\n",
    "    def __init__(self, ndim_in, edims, ndim_out, activation):\n",
    "        super(SAGELayer, self).__init__()\n",
    "        ### force to outut fix dimensions\n",
    "        self.W_msg = nn.Linear(ndim_in + edims, ndim_out)\n",
    "        ### apply weight\n",
    "        self.W_apply = nn.Linear(ndim_in + ndim_out, ndim_out)\n",
    "        self.activation = activation\n",
    "\n",
    "    def message_func(self, edges):\n",
    "        return {'m': self.W_msg(th.cat([edges.src['h'], edges.data['h']], 2))}\n",
    "\n",
    "    def forward(self, g_dgl, nfeats, efeats):\n",
    "        with g_dgl.local_scope():\n",
    "            g = g_dgl\n",
    "            g.ndata['h'] = nfeats\n",
    "            g.edata['h'] = efeats\n",
    "            # Eq4\n",
    "            g.update_all(self.message_func, fn.mean('m', 'h_neigh'))\n",
    "            # Eq5          \n",
    "            g.ndata['h'] = F.relu(self.W_apply(th.cat([g.ndata['h'], g.ndata['h_neigh']], 2)))\n",
    "            return g.ndata['h']\n",
    "\n",
    "\n",
    "class SAGE(nn.Module):\n",
    "    def __init__(self, ndim_in, ndim_out, edim, activation, dropout):\n",
    "        super(SAGE, self).__init__()\n",
    "        self.layers = nn.ModuleList()\n",
    "        self.layers.append(SAGELayer(ndim_in, edim, 128, activation))\n",
    "        self.layers.append(SAGELayer(128, edim, ndim_out, activation))\n",
    "        self.dropout = nn.Dropout(p=dropout)\n",
    "\n",
    "    def forward(self, g, nfeats, efeats):\n",
    "        for i, layer in enumerate(self.layers):\n",
    "            if i != 0:\n",
    "                nfeats = self.dropout(nfeats)\n",
    "            nfeats = layer(g, nfeats, efeats)\n",
    "        return nfeats.sum(1)"
   ]
  },
  {
   "cell_type": "code",
   "execution_count": null,
   "metadata": {},
   "outputs": [],
   "source": [
    "class Model(nn.Module):\n",
    "    def __init__(self, ndim_in, ndim_out, edim, activation, dropout):\n",
    "        super().__init__()\n",
    "        self.gnn = SAGE(ndim_in, ndim_out, edim, activation, dropout)\n",
    "        self.pred = MLPPredictor(ndim_out, 6)\n",
    "    def forward(self, g, nfeats, efeats):\n",
    "        h = self.gnn(g, nfeats, efeats)\n",
    "        return self.pred(g, h)"
   ]
  },
  {
   "cell_type": "code",
   "execution_count": null,
   "metadata": {},
   "outputs": [],
   "source": [
    "# from sklearn.utils import class_weight\n",
    "# class_weights = class_weight.compute_class_weight('balanced',\n",
    "#                                                  np.unique(G.edata['label'].cpu().numpy()),\n",
    "#                                                  G.edata['label'].cpu().numpy())\n",
    "\n",
    "import numpy as np\n",
    "from sklearn.utils import class_weight\n",
    "\n",
    "y = G.edata['label'].cpu().numpy()\n",
    "classes = np.unique(y)\n",
    "\n",
    "class_weights = class_weight.compute_class_weight(\n",
    "    class_weight='balanced',\n",
    "    classes=classes,\n",
    "    y=y\n",
    ")"
   ]
  },
  {
   "cell_type": "code",
   "execution_count": null,
   "metadata": {},
   "outputs": [],
   "source": [
    "class_weights = th.FloatTensor(class_weights)\n",
    "criterion = nn.CrossEntropyLoss(weight = class_weights)"
   ]
  },
  {
   "cell_type": "code",
   "execution_count": null,
   "metadata": {},
   "outputs": [],
   "source": [
    "G = G.to('cpu')"
   ]
  },
  {
   "cell_type": "code",
   "execution_count": null,
   "metadata": {},
   "outputs": [],
   "source": [
    "G.device"
   ]
  },
  {
   "cell_type": "code",
   "execution_count": null,
   "metadata": {},
   "outputs": [],
   "source": [
    "G.ndata['h'].device  "
   ]
  },
  {
   "cell_type": "code",
   "execution_count": null,
   "metadata": {},
   "outputs": [],
   "source": [
    "G.edata['h'].device  "
   ]
  },
  {
   "cell_type": "code",
   "execution_count": null,
   "metadata": {},
   "outputs": [],
   "source": [
    "node_features = G.ndata['h']\n",
    "edge_features = G.edata['h']\n",
    "\n",
    "edge_label = G.edata['label']\n",
    "train_mask = G.edata['train_mask']\n",
    "\n",
    "model = Model(G.ndata['h'].shape[2], 128, G.ndata['h'].shape[2], F.relu, 0.2)\n",
    "\n",
    "opt = th.optim.Adam(model.parameters())\n",
    "\n",
    "for epoch in range(1,14500):\n",
    "    pred = model(G, node_features,edge_features)\n",
    "    loss = criterion(pred[train_mask] ,edge_label[train_mask])\n",
    "    opt.zero_grad()\n",
    "    loss.backward()\n",
    "    opt.step()\n",
    "    # if epoch % 100 == 0:\n",
    "    print('Epoch:', epoch ,' Training acc:', compute_accuracy(pred[train_mask], edge_label[train_mask]))"
   ]
  },
  {
   "cell_type": "code",
   "execution_count": null,
   "metadata": {},
   "outputs": [],
   "source": [
    "X_test['h'] = X_test[ cols_to_norm ].values.tolist()"
   ]
  },
  {
   "cell_type": "code",
   "execution_count": null,
   "metadata": {},
   "outputs": [],
   "source": [
    "#G_test = load_graphs(\"bot_test_G.bin\") [0][0]\n",
    "G_test = nx.from_pandas_edgelist(X_test, \"saddr\", \"daddr\", ['h','label'],create_using=nx.MultiGraph())\n",
    "G_test = G_test.to_directed()\n",
    "G_test = from_networkx(G_test,edge_attrs=['h','label'] )\n",
    "actual = G_test.edata.pop('label')\n",
    "G_test.ndata['feature'] = th.ones(G_test.num_nodes(), 55)"
   ]
  },
  {
   "cell_type": "code",
   "execution_count": null,
   "metadata": {},
   "outputs": [],
   "source": [
    "G_test.ndata['feature'] = th.reshape(G_test.ndata['feature'], (G_test.ndata['feature'].shape[0], 1, G_test.ndata['feature'].shape[1]))"
   ]
  },
  {
   "cell_type": "code",
   "execution_count": null,
   "metadata": {},
   "outputs": [],
   "source": [
    "G_test.edata['h'] = th.reshape(G_test.edata['h'], (G_test.edata['h'].shape[0], 1, G_test.edata['h'].shape[1]))"
   ]
  },
  {
   "cell_type": "code",
   "execution_count": null,
   "metadata": {},
   "outputs": [],
   "source": [
    "G_test = G_test.to('cuda:0')"
   ]
  },
  {
   "cell_type": "code",
   "execution_count": null,
   "metadata": {},
   "outputs": [],
   "source": [
    "th.cuda.empty_cache()"
   ]
  },
  {
   "cell_type": "code",
   "execution_count": null,
   "metadata": {},
   "outputs": [],
   "source": [
    "import timeit\n",
    "start_time = timeit.default_timer()\n",
    "node_features_test = G_test.ndata['feature']\n",
    "edge_features_test = G_test.edata['h']\n",
    "test_pred = model(G_test, node_features_test, edge_features_test).cuda()\n",
    "elapsed = timeit.default_timer() - start_time"
   ]
  },
  {
   "cell_type": "code",
   "execution_count": null,
   "metadata": {},
   "outputs": [],
   "source": [
    "print(str(elapsed) + ' seconds')"
   ]
  },
  {
   "cell_type": "code",
   "execution_count": null,
   "metadata": {},
   "outputs": [],
   "source": [
    "test_pred = test_pred.argmax(1)"
   ]
  },
  {
   "cell_type": "code",
   "execution_count": null,
   "metadata": {},
   "outputs": [],
   "source": [
    "test_pred = th.Tensor.cpu(test_pred).detach().numpy()"
   ]
  },
  {
   "cell_type": "code",
   "execution_count": null,
   "metadata": {},
   "outputs": [],
   "source": [
    "edge_label = le.inverse_transform(actual)\n",
    "test_pred = le.inverse_transform(test_pred)"
   ]
  },
  {
   "cell_type": "code",
   "execution_count": null,
   "metadata": {},
   "outputs": [],
   "source": [
    "def plot_confusion_matrix(cm,\n",
    "                          target_names,\n",
    "                          title='Confusion matrix',\n",
    "                          cmap=None,\n",
    "                          normalize=True):\n",
    "    \n",
    "    import matplotlib.pyplot as plt\n",
    "    import numpy as np\n",
    "    import itertools\n",
    "\n",
    "    accuracy = np.trace(cm) / float(np.sum(cm))\n",
    "    misclass = 1 - accuracy\n",
    "\n",
    "    if cmap is None:\n",
    "        cmap = plt.get_cmap('Blues')\n",
    "\n",
    "    plt.figure(figsize=(12, 12))\n",
    "    plt.imshow(cm, interpolation='nearest', cmap=cmap)\n",
    "    plt.title(title)\n",
    "    plt.colorbar()\n",
    "\n",
    "    if target_names is not None:\n",
    "        tick_marks = np.arange(len(target_names))\n",
    "        plt.xticks(tick_marks, target_names, rotation=45)\n",
    "        plt.yticks(tick_marks, target_names)\n",
    "\n",
    "    if normalize:\n",
    "        cm = cm.astype('float') / cm.sum(axis=1)[:, np.newaxis]\n",
    "\n",
    "\n",
    "    thresh = cm.max() / 1.5 if normalize else cm.max() / 2\n",
    "    for i, j in itertools.product(range(cm.shape[0]), range(cm.shape[1])):\n",
    "        if normalize:\n",
    "            plt.text(j, i, \"{:0.4f}\".format(cm[i, j]),\n",
    "                     horizontalalignment=\"center\",\n",
    "                     color=\"white\" if cm[i, j] > thresh else \"black\")\n",
    "        else:\n",
    "            plt.text(j, i, \"{:,}\".format(cm[i, j]),\n",
    "                     horizontalalignment=\"center\",\n",
    "                     color=\"white\" if cm[i, j] > thresh else \"black\")\n",
    "\n",
    "\n",
    "    plt.tight_layout()\n",
    "    plt.ylabel('True label')\n",
    "    plt.xlabel('Predicted label\\naccuracy={:0.4f}; misclass={:0.4f}'.format(accuracy, misclass))\n",
    "    plt.show()"
   ]
  },
  {
   "cell_type": "code",
   "execution_count": null,
   "metadata": {},
   "outputs": [],
   "source": [
    "from sklearn.metrics import confusion_matrix\n",
    "\n",
    "plot_confusion_matrix(cm = confusion_matrix(edge_label, test_pred), \n",
    "                      normalize    = False,\n",
    "                      target_names = np.unique(edge_label),\n",
    "                      title        = \"Confusion Matrix\")"
   ]
  },
  {
   "cell_type": "code",
   "execution_count": null,
   "metadata": {},
   "outputs": [],
   "source": []
  }
 ],
 "metadata": {
  "kernelspec": {
   "display_name": "Python 3 (ipykernel)",
   "language": "python",
   "name": "python3"
  },
  "language_info": {
   "codemirror_mode": {
    "name": "ipython",
    "version": 3
   },
   "file_extension": ".py",
   "mimetype": "text/x-python",
   "name": "python",
   "nbconvert_exporter": "python",
   "pygments_lexer": "ipython3",
   "version": "3.11.9"
  }
 },
 "nbformat": 4,
 "nbformat_minor": 4
}
