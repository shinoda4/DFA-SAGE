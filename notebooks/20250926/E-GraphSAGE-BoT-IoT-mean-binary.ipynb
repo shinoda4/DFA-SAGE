{
 "cells": [
  {
   "cell_type": "code",
   "execution_count": 1,
   "metadata": {},
   "outputs": [],
   "source": [
    "import dgl.nn as dglnn\n",
    "from dgl import from_networkx\n",
    "import torch.nn as nn\n",
    "import torch as th\n",
    "import torch.nn.functional as F\n",
    "import dgl.function as fn\n",
    "from dgl.data.utils import load_graphs\n",
    "import networkx as nx\n",
    "import pandas as pd\n",
    "import socket\n",
    "import struct\n",
    "import random\n",
    "from sklearn.preprocessing import LabelEncoder\n",
    "from sklearn.model_selection import train_test_split\n",
    "from sklearn.preprocessing import StandardScaler, MinMaxScaler\n",
    "import seaborn as sns\n",
    "import matplotlib.pyplot as plt\n",
    "import numpy as np"
   ]
  },
  {
   "cell_type": "code",
   "execution_count": 2,
   "metadata": {},
   "outputs": [
    {
     "name": "stdout",
     "output_type": "stream",
     "text": [
      "总样本数: 2934817\n",
      "字段: ['pkSeqID', 'proto', 'saddr', 'sport', 'daddr', 'dport', 'seq', 'stddev', 'N_IN_Conn_P_SrcIP', 'min', 'state_number', 'mean', 'N_IN_Conn_P_DstIP', 'drate', 'srate', 'max', 'attack', 'category', 'subcategory']\n",
      "category\n",
      "DDoS              1541315\n",
      "DoS               1320148\n",
      "Reconnaissance      72919\n",
      "Normal                370\n",
      "Theft                  65\n",
      "Name: count, dtype: int64\n"
     ]
    }
   ],
   "source": [
    "# data = pd.read_csv('./bot.csv')\n",
    "import pandas as pd\n",
    "from glob import glob\n",
    "\n",
    "# 读取所有 Full5pc 的 CSV（例如 Full5pc_1, Full5pc_2, ...）\n",
    "files = glob(\"./bot/UNSW_2018_IoT_Botnet_Final_10_best_Training.csv\")\n",
    "dfs = [pd.read_csv(f) for f in files]\n",
    "data = pd.concat(dfs, ignore_index=True)\n",
    "\n",
    "print(\"总样本数:\", len(data))\n",
    "print(\"字段:\", data.columns.tolist())\n",
    "print(data['category'].value_counts())  # 看攻击类别分布"
   ]
  },
  {
   "cell_type": "code",
   "execution_count": 3,
   "metadata": {},
   "outputs": [
    {
     "name": "stdout",
     "output_type": "stream",
     "text": [
      "字段: ['pkSeqID', 'proto', 'saddr', 'sport', 'daddr', 'dport', 'seq', 'stddev', 'N_IN_Conn_P_SrcIP', 'min', 'state_number', 'mean', 'N_IN_Conn_P_DstIP', 'drate', 'srate', 'max', 'attack', 'category', 'subcategory']\n",
      "Shape:  (19,)\n"
     ]
    }
   ],
   "source": [
    "print(\"字段:\", data.columns.tolist())\n",
    "print(\"Shape: \", data.columns.shape)"
   ]
  },
  {
   "cell_type": "code",
   "execution_count": 4,
   "metadata": {},
   "outputs": [],
   "source": [
    "le = LabelEncoder()\n",
    "le.fit_transform(data.category.values)\n",
    "data['category'] = le.transform(data['category'])"
   ]
  },
  {
   "cell_type": "code",
   "execution_count": 5,
   "metadata": {},
   "outputs": [
    {
     "data": {
      "text/plain": [
       "category\n",
       "0    1541315\n",
       "1    1320148\n",
       "3      72919\n",
       "2        370\n",
       "4         65\n",
       "Name: count, dtype: int64"
      ]
     },
     "execution_count": 5,
     "metadata": {},
     "output_type": "execute_result"
    }
   ],
   "source": [
    "data['category'].value_counts()"
   ]
  },
  {
   "cell_type": "code",
   "execution_count": 6,
   "metadata": {},
   "outputs": [],
   "source": [
    "le.fit_transform(data.proto.values)\n",
    "data['proto'] = le.transform(data['proto'])"
   ]
  },
  {
   "cell_type": "code",
   "execution_count": 7,
   "metadata": {},
   "outputs": [
    {
     "data": {
      "text/plain": [
       "proto\n",
       "4    1596819\n",
       "3    1330598\n",
       "1       7228\n",
       "0        166\n",
       "2          6\n",
       "Name: count, dtype: int64"
      ]
     },
     "execution_count": 7,
     "metadata": {},
     "output_type": "execute_result"
    }
   ],
   "source": [
    "data['proto'].value_counts()"
   ]
  },
  {
   "cell_type": "code",
   "execution_count": 8,
   "metadata": {},
   "outputs": [],
   "source": [
    "data['saddr'] = data.saddr.apply(str)\n",
    "data['daddr'] = data.daddr.apply(str)"
   ]
  },
  {
   "cell_type": "code",
   "execution_count": 9,
   "metadata": {},
   "outputs": [],
   "source": [
    "data['saddr'] = data.saddr.apply(lambda x: socket.inet_ntoa(struct.pack('>I', random.randint(0xac100001, 0xac1f0001))))"
   ]
  },
  {
   "cell_type": "code",
   "execution_count": 10,
   "metadata": {},
   "outputs": [],
   "source": [
    "data = data.reset_index()\n",
    "data.replace([np.inf, -np.inf], np.nan,inplace = True)"
   ]
  },
  {
   "cell_type": "code",
   "execution_count": 11,
   "metadata": {},
   "outputs": [],
   "source": [
    "data.fillna(0,inplace = True)"
   ]
  },
  {
   "cell_type": "code",
   "execution_count": 12,
   "metadata": {},
   "outputs": [],
   "source": [
    "data.drop(columns=['index'],inplace=True)"
   ]
  },
  {
   "cell_type": "code",
   "execution_count": 13,
   "metadata": {},
   "outputs": [
    {
     "name": "stdout",
     "output_type": "stream",
     "text": [
      "字段: ['pkSeqID', 'proto', 'saddr', 'sport', 'daddr', 'dport', 'seq', 'stddev', 'N_IN_Conn_P_SrcIP', 'min', 'state_number', 'mean', 'N_IN_Conn_P_DstIP', 'drate', 'srate', 'max', 'attack', 'category', 'subcategory']\n",
      "Shape:  (19,)\n"
     ]
    }
   ],
   "source": [
    "print(\"字段:\", data.columns.tolist())\n",
    "print(\"Shape: \", data.columns.shape)"
   ]
  },
  {
   "cell_type": "code",
   "execution_count": 15,
   "metadata": {},
   "outputs": [
    {
     "data": {
      "text/plain": [
       "attack\n",
       "1    2934447\n",
       "0        370\n",
       "Name: count, dtype: int64"
      ]
     },
     "execution_count": 15,
     "metadata": {},
     "output_type": "execute_result"
    }
   ],
   "source": [
    "labels = data[\"attack\"]\n",
    "labels.value_counts()"
   ]
  },
  {
   "cell_type": "code",
   "execution_count": 16,
   "metadata": {},
   "outputs": [
    {
     "data": {
      "text/html": [
       "<div>\n",
       "<style scoped>\n",
       "    .dataframe tbody tr th:only-of-type {\n",
       "        vertical-align: middle;\n",
       "    }\n",
       "\n",
       "    .dataframe tbody tr th {\n",
       "        vertical-align: top;\n",
       "    }\n",
       "\n",
       "    .dataframe thead th {\n",
       "        text-align: right;\n",
       "    }\n",
       "</style>\n",
       "<table border=\"1\" class=\"dataframe\">\n",
       "  <thead>\n",
       "    <tr style=\"text-align: right;\">\n",
       "      <th></th>\n",
       "      <th>pkSeqID</th>\n",
       "      <th>proto</th>\n",
       "      <th>sport</th>\n",
       "      <th>dport</th>\n",
       "      <th>seq</th>\n",
       "      <th>stddev</th>\n",
       "      <th>N_IN_Conn_P_SrcIP</th>\n",
       "      <th>min</th>\n",
       "      <th>state_number</th>\n",
       "      <th>mean</th>\n",
       "      <th>N_IN_Conn_P_DstIP</th>\n",
       "      <th>drate</th>\n",
       "      <th>srate</th>\n",
       "      <th>max</th>\n",
       "    </tr>\n",
       "  </thead>\n",
       "  <tbody>\n",
       "    <tr>\n",
       "      <th>0</th>\n",
       "      <td>3142762</td>\n",
       "      <td>4</td>\n",
       "      <td>6551</td>\n",
       "      <td>80</td>\n",
       "      <td>251984</td>\n",
       "      <td>1.900363</td>\n",
       "      <td>100</td>\n",
       "      <td>0.000000</td>\n",
       "      <td>4</td>\n",
       "      <td>2.687519</td>\n",
       "      <td>100</td>\n",
       "      <td>0.000000</td>\n",
       "      <td>0.494549</td>\n",
       "      <td>4.031619</td>\n",
       "    </tr>\n",
       "    <tr>\n",
       "      <th>1</th>\n",
       "      <td>2432264</td>\n",
       "      <td>3</td>\n",
       "      <td>5532</td>\n",
       "      <td>80</td>\n",
       "      <td>256724</td>\n",
       "      <td>0.078003</td>\n",
       "      <td>38</td>\n",
       "      <td>3.856930</td>\n",
       "      <td>3</td>\n",
       "      <td>3.934927</td>\n",
       "      <td>100</td>\n",
       "      <td>0.000000</td>\n",
       "      <td>0.256493</td>\n",
       "      <td>4.012924</td>\n",
       "    </tr>\n",
       "    <tr>\n",
       "      <th>2</th>\n",
       "      <td>1976315</td>\n",
       "      <td>3</td>\n",
       "      <td>27165</td>\n",
       "      <td>80</td>\n",
       "      <td>62921</td>\n",
       "      <td>0.268666</td>\n",
       "      <td>100</td>\n",
       "      <td>2.974100</td>\n",
       "      <td>3</td>\n",
       "      <td>3.341429</td>\n",
       "      <td>100</td>\n",
       "      <td>0.000000</td>\n",
       "      <td>0.294880</td>\n",
       "      <td>3.609205</td>\n",
       "    </tr>\n",
       "    <tr>\n",
       "      <th>3</th>\n",
       "      <td>1240757</td>\n",
       "      <td>4</td>\n",
       "      <td>48719</td>\n",
       "      <td>80</td>\n",
       "      <td>99168</td>\n",
       "      <td>1.823185</td>\n",
       "      <td>63</td>\n",
       "      <td>0.000000</td>\n",
       "      <td>4</td>\n",
       "      <td>3.222832</td>\n",
       "      <td>63</td>\n",
       "      <td>0.000000</td>\n",
       "      <td>0.461435</td>\n",
       "      <td>4.942302</td>\n",
       "    </tr>\n",
       "    <tr>\n",
       "      <th>4</th>\n",
       "      <td>3257991</td>\n",
       "      <td>4</td>\n",
       "      <td>22461</td>\n",
       "      <td>80</td>\n",
       "      <td>105063</td>\n",
       "      <td>0.822418</td>\n",
       "      <td>100</td>\n",
       "      <td>2.979995</td>\n",
       "      <td>4</td>\n",
       "      <td>3.983222</td>\n",
       "      <td>100</td>\n",
       "      <td>0.000000</td>\n",
       "      <td>1.002999</td>\n",
       "      <td>4.994452</td>\n",
       "    </tr>\n",
       "    <tr>\n",
       "      <th>...</th>\n",
       "      <td>...</td>\n",
       "      <td>...</td>\n",
       "      <td>...</td>\n",
       "      <td>...</td>\n",
       "      <td>...</td>\n",
       "      <td>...</td>\n",
       "      <td>...</td>\n",
       "      <td>...</td>\n",
       "      <td>...</td>\n",
       "      <td>...</td>\n",
       "      <td>...</td>\n",
       "      <td>...</td>\n",
       "      <td>...</td>\n",
       "      <td>...</td>\n",
       "    </tr>\n",
       "    <tr>\n",
       "      <th>2934812</th>\n",
       "      <td>1132803</td>\n",
       "      <td>4</td>\n",
       "      <td>56044</td>\n",
       "      <td>80</td>\n",
       "      <td>253370</td>\n",
       "      <td>0.016992</td>\n",
       "      <td>100</td>\n",
       "      <td>4.082509</td>\n",
       "      <td>4</td>\n",
       "      <td>4.102515</td>\n",
       "      <td>100</td>\n",
       "      <td>0.000000</td>\n",
       "      <td>0.243473</td>\n",
       "      <td>4.124047</td>\n",
       "    </tr>\n",
       "    <tr>\n",
       "      <th>2934813</th>\n",
       "      <td>3384621</td>\n",
       "      <td>4</td>\n",
       "      <td>21546</td>\n",
       "      <td>80</td>\n",
       "      <td>231693</td>\n",
       "      <td>1.922317</td>\n",
       "      <td>100</td>\n",
       "      <td>0.000000</td>\n",
       "      <td>4</td>\n",
       "      <td>2.718527</td>\n",
       "      <td>100</td>\n",
       "      <td>0.000000</td>\n",
       "      <td>0.490800</td>\n",
       "      <td>4.090534</td>\n",
       "    </tr>\n",
       "    <tr>\n",
       "      <th>2934814</th>\n",
       "      <td>775893</td>\n",
       "      <td>4</td>\n",
       "      <td>30897</td>\n",
       "      <td>80</td>\n",
       "      <td>158616</td>\n",
       "      <td>2.112228</td>\n",
       "      <td>100</td>\n",
       "      <td>0.000000</td>\n",
       "      <td>4</td>\n",
       "      <td>2.110766</td>\n",
       "      <td>100</td>\n",
       "      <td>0.000000</td>\n",
       "      <td>0.207444</td>\n",
       "      <td>4.332615</td>\n",
       "    </tr>\n",
       "    <tr>\n",
       "      <th>2934815</th>\n",
       "      <td>443484</td>\n",
       "      <td>3</td>\n",
       "      <td>36904</td>\n",
       "      <td>80</td>\n",
       "      <td>179855</td>\n",
       "      <td>0.000000</td>\n",
       "      <td>100</td>\n",
       "      <td>0.000000</td>\n",
       "      <td>3</td>\n",
       "      <td>0.000000</td>\n",
       "      <td>100</td>\n",
       "      <td>0.000000</td>\n",
       "      <td>0.162130</td>\n",
       "      <td>0.000000</td>\n",
       "    </tr>\n",
       "    <tr>\n",
       "      <th>2934816</th>\n",
       "      <td>96906</td>\n",
       "      <td>3</td>\n",
       "      <td>14302</td>\n",
       "      <td>80</td>\n",
       "      <td>95429</td>\n",
       "      <td>0.053820</td>\n",
       "      <td>100</td>\n",
       "      <td>0.064767</td>\n",
       "      <td>1</td>\n",
       "      <td>0.118588</td>\n",
       "      <td>100</td>\n",
       "      <td>0.038796</td>\n",
       "      <td>0.116388</td>\n",
       "      <td>0.172408</td>\n",
       "    </tr>\n",
       "  </tbody>\n",
       "</table>\n",
       "<p>2934817 rows × 14 columns</p>\n",
       "</div>"
      ],
      "text/plain": [
       "         pkSeqID  proto  sport dport     seq    stddev  N_IN_Conn_P_SrcIP  \\\n",
       "0        3142762      4   6551    80  251984  1.900363                100   \n",
       "1        2432264      3   5532    80  256724  0.078003                 38   \n",
       "2        1976315      3  27165    80   62921  0.268666                100   \n",
       "3        1240757      4  48719    80   99168  1.823185                 63   \n",
       "4        3257991      4  22461    80  105063  0.822418                100   \n",
       "...          ...    ...    ...   ...     ...       ...                ...   \n",
       "2934812  1132803      4  56044    80  253370  0.016992                100   \n",
       "2934813  3384621      4  21546    80  231693  1.922317                100   \n",
       "2934814   775893      4  30897    80  158616  2.112228                100   \n",
       "2934815   443484      3  36904    80  179855  0.000000                100   \n",
       "2934816    96906      3  14302    80   95429  0.053820                100   \n",
       "\n",
       "              min  state_number      mean  N_IN_Conn_P_DstIP     drate  \\\n",
       "0        0.000000             4  2.687519                100  0.000000   \n",
       "1        3.856930             3  3.934927                100  0.000000   \n",
       "2        2.974100             3  3.341429                100  0.000000   \n",
       "3        0.000000             4  3.222832                 63  0.000000   \n",
       "4        2.979995             4  3.983222                100  0.000000   \n",
       "...           ...           ...       ...                ...       ...   \n",
       "2934812  4.082509             4  4.102515                100  0.000000   \n",
       "2934813  0.000000             4  2.718527                100  0.000000   \n",
       "2934814  0.000000             4  2.110766                100  0.000000   \n",
       "2934815  0.000000             3  0.000000                100  0.000000   \n",
       "2934816  0.064767             1  0.118588                100  0.038796   \n",
       "\n",
       "            srate       max  \n",
       "0        0.494549  4.031619  \n",
       "1        0.256493  4.012924  \n",
       "2        0.294880  3.609205  \n",
       "3        0.461435  4.942302  \n",
       "4        1.002999  4.994452  \n",
       "...           ...       ...  \n",
       "2934812  0.243473  4.124047  \n",
       "2934813  0.490800  4.090534  \n",
       "2934814  0.207444  4.332615  \n",
       "2934815  0.162130  0.000000  \n",
       "2934816  0.116388  0.172408  \n",
       "\n",
       "[2934817 rows x 14 columns]"
      ]
     },
     "execution_count": 16,
     "metadata": {},
     "output_type": "execute_result"
    }
   ],
   "source": [
    "features = data.drop(columns=[\"category\", \"subcategory\", \"attack\"])\n",
    "features = features.drop(['saddr', 'daddr'], axis=1)\n",
    "features"
   ]
  },
  {
   "cell_type": "code",
   "execution_count": 17,
   "metadata": {},
   "outputs": [
    {
     "data": {
      "text/plain": [
       "Index(['pkSeqID', 'proto', 'sport', 'dport', 'seq', 'stddev',\n",
       "       'N_IN_Conn_P_SrcIP', 'min', 'state_number', 'mean', 'N_IN_Conn_P_DstIP',\n",
       "       'drate', 'srate', 'max'],\n",
       "      dtype='object')"
      ]
     },
     "execution_count": 17,
     "metadata": {},
     "output_type": "execute_result"
    }
   ],
   "source": [
    "features.columns"
   ]
  },
  {
   "cell_type": "code",
   "execution_count": 19,
   "metadata": {},
   "outputs": [],
   "source": [
    "num_features = features.select_dtypes(include=[np.number])\n",
    "features_array = num_features.values.astype(np.float32)\n",
    "\n",
    "# features_array = features.values.astype(np.float32)\n",
    "labels_array = labels.values.astype(np.int64)  # 如果标签是整数型，可以使用 np.long 类型"
   ]
  },
  {
   "cell_type": "code",
   "execution_count": 20,
   "metadata": {},
   "outputs": [
    {
     "data": {
      "text/plain": [
       "(2934817, 12)"
      ]
     },
     "execution_count": 20,
     "metadata": {},
     "output_type": "execute_result"
    }
   ],
   "source": [
    "features_array.shape"
   ]
  },
  {
   "cell_type": "code",
   "execution_count": 21,
   "metadata": {},
   "outputs": [
    {
     "data": {
      "text/plain": [
       "(2934817,)"
      ]
     },
     "execution_count": 21,
     "metadata": {},
     "output_type": "execute_result"
    }
   ],
   "source": [
    "labels_array.shape"
   ]
  },
  {
   "cell_type": "code",
   "execution_count": 24,
   "metadata": {},
   "outputs": [],
   "source": [
    "scaler = StandardScaler()\n",
    "standardized_data = scaler.fit_transform(features_array)\n",
    "min_max_scaler = MinMaxScaler()\n",
    "normalized_data = min_max_scaler.fit_transform(standardized_data)"
   ]
  },
  {
   "cell_type": "code",
   "execution_count": 25,
   "metadata": {},
   "outputs": [],
   "source": [
    "import torch\n",
    "features_tensor = torch.tensor(normalized_data, dtype=torch.float32)\n",
    "labels_tensor = torch.tensor(labels_array, dtype=torch.long)  # 如果标签是整数型，可以使用 torch.long 类型"
   ]
  },
  {
   "cell_type": "code",
   "execution_count": 26,
   "metadata": {},
   "outputs": [],
   "source": [
    "features_tensor = pd.concat([data[['saddr', 'daddr']].reset_index(drop=True), pd.DataFrame(features_tensor.numpy())], axis=1)"
   ]
  },
  {
   "cell_type": "code",
   "execution_count": 27,
   "metadata": {},
   "outputs": [],
   "source": [
    "X_train = features_tensor\n",
    "y_train = labels_tensor"
   ]
  },
  {
   "cell_type": "code",
   "execution_count": 28,
   "metadata": {},
   "outputs": [],
   "source": [
    "train_ds = len(X_train)"
   ]
  },
  {
   "cell_type": "code",
   "execution_count": 29,
   "metadata": {},
   "outputs": [],
   "source": [
    "cols_to_norm = list(set(list(X_train.iloc[:, 2:].columns)) - set(list(['label'])))\n",
    "X_train[cols_to_norm] = scaler.fit_transform(X_train[cols_to_norm])"
   ]
  },
  {
   "cell_type": "code",
   "execution_count": 30,
   "metadata": {},
   "outputs": [],
   "source": [
    "X_train['label'] = y_train\n",
    "X_train['h'] = X_train[cols_to_norm].values.tolist()"
   ]
  },
  {
   "cell_type": "code",
   "execution_count": 31,
   "metadata": {},
   "outputs": [
    {
     "data": {
      "text/html": [
       "<div>\n",
       "<style scoped>\n",
       "    .dataframe tbody tr th:only-of-type {\n",
       "        vertical-align: middle;\n",
       "    }\n",
       "\n",
       "    .dataframe tbody tr th {\n",
       "        vertical-align: top;\n",
       "    }\n",
       "\n",
       "    .dataframe thead th {\n",
       "        text-align: right;\n",
       "    }\n",
       "</style>\n",
       "<table border=\"1\" class=\"dataframe\">\n",
       "  <thead>\n",
       "    <tr style=\"text-align: right;\">\n",
       "      <th></th>\n",
       "      <th>saddr</th>\n",
       "      <th>daddr</th>\n",
       "      <th>0</th>\n",
       "      <th>1</th>\n",
       "      <th>2</th>\n",
       "      <th>3</th>\n",
       "      <th>4</th>\n",
       "      <th>5</th>\n",
       "      <th>6</th>\n",
       "      <th>7</th>\n",
       "      <th>8</th>\n",
       "      <th>9</th>\n",
       "      <th>10</th>\n",
       "      <th>11</th>\n",
       "      <th>label</th>\n",
       "      <th>h</th>\n",
       "    </tr>\n",
       "  </thead>\n",
       "  <tbody>\n",
       "    <tr>\n",
       "      <th>0</th>\n",
       "      <td>172.29.231.6</td>\n",
       "      <td>192.168.100.3</td>\n",
       "      <td>1.235583</td>\n",
       "      <td>0.897328</td>\n",
       "      <td>1.724395</td>\n",
       "      <td>1.261013</td>\n",
       "      <td>0.715453</td>\n",
       "      <td>-0.685658</td>\n",
       "      <td>0.729321</td>\n",
       "      <td>0.301132</td>\n",
       "      <td>0.415178</td>\n",
       "      <td>-0.007652</td>\n",
       "      <td>-0.003357</td>\n",
       "      <td>0.544007</td>\n",
       "      <td>1</td>\n",
       "      <td>[1.2355825901031494, 0.8973283767700195, 1.724...</td>\n",
       "    </tr>\n",
       "    <tr>\n",
       "      <th>1</th>\n",
       "      <td>172.26.47.197</td>\n",
       "      <td>192.168.100.3</td>\n",
       "      <td>0.564705</td>\n",
       "      <td>-1.049143</td>\n",
       "      <td>1.786939</td>\n",
       "      <td>-1.006622</td>\n",
       "      <td>-1.826553</td>\n",
       "      <td>1.914139</td>\n",
       "      <td>-0.113064</td>\n",
       "      <td>1.123003</td>\n",
       "      <td>0.415178</td>\n",
       "      <td>-0.007652</td>\n",
       "      <td>-0.003660</td>\n",
       "      <td>0.533961</td>\n",
       "      <td>1</td>\n",
       "      <td>[0.5647051334381104, -1.0491434335708618, 1.78...</td>\n",
       "    </tr>\n",
       "    <tr>\n",
       "      <th>2</th>\n",
       "      <td>172.29.25.126</td>\n",
       "      <td>192.168.100.3</td>\n",
       "      <td>0.134182</td>\n",
       "      <td>-1.049143</td>\n",
       "      <td>-0.770268</td>\n",
       "      <td>-0.769373</td>\n",
       "      <td>0.715453</td>\n",
       "      <td>1.319060</td>\n",
       "      <td>-0.113064</td>\n",
       "      <td>0.731969</td>\n",
       "      <td>0.415178</td>\n",
       "      <td>-0.007652</td>\n",
       "      <td>-0.003612</td>\n",
       "      <td>0.317014</td>\n",
       "      <td>1</td>\n",
       "      <td>[0.13418172299861908, -1.0491434335708618, -0....</td>\n",
       "    </tr>\n",
       "    <tr>\n",
       "      <th>3</th>\n",
       "      <td>172.19.59.84</td>\n",
       "      <td>192.168.100.3</td>\n",
       "      <td>-0.560358</td>\n",
       "      <td>0.897328</td>\n",
       "      <td>-0.291994</td>\n",
       "      <td>1.164977</td>\n",
       "      <td>-0.801551</td>\n",
       "      <td>-0.685658</td>\n",
       "      <td>0.729321</td>\n",
       "      <td>0.653830</td>\n",
       "      <td>-1.621537</td>\n",
       "      <td>-0.007652</td>\n",
       "      <td>-0.003399</td>\n",
       "      <td>1.033381</td>\n",
       "      <td>1</td>\n",
       "      <td>[-0.5603584051132202, 0.8973283767700195, -0.2...</td>\n",
       "    </tr>\n",
       "    <tr>\n",
       "      <th>4</th>\n",
       "      <td>172.29.231.233</td>\n",
       "      <td>192.168.100.3</td>\n",
       "      <td>1.344386</td>\n",
       "      <td>0.897328</td>\n",
       "      <td>-0.214210</td>\n",
       "      <td>-0.080317</td>\n",
       "      <td>0.715453</td>\n",
       "      <td>1.323033</td>\n",
       "      <td>0.729321</td>\n",
       "      <td>1.154823</td>\n",
       "      <td>0.415178</td>\n",
       "      <td>-0.007652</td>\n",
       "      <td>-0.002709</td>\n",
       "      <td>1.061404</td>\n",
       "      <td>1</td>\n",
       "      <td>[1.3443859815597534, 0.8973283767700195, -0.21...</td>\n",
       "    </tr>\n",
       "    <tr>\n",
       "      <th>...</th>\n",
       "      <td>...</td>\n",
       "      <td>...</td>\n",
       "      <td>...</td>\n",
       "      <td>...</td>\n",
       "      <td>...</td>\n",
       "      <td>...</td>\n",
       "      <td>...</td>\n",
       "      <td>...</td>\n",
       "      <td>...</td>\n",
       "      <td>...</td>\n",
       "      <td>...</td>\n",
       "      <td>...</td>\n",
       "      <td>...</td>\n",
       "      <td>...</td>\n",
       "      <td>...</td>\n",
       "      <td>...</td>\n",
       "    </tr>\n",
       "    <tr>\n",
       "      <th>2934812</th>\n",
       "      <td>172.22.98.77</td>\n",
       "      <td>192.168.100.5</td>\n",
       "      <td>-0.662292</td>\n",
       "      <td>0.897328</td>\n",
       "      <td>1.742683</td>\n",
       "      <td>-1.082541</td>\n",
       "      <td>0.715453</td>\n",
       "      <td>2.066192</td>\n",
       "      <td>0.729321</td>\n",
       "      <td>1.233421</td>\n",
       "      <td>0.415178</td>\n",
       "      <td>-0.007652</td>\n",
       "      <td>-0.003677</td>\n",
       "      <td>0.593675</td>\n",
       "      <td>1</td>\n",
       "      <td>[-0.6622923612594604, 0.8973283767700195, 1.74...</td>\n",
       "    </tr>\n",
       "    <tr>\n",
       "      <th>2934813</th>\n",
       "      <td>172.28.97.240</td>\n",
       "      <td>192.168.100.3</td>\n",
       "      <td>1.463955</td>\n",
       "      <td>0.897328</td>\n",
       "      <td>1.456657</td>\n",
       "      <td>1.288331</td>\n",
       "      <td>0.715453</td>\n",
       "      <td>-0.685658</td>\n",
       "      <td>0.729321</td>\n",
       "      <td>0.321562</td>\n",
       "      <td>0.415178</td>\n",
       "      <td>-0.007652</td>\n",
       "      <td>-0.003362</td>\n",
       "      <td>0.575666</td>\n",
       "      <td>1</td>\n",
       "      <td>[1.4639545679092407, 0.8973283767700195, 1.456...</td>\n",
       "    </tr>\n",
       "    <tr>\n",
       "      <th>2934814</th>\n",
       "      <td>172.21.79.95</td>\n",
       "      <td>192.168.100.5</td>\n",
       "      <td>-0.999300</td>\n",
       "      <td>0.897328</td>\n",
       "      <td>0.492415</td>\n",
       "      <td>1.524645</td>\n",
       "      <td>0.715453</td>\n",
       "      <td>-0.685658</td>\n",
       "      <td>0.729321</td>\n",
       "      <td>-0.078869</td>\n",
       "      <td>0.415178</td>\n",
       "      <td>-0.007652</td>\n",
       "      <td>-0.003723</td>\n",
       "      <td>0.705753</td>\n",
       "      <td>1</td>\n",
       "      <td>[-0.9992995858192444, 0.8973283767700195, 0.49...</td>\n",
       "    </tr>\n",
       "    <tr>\n",
       "      <th>2934815</th>\n",
       "      <td>172.18.229.27</td>\n",
       "      <td>192.168.100.7</td>\n",
       "      <td>-1.313172</td>\n",
       "      <td>-1.049143</td>\n",
       "      <td>0.772662</td>\n",
       "      <td>-1.103685</td>\n",
       "      <td>0.715453</td>\n",
       "      <td>-0.685658</td>\n",
       "      <td>-0.113064</td>\n",
       "      <td>-1.469575</td>\n",
       "      <td>0.415178</td>\n",
       "      <td>-0.007652</td>\n",
       "      <td>-0.003781</td>\n",
       "      <td>-1.622465</td>\n",
       "      <td>1</td>\n",
       "      <td>[-1.3131719827651978, -1.0491434335708618, 0.7...</td>\n",
       "    </tr>\n",
       "    <tr>\n",
       "      <th>2934816</th>\n",
       "      <td>172.23.203.243</td>\n",
       "      <td>192.168.100.3</td>\n",
       "      <td>-1.640423</td>\n",
       "      <td>-1.049143</td>\n",
       "      <td>-0.341329</td>\n",
       "      <td>-1.036714</td>\n",
       "      <td>0.715453</td>\n",
       "      <td>-0.642001</td>\n",
       "      <td>-1.797832</td>\n",
       "      <td>-1.391442</td>\n",
       "      <td>0.415178</td>\n",
       "      <td>-0.006962</td>\n",
       "      <td>-0.003839</td>\n",
       "      <td>-1.529818</td>\n",
       "      <td>1</td>\n",
       "      <td>[-1.64042329788208, -1.0491434335708618, -0.34...</td>\n",
       "    </tr>\n",
       "  </tbody>\n",
       "</table>\n",
       "<p>2934817 rows × 16 columns</p>\n",
       "</div>"
      ],
      "text/plain": [
       "                  saddr          daddr         0         1         2  \\\n",
       "0          172.29.231.6  192.168.100.3  1.235583  0.897328  1.724395   \n",
       "1         172.26.47.197  192.168.100.3  0.564705 -1.049143  1.786939   \n",
       "2         172.29.25.126  192.168.100.3  0.134182 -1.049143 -0.770268   \n",
       "3          172.19.59.84  192.168.100.3 -0.560358  0.897328 -0.291994   \n",
       "4        172.29.231.233  192.168.100.3  1.344386  0.897328 -0.214210   \n",
       "...                 ...            ...       ...       ...       ...   \n",
       "2934812    172.22.98.77  192.168.100.5 -0.662292  0.897328  1.742683   \n",
       "2934813   172.28.97.240  192.168.100.3  1.463955  0.897328  1.456657   \n",
       "2934814    172.21.79.95  192.168.100.5 -0.999300  0.897328  0.492415   \n",
       "2934815   172.18.229.27  192.168.100.7 -1.313172 -1.049143  0.772662   \n",
       "2934816  172.23.203.243  192.168.100.3 -1.640423 -1.049143 -0.341329   \n",
       "\n",
       "                3         4         5         6         7         8         9  \\\n",
       "0        1.261013  0.715453 -0.685658  0.729321  0.301132  0.415178 -0.007652   \n",
       "1       -1.006622 -1.826553  1.914139 -0.113064  1.123003  0.415178 -0.007652   \n",
       "2       -0.769373  0.715453  1.319060 -0.113064  0.731969  0.415178 -0.007652   \n",
       "3        1.164977 -0.801551 -0.685658  0.729321  0.653830 -1.621537 -0.007652   \n",
       "4       -0.080317  0.715453  1.323033  0.729321  1.154823  0.415178 -0.007652   \n",
       "...           ...       ...       ...       ...       ...       ...       ...   \n",
       "2934812 -1.082541  0.715453  2.066192  0.729321  1.233421  0.415178 -0.007652   \n",
       "2934813  1.288331  0.715453 -0.685658  0.729321  0.321562  0.415178 -0.007652   \n",
       "2934814  1.524645  0.715453 -0.685658  0.729321 -0.078869  0.415178 -0.007652   \n",
       "2934815 -1.103685  0.715453 -0.685658 -0.113064 -1.469575  0.415178 -0.007652   \n",
       "2934816 -1.036714  0.715453 -0.642001 -1.797832 -1.391442  0.415178 -0.006962   \n",
       "\n",
       "               10        11  label  \\\n",
       "0       -0.003357  0.544007      1   \n",
       "1       -0.003660  0.533961      1   \n",
       "2       -0.003612  0.317014      1   \n",
       "3       -0.003399  1.033381      1   \n",
       "4       -0.002709  1.061404      1   \n",
       "...           ...       ...    ...   \n",
       "2934812 -0.003677  0.593675      1   \n",
       "2934813 -0.003362  0.575666      1   \n",
       "2934814 -0.003723  0.705753      1   \n",
       "2934815 -0.003781 -1.622465      1   \n",
       "2934816 -0.003839 -1.529818      1   \n",
       "\n",
       "                                                         h  \n",
       "0        [1.2355825901031494, 0.8973283767700195, 1.724...  \n",
       "1        [0.5647051334381104, -1.0491434335708618, 1.78...  \n",
       "2        [0.13418172299861908, -1.0491434335708618, -0....  \n",
       "3        [-0.5603584051132202, 0.8973283767700195, -0.2...  \n",
       "4        [1.3443859815597534, 0.8973283767700195, -0.21...  \n",
       "...                                                    ...  \n",
       "2934812  [-0.6622923612594604, 0.8973283767700195, 1.74...  \n",
       "2934813  [1.4639545679092407, 0.8973283767700195, 1.456...  \n",
       "2934814  [-0.9992995858192444, 0.8973283767700195, 0.49...  \n",
       "2934815  [-1.3131719827651978, -1.0491434335708618, 0.7...  \n",
       "2934816  [-1.64042329788208, -1.0491434335708618, -0.34...  \n",
       "\n",
       "[2934817 rows x 16 columns]"
      ]
     },
     "execution_count": 31,
     "metadata": {},
     "output_type": "execute_result"
    }
   ],
   "source": [
    "X_train"
   ]
  },
  {
   "cell_type": "code",
   "execution_count": 2,
   "metadata": {},
   "outputs": [],
   "source": [
    "from dgl.data.utils import load_graphs   \n",
    "G = load_graphs(\"./binary_data.bin\")[0][0]"
   ]
  },
  {
   "cell_type": "code",
   "execution_count": 32,
   "metadata": {},
   "outputs": [],
   "source": [
    "G = nx.from_pandas_edgelist(X_train, \"saddr\", \"daddr\", ['h', 'label'], create_using=nx.MultiGraph())\n",
    "G = G.to_directed()\n",
    "G = from_networkx(G, edge_attrs=['h', 'label'])"
   ]
  },
  {
   "cell_type": "code",
   "execution_count": 33,
   "metadata": {},
   "outputs": [],
   "source": [
    "# Eq1\n",
    "G.ndata['h'] = th.ones(G.num_nodes(), G.edata['h'].shape[1])\n",
    "G.ndata['h'] = th.reshape(G.ndata['h'], (G.ndata['h'].shape[0], 1, G.ndata['h'].shape[1]))\n",
    "G.edata['h'] = th.reshape(G.edata['h'], (G.edata['h'].shape[0], 1, G.edata['h'].shape[1]))"
   ]
  },
  {
   "cell_type": "code",
   "execution_count": 34,
   "metadata": {},
   "outputs": [],
   "source": [
    "G.edata['train_mask'] = th.ones(len(G.edata['h']), dtype=th.bool)"
   ]
  },
  {
   "cell_type": "code",
   "execution_count": 35,
   "metadata": {},
   "outputs": [],
   "source": [
    "from dgl.data.utils import save_graphs\n",
    "save_graphs(\"./binary_data.bin\", [G])"
   ]
  },
  {
   "cell_type": "code",
   "execution_count": 3,
   "metadata": {},
   "outputs": [
    {
     "name": "stdout",
     "output_type": "stream",
     "text": [
      "torch.Size([933395, 1, 12])\n",
      "torch.Size([5869634, 1, 12])\n"
     ]
    }
   ],
   "source": [
    "node_features = G.ndata['h']\n",
    "edge_features = G.edata['h']\n",
    "\n",
    "edge_label = G.edata['label']\n",
    "train_mask = G.edata['train_mask']\n",
    "\n",
    "print(node_features.shape)\n",
    "print(edge_features.shape)"
   ]
  },
  {
   "cell_type": "code",
   "execution_count": 4,
   "metadata": {},
   "outputs": [],
   "source": [
    "import torch\n",
    "import torch as th\n",
    "import torch.nn as nn\n",
    "import torch.nn.functional as F\n",
    "import dgl.function as fn\n",
    "class SAGELayer(nn.Module):\n",
    "    # ndim_in, edims 是初始输入的维度，但只有 W_msg111 仍使用 edims\n",
    "    # ndim_out 是本层最终输出的特征维度 (即 128)\n",
    "    def __init__(self, ndim_in, edims, ndim_out, activation):\n",
    "        super(SAGELayer, self).__init__()\n",
    "        \n",
    "        # W_msg111：第一次聚合，输入edims (13)，输出ndim_out (128)\n",
    "        self.W_msg111 = nn.Linear(edims, ndim_out)\n",
    "        \n",
    "        # --- 核心修复：第二次聚合 W_msg ---\n",
    "        # 输入： 第一次聚合后的节点特征 (ndim_out=128) + 原始边特征 (edims=13)\n",
    "        # 修复为： 128 + 13 = 141\n",
    "        self.W_msg = nn.Linear(ndim_out + edims, ndim_out) # 141 -> 128\n",
    "        \n",
    "        # W_apply：接收 ndim_out 维度输入 (h_neigh + h_neigh)，输出 ndim_out\n",
    "        self.W_apply = nn.Linear(ndim_out, ndim_out)\n",
    "        \n",
    "        self.activation = activation\n",
    "\n",
    "    def message_func(self, edges):\n",
    "        # 修正维度：[B, 1, F] -> [B, F]\n",
    "        src_h = edges.src['h'].squeeze(1)\n",
    "        edge_h = edges.data['h'].squeeze(1)\n",
    "        concatenated = th.cat([src_h, edge_h], dim=1) \n",
    "        # 消息 m 的维度是 ndim_out\n",
    "        return {'m': self.W_msg(concatenated).unsqueeze(1)} \n",
    "\n",
    "    def message_func111(self, edges):\n",
    "        # 修正维度：[B, 1, F] -> [B, F]\n",
    "        edge_h = edges.data['h'].squeeze(1)\n",
    "        # 原始思想：th.add(edges.data['h'], edges.data['h'])，维度不变\n",
    "        added = th.add(edge_h, edge_h)\n",
    "        # 消息 m 的维度是 ndim_out\n",
    "        return {'m': self.W_msg111(added).unsqueeze(1)}\n",
    "    def forward(self, g_dgl, nfeats, efeats):\n",
    "        with g_dgl.local_scope():\n",
    "            g = g_dgl\n",
    "            # 节点 h 初始为 [N, 1, ndim_in=13]\n",
    "            g.ndata['h'] = nfeats\n",
    "            g.edata['h'] = efeats\n",
    "\n",
    "            # 第一次聚合：将 h 变为 [N, 1, ndim_out=128]\n",
    "            g.update_all(self.message_func111, fn.mean('m', 'h_neigh'))\n",
    "            g.ndata['h'] = F.relu(g.ndata['h_neigh']) # h 现在是 128 维\n",
    "\n",
    "            # 第二次聚合：使用 128 维的源节点特征和 13 维的边特征\n",
    "            # 拼接维度：128 + 13 = 141 (与 W_msg 匹配)\n",
    "            g.update_all(self.message_func, fn.mean('m', 'h_neigh'))\n",
    "\n",
    "            h_neigh = g.ndata['h_neigh'] \n",
    "            aaa = th.add(h_neigh, h_neigh)\n",
    "            \n",
    "            aaa_squeezed = aaa.squeeze(1) \n",
    "            g.ndata['h'] = F.relu(self.W_apply(aaa_squeezed)).unsqueeze(1)\n",
    "\n",
    "            return g.ndata['h']"
   ]
  },
  {
   "cell_type": "code",
   "execution_count": 5,
   "metadata": {},
   "outputs": [],
   "source": [
    "# --- 2. SAGE (Simplified, Coordinating Block) ---\n",
    "class SAGE(nn.Module):\n",
    "    def __init__(self, ndim_in, ndim_out, edim, activation, dropout):\n",
    "        super(SAGE, self).__init__()\n",
    "        self.layers = nn.ModuleList()\n",
    "        # GNN 层输出 ndim_out 维特征\n",
    "        self.layers.append(SAGELayer(ndim_in, edim, ndim_out, activation))\n",
    "        self.dropout = nn.Dropout(p=dropout)\n",
    "\n",
    "    def forward(self, g, nfeats, efeats):\n",
    "        for i, layer in enumerate(self.layers):\n",
    "            if i != 0:\n",
    "                nfeats = self.dropout(nfeats)\n",
    "            nfeats = layer(g, nfeats, efeats)\n",
    "            \n",
    "        # 原始思想：nfeats.sum(1)\n",
    "        # 结果：[N, 1, ndim_out] -> [N, ndim_out]\n",
    "        return nfeats.sum(1)"
   ]
  },
  {
   "cell_type": "code",
   "execution_count": 6,
   "metadata": {},
   "outputs": [],
   "source": [
    "# --- 3. FullyConnectedPredictor (Flexible + Original Logic) ---\n",
    "class FullyConnectedPredictor(nn.Module):\n",
    "    # in_features 是 GNN 输出特征维度 (ndim_out)\n",
    "    # edge_dim 是原始边特征维度\n",
    "    def __init__(self, in_features, out_classes, edge_dim):\n",
    "        super().__init__()\n",
    "        \n",
    "        # --- 原始思想 1：fc111 (边特征转换) ---\n",
    "        # 原始是 (32 -> 128)。现在是 (edge_dim -> in_features)\n",
    "        self.fc_edge = nn.Linear(edge_dim, in_features)\n",
    "        \n",
    "        # --- 原始思想 2：fc (最终预测层) ---\n",
    "        # 原始输入是 (h_u + h_v)[in_features] + 转换后的边特征[in_features]，总维度 2 * in_features\n",
    "        self.fc = nn.Linear(2 * in_features, out_classes) \n",
    "\n",
    "    def apply_edges(self, edges):\n",
    "        # 节点特征 h_u 和 h_v 形状为 [B, in_features]\n",
    "        h_u = edges.src['h']\n",
    "        h_v = edges.dst['h']\n",
    "        \n",
    "        # --- 原始思想：节点特征乘以 10 并相加 ---\n",
    "        h_u_scaled = h_u * 10\n",
    "        h_v_scaled = h_v * 10\n",
    "        concatenated = th.add(h_u_scaled, h_v_scaled) # [B, in_features]\n",
    "        \n",
    "        # 边特征处理\n",
    "        h_e_raw = edges.data['h'].squeeze(1) # [B, edge_dim]\n",
    "        h_e_transformed = self.fc_edge(h_e_raw) # [B, in_features]\n",
    "        \n",
    "        # 最终拼接： [h_u * 10 + h_v * 10] + [h_e_transformed]\n",
    "        concatenated = th.cat([concatenated, h_e_transformed], 1) # [B, 2 * in_features]\n",
    "        \n",
    "        # 预测分数\n",
    "        score = self.fc(concatenated) # [B, out_classes]\n",
    "        return {'score': score}\n",
    "\n",
    "    def forward(self, graph, h):\n",
    "        with graph.local_scope():\n",
    "            graph.ndata['h'] = h\n",
    "            graph.apply_edges(self.apply_edges)\n",
    "            return graph.edata['score']"
   ]
  },
  {
   "cell_type": "code",
   "execution_count": 7,
   "metadata": {},
   "outputs": [],
   "source": [
    "# --- 4. Model Class (Adapted for New Predictor) ---\n",
    "class Model(nn.Module):\n",
    "    def __init__(self, ndim_in, ndim_out, edim, activation, dropout, num_classes):\n",
    "        super().__init__()\n",
    "        # GNN 块使用 ndim_out 作为其输出维度\n",
    "        self.gnn = SAGE(ndim_in, ndim_out, edim, activation, dropout) \n",
    "        \n",
    "        # 预测器现在接收 in_features (ndim_out), out_classes, 和 edge_dim (edim)\n",
    "        self.pred = FullyConnectedPredictor(ndim_out, num_classes, edim) \n",
    "\n",
    "    def forward(self, g, nfeats, efeats):\n",
    "        h = self.gnn(g, nfeats, efeats)\n",
    "        return self.pred(g, h)"
   ]
  },
  {
   "cell_type": "code",
   "execution_count": 8,
   "metadata": {},
   "outputs": [],
   "source": [
    "from sklearn.utils import class_weight\n",
    "\n",
    "class_weights = class_weight.compute_class_weight('balanced',\n",
    "                                                  classes=np.unique(G.edata['label'].cpu().numpy()),\n",
    "                                                  y=G.edata['label'].cpu().numpy())\n",
    "\n",
    "class_weights = th.FloatTensor(class_weights)\n",
    "criterion = nn.CrossEntropyLoss().cuda()\n",
    "# criterion = nn.CrossEntropyLoss(weight=class_weights).cuda()"
   ]
  },
  {
   "cell_type": "code",
   "execution_count": 8,
   "metadata": {},
   "outputs": [],
   "source": [
    "from sklearn.utils import class_weight\n",
    "\n",
    "# 计算类别权重\n",
    "labels = G.edata['label'].cpu().numpy()\n",
    "class_weights = class_weight.compute_class_weight(\n",
    "    class_weight='balanced',\n",
    "    classes=np.unique(labels),\n",
    "    y=labels\n",
    ")\n",
    "\n",
    "# 转换为 torch tensor，并放到 GPU 上\n",
    "class_weights = th.FloatTensor(class_weights).to('cuda')\n",
    "\n",
    "# 定义带权重的损失函数\n",
    "criterion = nn.CrossEntropyLoss(weight=class_weights).to('cuda')\n"
   ]
  },
  {
   "cell_type": "code",
   "execution_count": 9,
   "metadata": {},
   "outputs": [],
   "source": [
    "def compute_accuracy(pred, labels):\n",
    "    return (pred.argmax(1) == labels).float().mean().item()"
   ]
  },
  {
   "cell_type": "code",
   "execution_count": 10,
   "metadata": {},
   "outputs": [],
   "source": [
    "node_features = node_features.cuda()\n",
    "edge_features = edge_features.cuda()\n",
    "edge_label = edge_label.cuda()\n",
    "train_mask = train_mask.cuda()\n",
    "G = G.to('cuda')"
   ]
  },
  {
   "cell_type": "code",
   "execution_count": 11,
   "metadata": {},
   "outputs": [
    {
     "name": "stdout",
     "output_type": "stream",
     "text": [
      "Node feature shape: torch.Size([933395, 1, 12])\n",
      "Edge feature shape: torch.Size([5869634, 1, 12])\n"
     ]
    }
   ],
   "source": [
    "print(f\"Node feature shape: {node_features.shape}\")\n",
    "print(f\"Edge feature shape: {edge_features.shape}\")\n",
    "\n",
    "# 假设输出是:\n",
    "# Node feature shape: [N, 1, A]  -> A是实际的节点维度\n",
    "# Edge feature shape: [E, 1, B]  -> B是实际的边的维度\n",
    "\n",
    "A_actual = node_features.shape[2] # 实际节点维度\n",
    "B_actual = edge_features.shape[2] # 实际边维度"
   ]
  },
  {
   "cell_type": "code",
   "execution_count": 12,
   "metadata": {},
   "outputs": [],
   "source": [
    "# 获取实际的特征维度\n",
    "actual_node_dim = node_features.shape[2] \n",
    "actual_edge_dim = edge_features.shape[2] "
   ]
  },
  {
   "cell_type": "code",
   "execution_count": 13,
   "metadata": {},
   "outputs": [
    {
     "name": "stdout",
     "output_type": "stream",
     "text": [
      "Node In Dim: 12\n",
      "Edge In Dim: 12\n"
     ]
    }
   ],
   "source": [
    "# 定义 GNN 的输入/输出维度\n",
    "node_in_dim = actual_node_dim # 应该等于某个值 A_actual\n",
    "edge_in_dim = actual_edge_dim # 应该等于某个值 B_actual\n",
    "gnn_out_dim = 128            \n",
    "num_classes = 2\n",
    "print(f\"Node In Dim: {actual_node_dim}\")\n",
    "print(f\"Edge In Dim: {actual_edge_dim}\")"
   ]
  },
  {
   "cell_type": "code",
   "execution_count": 14,
   "metadata": {},
   "outputs": [
    {
     "name": "stderr",
     "output_type": "stream",
     "text": [
      "/tmp/ipykernel_37/3865941546.py:26: UserWarning: indexing with dtype torch.uint8 is now deprecated, please use a dtype torch.bool instead. (Triggered internally at /opt/conda/conda-bld/pytorch_1720538435607/work/aten/src/ATen/native/IndexingUtils.h:27.)\n",
      "  loss = criterion(pred[train_mask], edge_label[train_mask])\n",
      "/opt/conda/lib/python3.11/site-packages/torch/autograd/graph.py:768: UserWarning: indexing with dtype torch.uint8 is now deprecated, please use a dtype torch.bool instead. (Triggered internally at /opt/conda/conda-bld/pytorch_1720538435607/work/aten/src/ATen/native/IndexingUtils.h:27.)\n",
      "  return Variable._execution_engine.run_backward(  # Calls into the C++ engine to run the backward pass\n",
      "/tmp/ipykernel_37/3865941546.py:33: UserWarning: indexing with dtype torch.uint8 is now deprecated, please use a dtype torch.bool instead. (Triggered internally at /opt/conda/conda-bld/pytorch_1720538435607/work/aten/src/ATen/native/IndexingUtils.h:27.)\n",
      "  acc = compute_accuracy(pred[train_mask], edge_label[train_mask])\n"
     ]
    },
    {
     "name": "stdout",
     "output_type": "stream",
     "text": [
      "Epoch: 1  Training acc: 0.9826558828353882\n",
      "Model saved at ./binary_model/epoch-1.pt\n",
      "Epoch: 2  Training acc: 0.15784595906734467\n",
      "Model saved at ./binary_model/epoch-2.pt\n"
     ]
    }
   ],
   "source": [
    "import os\n",
    "\n",
    "# 实例化模型\n",
    "model = Model(\n",
    "    ndim_in=node_in_dim, \n",
    "    ndim_out=gnn_out_dim, \n",
    "    edim=edge_in_dim, \n",
    "    activation=F.relu, \n",
    "    dropout=0.2,\n",
    "    num_classes=num_classes\n",
    ").to('cuda')\n",
    "\n",
    "# 优化器\n",
    "opt = th.optim.Adam(model.parameters())\n",
    "\n",
    "# 训练循环 (保持不变)\n",
    "losses = []\n",
    "accuracies = []\n",
    "\n",
    "# 确保保存模型的目录存在\n",
    "save_dir = './binary_model'\n",
    "os.makedirs(save_dir, exist_ok=True)\n",
    "\n",
    "for epoch in range(1, 3):\n",
    "    pred = model(G, node_features, edge_features)\n",
    "    loss = criterion(pred[train_mask], edge_label[train_mask])\n",
    "    opt.zero_grad()\n",
    "    loss.backward()\n",
    "    opt.step()\n",
    "\n",
    "    # 记录损失和准确率\n",
    "    losses.append(loss.item())\n",
    "    acc = compute_accuracy(pred[train_mask], edge_label[train_mask])\n",
    "    accuracies.append(acc)\n",
    "\n",
    "    if epoch % 1 == 0:\n",
    "        print('Epoch:', epoch, ' Training acc:', acc)\n",
    "\n",
    "    # 每100个epoch保存一次模型\n",
    "    if epoch % 1 == 0:\n",
    "        save_path = os.path.join(save_dir, f'epoch-{epoch}.pt')\n",
    "        th.save(model.state_dict(), save_path)\n",
    "        print(f'Model saved at {save_path}')\n"
   ]
  },
  {
   "cell_type": "code",
   "execution_count": 16,
   "metadata": {},
   "outputs": [],
   "source": [
    "import torch as th\n",
    "import os\n",
    "\n",
    "# 定义保存路径\n",
    "MODEL_DIR = './saved_models'\n",
    "MODEL_NAME = 'edge_predictor_sage_final_binary.pt'\n",
    "SAVE_PATH = os.path.join(MODEL_DIR, MODEL_NAME)"
   ]
  },
  {
   "cell_type": "code",
   "execution_count": 17,
   "metadata": {},
   "outputs": [
    {
     "name": "stdout",
     "output_type": "stream",
     "text": [
      "模型已成功保存到: ./saved_models/edge_predictor_sage_final_binary.pt\n"
     ]
    }
   ],
   "source": [
    "# 确保目录存在\n",
    "os.makedirs(MODEL_DIR, exist_ok=True)\n",
    "\n",
    "# 保存模型的状态字典\n",
    "# model 是您训练好的 Model 实例\n",
    "th.save(model.state_dict(), SAVE_PATH)\n",
    "\n",
    "print(f\"模型已成功保存到: {SAVE_PATH}\")"
   ]
  },
  {
   "cell_type": "code",
   "execution_count": 51,
   "metadata": {},
   "outputs": [
    {
     "name": "stdout",
     "output_type": "stream",
     "text": [
      "总样本数: 733705\n",
      "字段: ['pkSeqID', 'proto', 'saddr', 'sport', 'daddr', 'dport', 'seq', 'stddev', 'N_IN_Conn_P_SrcIP', 'min', 'state_number', 'mean', 'N_IN_Conn_P_DstIP', 'drate', 'srate', 'max', 'attack', 'category', 'subcategory']\n",
      "category\n",
      "DDoS              385309\n",
      "DoS               330112\n",
      "Reconnaissance     18163\n",
      "Normal               107\n",
      "Theft                 14\n",
      "Name: count, dtype: int64\n"
     ]
    }
   ],
   "source": [
    "# data = pd.read_csv('./bot.csv')\n",
    "import pandas as pd\n",
    "from glob import glob\n",
    "\n",
    "# 读取所有 Full5pc 的 CSV（例如 Full5pc_1, Full5pc_2, ...）\n",
    "test_files = glob(\"./bot/UNSW_2018_IoT_Botnet_Final_10_best_Testing.csv\")\n",
    "test_dfs = [pd.read_csv(f) for f in test_files]\n",
    "test_data = pd.concat(test_dfs, ignore_index=True)\n",
    "\n",
    "print(\"总样本数:\", len(test_data))\n",
    "print(\"字段:\", test_data.columns.tolist())\n",
    "print(test_data['category'].value_counts())  # 看攻击类别分布"
   ]
  },
  {
   "cell_type": "code",
   "execution_count": 52,
   "metadata": {},
   "outputs": [],
   "source": [
    "le = LabelEncoder()\n",
    "le.fit_transform(test_data.category.values)\n",
    "test_data['category'] = le.transform(test_data['category'])"
   ]
  },
  {
   "cell_type": "code",
   "execution_count": 53,
   "metadata": {},
   "outputs": [],
   "source": [
    "le.fit_transform(test_data.proto.values)\n",
    "test_data['proto'] = le.transform(test_data['proto'])"
   ]
  },
  {
   "cell_type": "code",
   "execution_count": 54,
   "metadata": {},
   "outputs": [],
   "source": [
    "test_data['saddr'] = test_data.saddr.apply(str)\n",
    "test_data['daddr'] = test_data.daddr.apply(str)"
   ]
  },
  {
   "cell_type": "code",
   "execution_count": 55,
   "metadata": {},
   "outputs": [],
   "source": [
    "test_data['saddr'] = test_data.saddr.apply(lambda x: socket.inet_ntoa(struct.pack('>I', random.randint(0xac100001, 0xac1f0001))))"
   ]
  },
  {
   "cell_type": "code",
   "execution_count": 56,
   "metadata": {},
   "outputs": [],
   "source": [
    "test_data = test_data.reset_index()\n",
    "test_data.replace([np.inf, -np.inf], np.nan,inplace = True)"
   ]
  },
  {
   "cell_type": "code",
   "execution_count": 57,
   "metadata": {},
   "outputs": [],
   "source": [
    "test_data.fillna(0,inplace = True)"
   ]
  },
  {
   "cell_type": "code",
   "execution_count": 58,
   "metadata": {},
   "outputs": [],
   "source": [
    "test_data.drop(columns=['index'],inplace=True)"
   ]
  },
  {
   "cell_type": "code",
   "execution_count": 59,
   "metadata": {},
   "outputs": [
    {
     "name": "stdout",
     "output_type": "stream",
     "text": [
      "字段: ['pkSeqID', 'proto', 'saddr', 'sport', 'daddr', 'dport', 'seq', 'stddev', 'N_IN_Conn_P_SrcIP', 'min', 'state_number', 'mean', 'N_IN_Conn_P_DstIP', 'drate', 'srate', 'max', 'attack', 'category', 'subcategory']\n",
      "Shape:  (19,)\n"
     ]
    }
   ],
   "source": [
    "print(\"字段:\", test_data.columns.tolist())\n",
    "print(\"Shape: \", test_data.columns.shape)"
   ]
  },
  {
   "cell_type": "code",
   "execution_count": 60,
   "metadata": {},
   "outputs": [
    {
     "data": {
      "text/html": [
       "<div>\n",
       "<style scoped>\n",
       "    .dataframe tbody tr th:only-of-type {\n",
       "        vertical-align: middle;\n",
       "    }\n",
       "\n",
       "    .dataframe tbody tr th {\n",
       "        vertical-align: top;\n",
       "    }\n",
       "\n",
       "    .dataframe thead th {\n",
       "        text-align: right;\n",
       "    }\n",
       "</style>\n",
       "<table border=\"1\" class=\"dataframe\">\n",
       "  <thead>\n",
       "    <tr style=\"text-align: right;\">\n",
       "      <th></th>\n",
       "      <th>pkSeqID</th>\n",
       "      <th>proto</th>\n",
       "      <th>sport</th>\n",
       "      <th>dport</th>\n",
       "      <th>seq</th>\n",
       "      <th>stddev</th>\n",
       "      <th>N_IN_Conn_P_SrcIP</th>\n",
       "      <th>min</th>\n",
       "      <th>state_number</th>\n",
       "      <th>mean</th>\n",
       "      <th>N_IN_Conn_P_DstIP</th>\n",
       "      <th>drate</th>\n",
       "      <th>srate</th>\n",
       "      <th>max</th>\n",
       "    </tr>\n",
       "  </thead>\n",
       "  <tbody>\n",
       "    <tr>\n",
       "      <th>0</th>\n",
       "      <td>792371</td>\n",
       "      <td>4</td>\n",
       "      <td>48516</td>\n",
       "      <td>80</td>\n",
       "      <td>175094</td>\n",
       "      <td>0.226784</td>\n",
       "      <td>100</td>\n",
       "      <td>4.100436</td>\n",
       "      <td>4</td>\n",
       "      <td>4.457383</td>\n",
       "      <td>100</td>\n",
       "      <td>0.000000</td>\n",
       "      <td>0.404711</td>\n",
       "      <td>4.719438</td>\n",
       "    </tr>\n",
       "    <tr>\n",
       "      <th>1</th>\n",
       "      <td>2056418</td>\n",
       "      <td>3</td>\n",
       "      <td>22267</td>\n",
       "      <td>80</td>\n",
       "      <td>143024</td>\n",
       "      <td>0.451998</td>\n",
       "      <td>100</td>\n",
       "      <td>3.439257</td>\n",
       "      <td>1</td>\n",
       "      <td>3.806172</td>\n",
       "      <td>100</td>\n",
       "      <td>0.225077</td>\n",
       "      <td>0.401397</td>\n",
       "      <td>4.442930</td>\n",
       "    </tr>\n",
       "    <tr>\n",
       "      <th>2</th>\n",
       "      <td>2795650</td>\n",
       "      <td>4</td>\n",
       "      <td>28629</td>\n",
       "      <td>80</td>\n",
       "      <td>167033</td>\n",
       "      <td>1.931553</td>\n",
       "      <td>73</td>\n",
       "      <td>0.000000</td>\n",
       "      <td>4</td>\n",
       "      <td>2.731204</td>\n",
       "      <td>100</td>\n",
       "      <td>0.000000</td>\n",
       "      <td>0.407287</td>\n",
       "      <td>4.138455</td>\n",
       "    </tr>\n",
       "    <tr>\n",
       "      <th>3</th>\n",
       "      <td>2118009</td>\n",
       "      <td>3</td>\n",
       "      <td>42142</td>\n",
       "      <td>80</td>\n",
       "      <td>204615</td>\n",
       "      <td>0.428798</td>\n",
       "      <td>56</td>\n",
       "      <td>3.271411</td>\n",
       "      <td>1</td>\n",
       "      <td>3.626428</td>\n",
       "      <td>100</td>\n",
       "      <td>0.000000</td>\n",
       "      <td>0.343654</td>\n",
       "      <td>4.229700</td>\n",
       "    </tr>\n",
       "    <tr>\n",
       "      <th>4</th>\n",
       "      <td>303688</td>\n",
       "      <td>3</td>\n",
       "      <td>1645</td>\n",
       "      <td>80</td>\n",
       "      <td>40058</td>\n",
       "      <td>2.058381</td>\n",
       "      <td>100</td>\n",
       "      <td>0.000000</td>\n",
       "      <td>3</td>\n",
       "      <td>1.188407</td>\n",
       "      <td>100</td>\n",
       "      <td>0.000000</td>\n",
       "      <td>0.135842</td>\n",
       "      <td>4.753628</td>\n",
       "    </tr>\n",
       "    <tr>\n",
       "      <th>...</th>\n",
       "      <td>...</td>\n",
       "      <td>...</td>\n",
       "      <td>...</td>\n",
       "      <td>...</td>\n",
       "      <td>...</td>\n",
       "      <td>...</td>\n",
       "      <td>...</td>\n",
       "      <td>...</td>\n",
       "      <td>...</td>\n",
       "      <td>...</td>\n",
       "      <td>...</td>\n",
       "      <td>...</td>\n",
       "      <td>...</td>\n",
       "      <td>...</td>\n",
       "    </tr>\n",
       "    <tr>\n",
       "      <th>733700</th>\n",
       "      <td>1571905</td>\n",
       "      <td>4</td>\n",
       "      <td>17412</td>\n",
       "      <td>80</td>\n",
       "      <td>168162</td>\n",
       "      <td>1.743940</td>\n",
       "      <td>39</td>\n",
       "      <td>0.000000</td>\n",
       "      <td>4</td>\n",
       "      <td>3.020449</td>\n",
       "      <td>39</td>\n",
       "      <td>0.000000</td>\n",
       "      <td>0.224603</td>\n",
       "      <td>4.043432</td>\n",
       "    </tr>\n",
       "    <tr>\n",
       "      <th>733701</th>\n",
       "      <td>2787099</td>\n",
       "      <td>4</td>\n",
       "      <td>932</td>\n",
       "      <td>80</td>\n",
       "      <td>158482</td>\n",
       "      <td>0.694618</td>\n",
       "      <td>65</td>\n",
       "      <td>3.002272</td>\n",
       "      <td>4</td>\n",
       "      <td>3.905409</td>\n",
       "      <td>100</td>\n",
       "      <td>0.000000</td>\n",
       "      <td>0.875121</td>\n",
       "      <td>4.691634</td>\n",
       "    </tr>\n",
       "    <tr>\n",
       "      <th>733702</th>\n",
       "      <td>2255382</td>\n",
       "      <td>3</td>\n",
       "      <td>47980</td>\n",
       "      <td>80</td>\n",
       "      <td>79841</td>\n",
       "      <td>1.744651</td>\n",
       "      <td>53</td>\n",
       "      <td>0.000000</td>\n",
       "      <td>1</td>\n",
       "      <td>2.464288</td>\n",
       "      <td>100</td>\n",
       "      <td>0.278496</td>\n",
       "      <td>0.472773</td>\n",
       "      <td>3.802142</td>\n",
       "    </tr>\n",
       "    <tr>\n",
       "      <th>733703</th>\n",
       "      <td>588946</td>\n",
       "      <td>3</td>\n",
       "      <td>25096</td>\n",
       "      <td>80</td>\n",
       "      <td>63165</td>\n",
       "      <td>0.000000</td>\n",
       "      <td>100</td>\n",
       "      <td>0.000000</td>\n",
       "      <td>3</td>\n",
       "      <td>0.000000</td>\n",
       "      <td>100</td>\n",
       "      <td>0.000000</td>\n",
       "      <td>0.070461</td>\n",
       "      <td>0.000000</td>\n",
       "    </tr>\n",
       "    <tr>\n",
       "      <th>733704</th>\n",
       "      <td>2577420</td>\n",
       "      <td>3</td>\n",
       "      <td>34718</td>\n",
       "      <td>80</td>\n",
       "      <td>139733</td>\n",
       "      <td>0.091420</td>\n",
       "      <td>65</td>\n",
       "      <td>0.000000</td>\n",
       "      <td>3</td>\n",
       "      <td>0.052781</td>\n",
       "      <td>100</td>\n",
       "      <td>0.000000</td>\n",
       "      <td>0.093828</td>\n",
       "      <td>0.211125</td>\n",
       "    </tr>\n",
       "  </tbody>\n",
       "</table>\n",
       "<p>733705 rows × 14 columns</p>\n",
       "</div>"
      ],
      "text/plain": [
       "        pkSeqID  proto  sport dport     seq    stddev  N_IN_Conn_P_SrcIP  \\\n",
       "0        792371      4  48516    80  175094  0.226784                100   \n",
       "1       2056418      3  22267    80  143024  0.451998                100   \n",
       "2       2795650      4  28629    80  167033  1.931553                 73   \n",
       "3       2118009      3  42142    80  204615  0.428798                 56   \n",
       "4        303688      3   1645    80   40058  2.058381                100   \n",
       "...         ...    ...    ...   ...     ...       ...                ...   \n",
       "733700  1571905      4  17412    80  168162  1.743940                 39   \n",
       "733701  2787099      4    932    80  158482  0.694618                 65   \n",
       "733702  2255382      3  47980    80   79841  1.744651                 53   \n",
       "733703   588946      3  25096    80   63165  0.000000                100   \n",
       "733704  2577420      3  34718    80  139733  0.091420                 65   \n",
       "\n",
       "             min  state_number      mean  N_IN_Conn_P_DstIP     drate  \\\n",
       "0       4.100436             4  4.457383                100  0.000000   \n",
       "1       3.439257             1  3.806172                100  0.225077   \n",
       "2       0.000000             4  2.731204                100  0.000000   \n",
       "3       3.271411             1  3.626428                100  0.000000   \n",
       "4       0.000000             3  1.188407                100  0.000000   \n",
       "...          ...           ...       ...                ...       ...   \n",
       "733700  0.000000             4  3.020449                 39  0.000000   \n",
       "733701  3.002272             4  3.905409                100  0.000000   \n",
       "733702  0.000000             1  2.464288                100  0.278496   \n",
       "733703  0.000000             3  0.000000                100  0.000000   \n",
       "733704  0.000000             3  0.052781                100  0.000000   \n",
       "\n",
       "           srate       max  \n",
       "0       0.404711  4.719438  \n",
       "1       0.401397  4.442930  \n",
       "2       0.407287  4.138455  \n",
       "3       0.343654  4.229700  \n",
       "4       0.135842  4.753628  \n",
       "...          ...       ...  \n",
       "733700  0.224603  4.043432  \n",
       "733701  0.875121  4.691634  \n",
       "733702  0.472773  3.802142  \n",
       "733703  0.070461  0.000000  \n",
       "733704  0.093828  0.211125  \n",
       "\n",
       "[733705 rows x 14 columns]"
      ]
     },
     "execution_count": 60,
     "metadata": {},
     "output_type": "execute_result"
    }
   ],
   "source": [
    "test_features = test_data.drop(columns=[\"category\", \"subcategory\", \"attack\"])\n",
    "test_features = test_features.drop(['saddr', 'daddr'], axis=1)\n",
    "test_features"
   ]
  },
  {
   "cell_type": "code",
   "execution_count": 61,
   "metadata": {},
   "outputs": [
    {
     "data": {
      "text/plain": [
       "0         1\n",
       "1         1\n",
       "2         1\n",
       "3         1\n",
       "4         1\n",
       "         ..\n",
       "733700    1\n",
       "733701    1\n",
       "733702    1\n",
       "733703    1\n",
       "733704    1\n",
       "Name: attack, Length: 733705, dtype: int64"
      ]
     },
     "execution_count": 61,
     "metadata": {},
     "output_type": "execute_result"
    }
   ],
   "source": [
    "test_labels = test_data[\"attack\"]\n",
    "test_labels"
   ]
  },
  {
   "cell_type": "code",
   "execution_count": 62,
   "metadata": {},
   "outputs": [],
   "source": [
    "test_num_features = test_features.select_dtypes(include=[np.number])\n",
    "test_features_array = test_num_features.values.astype(np.float32)\n",
    "\n",
    "# features_array = features.values.astype(np.float32)\n",
    "test_labels_array = test_labels.values.astype(np.int64)  # 如果标签是整数型，可以使用 np.long 类型"
   ]
  },
  {
   "cell_type": "code",
   "execution_count": 63,
   "metadata": {},
   "outputs": [
    {
     "data": {
      "text/plain": [
       "(733705, 12)"
      ]
     },
     "execution_count": 63,
     "metadata": {},
     "output_type": "execute_result"
    }
   ],
   "source": [
    "test_features_array.shape"
   ]
  },
  {
   "cell_type": "code",
   "execution_count": 64,
   "metadata": {},
   "outputs": [
    {
     "data": {
      "text/plain": [
       "(733705,)"
      ]
     },
     "execution_count": 64,
     "metadata": {},
     "output_type": "execute_result"
    }
   ],
   "source": [
    "test_labels_array.shape"
   ]
  },
  {
   "cell_type": "code",
   "execution_count": 65,
   "metadata": {},
   "outputs": [],
   "source": [
    "scaler = StandardScaler()\n",
    "test_standardized_data = scaler.fit_transform(test_features_array)\n",
    "min_max_scaler = MinMaxScaler()\n",
    "test_normalized_data = min_max_scaler.fit_transform(test_standardized_data)"
   ]
  },
  {
   "cell_type": "code",
   "execution_count": 66,
   "metadata": {},
   "outputs": [],
   "source": [
    "import torch\n",
    "test_features_tensor = torch.tensor(test_normalized_data, dtype=torch.float32)\n",
    "test_labels_tensor = torch.tensor(test_labels_array, dtype=torch.long)  # 如果标签是整数型，可以使用 torch.long 类型"
   ]
  },
  {
   "cell_type": "code",
   "execution_count": 67,
   "metadata": {},
   "outputs": [],
   "source": [
    "test_features_tensor = pd.concat([test_data[['saddr', 'daddr']].reset_index(drop=True), pd.DataFrame(test_features_tensor.numpy())], axis=1)"
   ]
  },
  {
   "cell_type": "code",
   "execution_count": 68,
   "metadata": {},
   "outputs": [],
   "source": [
    "X_test = test_features_tensor\n",
    "y_test = test_labels_tensor"
   ]
  },
  {
   "cell_type": "code",
   "execution_count": 69,
   "metadata": {},
   "outputs": [],
   "source": [
    "test_ds = len(X_test)"
   ]
  },
  {
   "cell_type": "code",
   "execution_count": 70,
   "metadata": {},
   "outputs": [],
   "source": [
    "test_cols_to_norm = list(set(list(X_test.iloc[:, 2:].columns)) - set(list(['label'])))\n",
    "X_test[test_cols_to_norm] = scaler.fit_transform(X_test[test_cols_to_norm])"
   ]
  },
  {
   "cell_type": "code",
   "execution_count": 71,
   "metadata": {},
   "outputs": [],
   "source": [
    "X_test['label'] = y_test\n",
    "X_test['h'] = X_test[test_cols_to_norm].values.tolist()"
   ]
  },
  {
   "cell_type": "code",
   "execution_count": 72,
   "metadata": {},
   "outputs": [
    {
     "data": {
      "text/html": [
       "<div>\n",
       "<style scoped>\n",
       "    .dataframe tbody tr th:only-of-type {\n",
       "        vertical-align: middle;\n",
       "    }\n",
       "\n",
       "    .dataframe tbody tr th {\n",
       "        vertical-align: top;\n",
       "    }\n",
       "\n",
       "    .dataframe thead th {\n",
       "        text-align: right;\n",
       "    }\n",
       "</style>\n",
       "<table border=\"1\" class=\"dataframe\">\n",
       "  <thead>\n",
       "    <tr style=\"text-align: right;\">\n",
       "      <th></th>\n",
       "      <th>saddr</th>\n",
       "      <th>daddr</th>\n",
       "      <th>0</th>\n",
       "      <th>1</th>\n",
       "      <th>2</th>\n",
       "      <th>3</th>\n",
       "      <th>4</th>\n",
       "      <th>5</th>\n",
       "      <th>6</th>\n",
       "      <th>7</th>\n",
       "      <th>8</th>\n",
       "      <th>9</th>\n",
       "      <th>10</th>\n",
       "      <th>11</th>\n",
       "      <th>label</th>\n",
       "      <th>h</th>\n",
       "    </tr>\n",
       "  </thead>\n",
       "  <tbody>\n",
       "    <tr>\n",
       "      <th>0</th>\n",
       "      <td>172.30.100.4</td>\n",
       "      <td>192.168.100.3</td>\n",
       "      <td>-0.984205</td>\n",
       "      <td>0.896043</td>\n",
       "      <td>0.707977</td>\n",
       "      <td>-0.822263</td>\n",
       "      <td>0.716751</td>\n",
       "      <td>2.076200</td>\n",
       "      <td>0.729019</td>\n",
       "      <td>1.465469</td>\n",
       "      <td>0.415690</td>\n",
       "      <td>-0.006811</td>\n",
       "      <td>-0.004605</td>\n",
       "      <td>0.911708</td>\n",
       "      <td>1</td>\n",
       "      <td>[-0.9842054843902588, 0.8960432410240173, 0.70...</td>\n",
       "    </tr>\n",
       "    <tr>\n",
       "      <th>1</th>\n",
       "      <td>172.17.187.242</td>\n",
       "      <td>192.168.100.3</td>\n",
       "      <td>0.209615</td>\n",
       "      <td>-1.049722</td>\n",
       "      <td>0.285020</td>\n",
       "      <td>-0.542151</td>\n",
       "      <td>0.716751</td>\n",
       "      <td>1.630732</td>\n",
       "      <td>-1.799584</td>\n",
       "      <td>1.036355</td>\n",
       "      <td>0.415690</td>\n",
       "      <td>-0.003783</td>\n",
       "      <td>-0.004613</td>\n",
       "      <td>0.763106</td>\n",
       "      <td>1</td>\n",
       "      <td>[0.20961512625217438, -1.04972243309021, 0.285...</td>\n",
       "    </tr>\n",
       "    <tr>\n",
       "      <th>2</th>\n",
       "      <td>172.20.137.37</td>\n",
       "      <td>192.168.100.3</td>\n",
       "      <td>0.907778</td>\n",
       "      <td>0.896043</td>\n",
       "      <td>0.601664</td>\n",
       "      <td>1.298064</td>\n",
       "      <td>-0.388623</td>\n",
       "      <td>-0.686460</td>\n",
       "      <td>0.729019</td>\n",
       "      <td>0.328007</td>\n",
       "      <td>0.415690</td>\n",
       "      <td>-0.006811</td>\n",
       "      <td>-0.004599</td>\n",
       "      <td>0.599473</td>\n",
       "      <td>1</td>\n",
       "      <td>[0.9077776074409485, 0.8960432410240173, 0.601...</td>\n",
       "    </tr>\n",
       "    <tr>\n",
       "      <th>3</th>\n",
       "      <td>172.20.206.95</td>\n",
       "      <td>192.168.100.3</td>\n",
       "      <td>0.267784</td>\n",
       "      <td>-1.049722</td>\n",
       "      <td>1.097316</td>\n",
       "      <td>-0.571006</td>\n",
       "      <td>-1.084599</td>\n",
       "      <td>1.517646</td>\n",
       "      <td>-1.799584</td>\n",
       "      <td>0.917913</td>\n",
       "      <td>0.415690</td>\n",
       "      <td>-0.006811</td>\n",
       "      <td>-0.004756</td>\n",
       "      <td>0.648511</td>\n",
       "      <td>1</td>\n",
       "      <td>[0.26778411865234375, -1.04972243309021, 1.097...</td>\n",
       "    </tr>\n",
       "    <tr>\n",
       "      <th>4</th>\n",
       "      <td>172.19.33.92</td>\n",
       "      <td>192.168.100.5</td>\n",
       "      <td>-1.445739</td>\n",
       "      <td>-1.049722</td>\n",
       "      <td>-1.072952</td>\n",
       "      <td>1.455808</td>\n",
       "      <td>0.716751</td>\n",
       "      <td>-0.686460</td>\n",
       "      <td>-0.113849</td>\n",
       "      <td>-0.688615</td>\n",
       "      <td>0.415690</td>\n",
       "      <td>-0.006811</td>\n",
       "      <td>-0.005271</td>\n",
       "      <td>0.930083</td>\n",
       "      <td>1</td>\n",
       "      <td>[-1.445738673210144, -1.04972243309021, -1.072...</td>\n",
       "    </tr>\n",
       "    <tr>\n",
       "      <th>...</th>\n",
       "      <td>...</td>\n",
       "      <td>...</td>\n",
       "      <td>...</td>\n",
       "      <td>...</td>\n",
       "      <td>...</td>\n",
       "      <td>...</td>\n",
       "      <td>...</td>\n",
       "      <td>...</td>\n",
       "      <td>...</td>\n",
       "      <td>...</td>\n",
       "      <td>...</td>\n",
       "      <td>...</td>\n",
       "      <td>...</td>\n",
       "      <td>...</td>\n",
       "      <td>...</td>\n",
       "      <td>...</td>\n",
       "    </tr>\n",
       "    <tr>\n",
       "      <th>733700</th>\n",
       "      <td>172.25.226.187</td>\n",
       "      <td>192.168.100.6</td>\n",
       "      <td>-0.247980</td>\n",
       "      <td>0.896043</td>\n",
       "      <td>0.616554</td>\n",
       "      <td>1.064718</td>\n",
       "      <td>-1.780575</td>\n",
       "      <td>-0.686460</td>\n",
       "      <td>0.729019</td>\n",
       "      <td>0.518605</td>\n",
       "      <td>-2.933002</td>\n",
       "      <td>-0.006811</td>\n",
       "      <td>-0.005051</td>\n",
       "      <td>0.548406</td>\n",
       "      <td>1</td>\n",
       "      <td>[-0.24797995388507843, 0.8960432410240173, 0.6...</td>\n",
       "    </tr>\n",
       "    <tr>\n",
       "      <th>733701</th>\n",
       "      <td>172.18.90.243</td>\n",
       "      <td>192.168.100.3</td>\n",
       "      <td>0.899702</td>\n",
       "      <td>0.896043</td>\n",
       "      <td>0.488889</td>\n",
       "      <td>-0.240389</td>\n",
       "      <td>-0.716141</td>\n",
       "      <td>1.336314</td>\n",
       "      <td>0.729019</td>\n",
       "      <td>1.101747</td>\n",
       "      <td>0.415690</td>\n",
       "      <td>-0.006811</td>\n",
       "      <td>-0.003439</td>\n",
       "      <td>0.896766</td>\n",
       "      <td>1</td>\n",
       "      <td>[0.899701714515686, 0.8960432410240173, 0.4888...</td>\n",
       "    </tr>\n",
       "    <tr>\n",
       "      <th>733702</th>\n",
       "      <td>172.19.143.5</td>\n",
       "      <td>192.168.100.3</td>\n",
       "      <td>0.397525</td>\n",
       "      <td>-1.049722</td>\n",
       "      <td>-0.548272</td>\n",
       "      <td>1.065602</td>\n",
       "      <td>-1.207418</td>\n",
       "      <td>-0.686460</td>\n",
       "      <td>-1.799584</td>\n",
       "      <td>0.152124</td>\n",
       "      <td>0.415690</td>\n",
       "      <td>-0.003065</td>\n",
       "      <td>-0.004436</td>\n",
       "      <td>0.418730</td>\n",
       "      <td>1</td>\n",
       "      <td>[0.39752519130706787, -1.04972243309021, -0.54...</td>\n",
       "    </tr>\n",
       "    <tr>\n",
       "      <th>733703</th>\n",
       "      <td>172.28.112.247</td>\n",
       "      <td>192.168.100.7</td>\n",
       "      <td>-1.176329</td>\n",
       "      <td>-1.049722</td>\n",
       "      <td>-0.768204</td>\n",
       "      <td>-1.104329</td>\n",
       "      <td>0.716751</td>\n",
       "      <td>-0.686460</td>\n",
       "      <td>-0.113849</td>\n",
       "      <td>-1.471713</td>\n",
       "      <td>0.415690</td>\n",
       "      <td>-0.006811</td>\n",
       "      <td>-0.005434</td>\n",
       "      <td>-1.624637</td>\n",
       "      <td>1</td>\n",
       "      <td>[-1.1763287782669067, -1.04972243309021, -0.76...</td>\n",
       "    </tr>\n",
       "    <tr>\n",
       "      <th>733704</th>\n",
       "      <td>172.22.61.230</td>\n",
       "      <td>192.168.100.3</td>\n",
       "      <td>0.701672</td>\n",
       "      <td>-1.049722</td>\n",
       "      <td>0.241617</td>\n",
       "      <td>-0.990624</td>\n",
       "      <td>-0.716141</td>\n",
       "      <td>-0.686460</td>\n",
       "      <td>-0.113849</td>\n",
       "      <td>-1.436933</td>\n",
       "      <td>0.415690</td>\n",
       "      <td>-0.006811</td>\n",
       "      <td>-0.005376</td>\n",
       "      <td>-1.511173</td>\n",
       "      <td>1</td>\n",
       "      <td>[0.7016717195510864, -1.04972243309021, 0.2416...</td>\n",
       "    </tr>\n",
       "  </tbody>\n",
       "</table>\n",
       "<p>733705 rows × 16 columns</p>\n",
       "</div>"
      ],
      "text/plain": [
       "                 saddr          daddr         0         1         2         3  \\\n",
       "0         172.30.100.4  192.168.100.3 -0.984205  0.896043  0.707977 -0.822263   \n",
       "1       172.17.187.242  192.168.100.3  0.209615 -1.049722  0.285020 -0.542151   \n",
       "2        172.20.137.37  192.168.100.3  0.907778  0.896043  0.601664  1.298064   \n",
       "3        172.20.206.95  192.168.100.3  0.267784 -1.049722  1.097316 -0.571006   \n",
       "4         172.19.33.92  192.168.100.5 -1.445739 -1.049722 -1.072952  1.455808   \n",
       "...                ...            ...       ...       ...       ...       ...   \n",
       "733700  172.25.226.187  192.168.100.6 -0.247980  0.896043  0.616554  1.064718   \n",
       "733701   172.18.90.243  192.168.100.3  0.899702  0.896043  0.488889 -0.240389   \n",
       "733702    172.19.143.5  192.168.100.3  0.397525 -1.049722 -0.548272  1.065602   \n",
       "733703  172.28.112.247  192.168.100.7 -1.176329 -1.049722 -0.768204 -1.104329   \n",
       "733704   172.22.61.230  192.168.100.3  0.701672 -1.049722  0.241617 -0.990624   \n",
       "\n",
       "               4         5         6         7         8         9        10  \\\n",
       "0       0.716751  2.076200  0.729019  1.465469  0.415690 -0.006811 -0.004605   \n",
       "1       0.716751  1.630732 -1.799584  1.036355  0.415690 -0.003783 -0.004613   \n",
       "2      -0.388623 -0.686460  0.729019  0.328007  0.415690 -0.006811 -0.004599   \n",
       "3      -1.084599  1.517646 -1.799584  0.917913  0.415690 -0.006811 -0.004756   \n",
       "4       0.716751 -0.686460 -0.113849 -0.688615  0.415690 -0.006811 -0.005271   \n",
       "...          ...       ...       ...       ...       ...       ...       ...   \n",
       "733700 -1.780575 -0.686460  0.729019  0.518605 -2.933002 -0.006811 -0.005051   \n",
       "733701 -0.716141  1.336314  0.729019  1.101747  0.415690 -0.006811 -0.003439   \n",
       "733702 -1.207418 -0.686460 -1.799584  0.152124  0.415690 -0.003065 -0.004436   \n",
       "733703  0.716751 -0.686460 -0.113849 -1.471713  0.415690 -0.006811 -0.005434   \n",
       "733704 -0.716141 -0.686460 -0.113849 -1.436933  0.415690 -0.006811 -0.005376   \n",
       "\n",
       "              11  label                                                  h  \n",
       "0       0.911708      1  [-0.9842054843902588, 0.8960432410240173, 0.70...  \n",
       "1       0.763106      1  [0.20961512625217438, -1.04972243309021, 0.285...  \n",
       "2       0.599473      1  [0.9077776074409485, 0.8960432410240173, 0.601...  \n",
       "3       0.648511      1  [0.26778411865234375, -1.04972243309021, 1.097...  \n",
       "4       0.930083      1  [-1.445738673210144, -1.04972243309021, -1.072...  \n",
       "...          ...    ...                                                ...  \n",
       "733700  0.548406      1  [-0.24797995388507843, 0.8960432410240173, 0.6...  \n",
       "733701  0.896766      1  [0.899701714515686, 0.8960432410240173, 0.4888...  \n",
       "733702  0.418730      1  [0.39752519130706787, -1.04972243309021, -0.54...  \n",
       "733703 -1.624637      1  [-1.1763287782669067, -1.04972243309021, -0.76...  \n",
       "733704 -1.511173      1  [0.7016717195510864, -1.04972243309021, 0.2416...  \n",
       "\n",
       "[733705 rows x 16 columns]"
      ]
     },
     "execution_count": 72,
     "metadata": {},
     "output_type": "execute_result"
    }
   ],
   "source": [
    "X_test"
   ]
  },
  {
   "cell_type": "code",
   "execution_count": 15,
   "metadata": {},
   "outputs": [],
   "source": [
    "from dgl.data.utils import load_graphs   \n",
    "G_Test = load_graphs(\"./test_data.bin\")[0][0]"
   ]
  },
  {
   "cell_type": "code",
   "execution_count": 73,
   "metadata": {},
   "outputs": [],
   "source": [
    "G_Test = nx.from_pandas_edgelist(X_test, \"saddr\", \"daddr\", ['h', 'label'], create_using=nx.MultiGraph())\n",
    "G_Test = G_Test.to_directed()\n",
    "G_Test = from_networkx(G_Test, edge_attrs=['h', 'label'])"
   ]
  },
  {
   "cell_type": "code",
   "execution_count": 74,
   "metadata": {},
   "outputs": [],
   "source": [
    "# Eq1\n",
    "G_Test.ndata['h'] = th.ones(G_Test.num_nodes(), G_Test.edata['h'].shape[1])\n",
    "G_Test.ndata['h'] = th.reshape(G_Test.ndata['h'], (G_Test.ndata['h'].shape[0], 1, G_Test.ndata['h'].shape[1]))\n",
    "G_Test.edata['h'] = th.reshape(G_Test.edata['h'], (G_Test.edata['h'].shape[0], 1, G_Test.edata['h'].shape[1]))"
   ]
  },
  {
   "cell_type": "code",
   "execution_count": 75,
   "metadata": {},
   "outputs": [],
   "source": [
    "G_Test.edata['test_mask'] = th.ones(len(G_Test.edata['h']), dtype=th.bool)"
   ]
  },
  {
   "cell_type": "code",
   "execution_count": 76,
   "metadata": {},
   "outputs": [],
   "source": [
    "from dgl.data.utils import save_graphs\n",
    "save_graphs(\"./test_data.bin\", [G_Test])"
   ]
  },
  {
   "cell_type": "code",
   "execution_count": 16,
   "metadata": {},
   "outputs": [
    {
     "name": "stdout",
     "output_type": "stream",
     "text": [
      "torch.Size([517018, 1, 12])\n",
      "torch.Size([1467410, 1, 12])\n"
     ]
    }
   ],
   "source": [
    "test_node_features = G_Test.ndata['h'].cuda()\n",
    "test_edge_features = G_Test.edata['h'].cuda()\n",
    "\n",
    "test_edge_label = G_Test.edata['label']\n",
    "test_mask = G_Test.edata['test_mask']\n",
    "\n",
    "print(test_node_features.shape)\n",
    "print(test_edge_features.shape)"
   ]
  },
  {
   "cell_type": "code",
   "execution_count": 17,
   "metadata": {},
   "outputs": [],
   "source": [
    "actual = G_Test.edata.pop('label')"
   ]
  },
  {
   "cell_type": "code",
   "execution_count": 18,
   "metadata": {},
   "outputs": [],
   "source": [
    "SAVE_PATH = \"./binary_model/epoch-1.pt\""
   ]
  },
  {
   "cell_type": "code",
   "execution_count": 19,
   "metadata": {},
   "outputs": [
    {
     "name": "stderr",
     "output_type": "stream",
     "text": [
      "/tmp/ipykernel_37/3536462041.py:21: FutureWarning: You are using `torch.load` with `weights_only=False` (the current default value), which uses the default pickle module implicitly. It is possible to construct malicious pickle data which will execute arbitrary code during unpickling (See https://github.com/pytorch/pytorch/blob/main/SECURITY.md#untrusted-models for more details). In a future release, the default value for `weights_only` will be flipped to `True`. This limits the functions that could be executed during unpickling. Arbitrary objects will no longer be allowed to be loaded via this mode unless they are explicitly allowlisted by the user via `torch.serialization.add_safe_globals`. We recommend you start setting `weights_only=True` for any use case where you don't have full control of the loaded file. Please open an issue on GitHub for any issues related to this experimental feature.\n",
      "  loaded_model.load_state_dict(th.load(SAVE_PATH))\n"
     ]
    },
    {
     "data": {
      "text/plain": [
       "Model(\n",
       "  (gnn): SAGE(\n",
       "    (layers): ModuleList(\n",
       "      (0): SAGELayer(\n",
       "        (W_msg111): Linear(in_features=12, out_features=128, bias=True)\n",
       "        (W_msg): Linear(in_features=140, out_features=128, bias=True)\n",
       "        (W_apply): Linear(in_features=128, out_features=128, bias=True)\n",
       "      )\n",
       "    )\n",
       "    (dropout): Dropout(p=0.2, inplace=False)\n",
       "  )\n",
       "  (pred): FullyConnectedPredictor(\n",
       "    (fc_edge): Linear(in_features=12, out_features=128, bias=True)\n",
       "    (fc): Linear(in_features=256, out_features=2, bias=True)\n",
       "  )\n",
       ")"
      ]
     },
     "execution_count": 19,
     "metadata": {},
     "output_type": "execute_result"
    }
   ],
   "source": [
    "# 假设您已经定义了 Model 类和所有必要的参数\n",
    "\n",
    "# 重新定义模型参数 (必须与保存时一致)\n",
    "node_in_dim = test_node_features.shape[2] # 假设是 35\n",
    "edge_in_dim = test_edge_features.shape[2] # 假设是 35\n",
    "gnn_out_dim = 128\n",
    "num_classes = 2\n",
    "\n",
    "# 1. 实例化模型（使用与训练时相同的参数）\n",
    "loaded_model = Model(\n",
    "    ndim_in=node_in_dim, \n",
    "    ndim_out=gnn_out_dim, \n",
    "    edim=edge_in_dim, \n",
    "    activation=F.relu, \n",
    "    dropout=0.2,\n",
    "    num_classes=num_classes\n",
    ").to('cuda')\n",
    "\n",
    "# 2. 加载状态字典\n",
    "# 如果模型训练时在 GPU 上，加载到 CPU 或当前设备：\n",
    "loaded_model.load_state_dict(th.load(SAVE_PATH))\n",
    "\n",
    "# 3. 将模型设置为评估模式（在进行推理或测试时非常重要）\n",
    "loaded_model.eval() \n",
    "\n",
    "# 4. 如果需要在 GPU 上进行推理，请移动模型\n",
    "# loaded_model.to('cuda')"
   ]
  },
  {
   "cell_type": "code",
   "execution_count": 20,
   "metadata": {},
   "outputs": [
    {
     "name": "stdout",
     "output_type": "stream",
     "text": [
      "2.624817316998815 seconds\n"
     ]
    }
   ],
   "source": [
    "import timeit\n",
    "G_Test = G_Test.to('cuda')\n",
    "start_time = timeit.default_timer()\n",
    "# node_features_test = G_Test.ndata['feature'].cuda()\n",
    "# edge_features_test = G_Test.edata['h'].cuda()\n",
    "test_pred = loaded_model(G_Test, test_node_features, test_edge_features).to('cuda')\n",
    "elapsed = timeit.default_timer() - start_time\n",
    "\n",
    "print(str(elapsed) + ' seconds')\n",
    "\n",
    "test_pred = test_pred.argmax(1)\n",
    "test_pred = th.Tensor.cpu(test_pred).detach().numpy()"
   ]
  },
  {
   "cell_type": "code",
   "execution_count": 21,
   "metadata": {},
   "outputs": [
    {
     "name": "stdout",
     "output_type": "stream",
     "text": [
      "输出混淆矩阵\n",
      "[[    214       0]\n",
      " [1298442  168754]]\n"
     ]
    }
   ],
   "source": [
    "print(\"输出混淆矩阵\")\n",
    "from sklearn.metrics import confusion_matrix\n",
    "cm = confusion_matrix(actual, test_pred)\n",
    "print(cm)"
   ]
  },
  {
   "cell_type": "code",
   "execution_count": 22,
   "metadata": {},
   "outputs": [
    {
     "name": "stdout",
     "output_type": "stream",
     "text": [
      "计算评价指标\n",
      "over\n"
     ]
    }
   ],
   "source": [
    "print(\"计算评价指标\")\n",
    "import numpy as np\n",
    "# from tabulate import tabulate\n",
    "\n",
    "conf_matrix = cm\n",
    "\n",
    "# 计算评估指标\n",
    "accuracy = np.sum(np.diag(conf_matrix)) / np.sum(conf_matrix)\n",
    "recall_per_class = np.diag(conf_matrix) / np.sum(conf_matrix, axis=1)\n",
    "recall = np.mean(recall_per_class)\n",
    "precision_per_class = np.diag(conf_matrix) / np.sum(conf_matrix, axis=0)\n",
    "f1_per_class = 2 * (precision_per_class * recall_per_class) / (precision_per_class + recall_per_class)\n",
    "class_counts = np.sum(conf_matrix, axis=1)\n",
    "weighted_f1 = np.sum(f1_per_class * class_counts) / np.sum(class_counts)\n",
    "\n",
    "table_data = []\n",
    "for i in range(len(recall_per_class)):\n",
    "    table_data.append([f\"类别 {i}\",\n",
    "                       np.round(np.diag(conf_matrix)[i] / np.sum(conf_matrix[i]), 3),\n",
    "                       np.round(recall_per_class[i], 3),\n",
    "                       np.round(precision_per_class[i], 3),\n",
    "                       np.round(f1_per_class[i], 3)])\n",
    "\n",
    "table_data.append([\"平均\", np.round(accuracy, 3), np.round(recall, 3), np.round(np.mean(precision_per_class), 3),\n",
    "                   np.round(weighted_f1, 3)])\n",
    "\n",
    "headers = [\"类别\", \"准确率\", \"召回率\", \"精确率\", \"加权平均F1值\"]\n",
    "# print(tabulate(table_data, headers=headers, floatfmt=\".3f\", tablefmt=\"pretty\", numalign='center'))\n",
    "\n",
    "print('over')"
   ]
  },
  {
   "cell_type": "code",
   "execution_count": 23,
   "metadata": {},
   "outputs": [
    {
     "name": "stdout",
     "output_type": "stream",
     "text": [
      "target_names [0 1]\n"
     ]
    },
    {
     "data": {
      "image/png": "[encoded data removed]",
      "text/plain": [
       "<Figure size 1200x1200 with 2 Axes>"
      ]
     },
     "metadata": {},
     "output_type": "display_data"
    },
    {
     "name": "stdout",
     "output_type": "stream",
     "text": [
      "              precision    recall  f1-score   support\n",
      "\n",
      "           0     0.0002    1.0000    0.0003       214\n",
      "           1     1.0000    0.1150    0.2063   1467196\n",
      "\n",
      "    accuracy                         0.1151   1467410\n",
      "   macro avg     0.5001    0.5575    0.1033   1467410\n",
      "weighted avg     0.9999    0.1151    0.2063   1467410\n",
      "\n"
     ]
    }
   ],
   "source": [
    "import numpy as np\n",
    "import pandas as pd\n",
    "\n",
    "def plot_confusion_matrix(cm,\n",
    "                          target_names,\n",
    "                          title='Confusion matrix',\n",
    "                          cmap=None,\n",
    "                          normalize=True):\n",
    "    import matplotlib.pyplot as plt\n",
    "    import numpy as np\n",
    "    import itertools\n",
    "\n",
    "    accuracy = np.trace(cm) / float(np.sum(cm))\n",
    "    misclass = 1 - accuracy\n",
    "\n",
    "    if cmap is None:\n",
    "        cmap = plt.get_cmap('Blues')\n",
    "\n",
    "    plt.figure(figsize=(12, 12))\n",
    "    plt.imshow(cm, interpolation='nearest', cmap=cmap)\n",
    "    plt.title(title)\n",
    "    plt.colorbar()\n",
    "\n",
    "    if target_names is not None:\n",
    "        tick_marks = np.arange(len(target_names))\n",
    "        plt.xticks(tick_marks, target_names, rotation=45)\n",
    "        plt.yticks(tick_marks, target_names)\n",
    "\n",
    "    if normalize:\n",
    "        cm = cm.astype('float') / cm.sum(axis=1)[:, np.newaxis]\n",
    "\n",
    "    thresh = cm.max() / 1.5 if normalize else cm.max() / 2\n",
    "    for i, j in itertools.product(range(cm.shape[0]), range(cm.shape[1])):\n",
    "        if normalize:\n",
    "            plt.text(j, i, \"{:0.4f}\".format(cm[i, j]),\n",
    "                     horizontalalignment=\"center\",\n",
    "                     color=\"white\" if cm[i, j] > thresh else \"black\")\n",
    "        else:\n",
    "            plt.text(j, i, \"{:,}\".format(cm[i, j]),\n",
    "                     horizontalalignment=\"center\",\n",
    "                     color=\"white\" if cm[i, j] > thresh else \"black\")\n",
    "\n",
    "    plt.tight_layout()\n",
    "    plt.ylabel('True label')\n",
    "    plt.xlabel('Predicted label\\naccuracy={:0.4f}; misclass={:0.4f}'.format(accuracy, misclass))\n",
    "    plt.show()\n",
    "\n",
    "\n",
    "from sklearn.metrics import confusion_matrix\n",
    "\n",
    "print(\"target_names\",np.unique(actual))\n",
    "plot_confusion_matrix(cm=confusion_matrix(actual, test_pred),\n",
    "                      normalize=False,\n",
    "                      target_names=np.unique(actual),\n",
    "                      title=\"Confusion Matrix\")\n",
    "\n",
    "from sklearn.metrics import classification_report\n",
    "print(classification_report(actual, test_pred, digits=4))\n",
    "report = classification_report(actual, test_pred, digits=4, output_dict=True)\n",
    "df = pd.DataFrame(report).transpose()"
   ]
  },
  {
   "cell_type": "code",
   "execution_count": null,
   "metadata": {},
   "outputs": [],
   "source": []
  },
  {
   "cell_type": "code",
   "execution_count": null,
   "metadata": {},
   "outputs": [],
   "source": []
  },
  {
   "cell_type": "code",
   "execution_count": null,
   "metadata": {},
   "outputs": [],
   "source": []
  },
  {
   "cell_type": "code",
   "execution_count": null,
   "metadata": {},
   "outputs": [],
   "source": []
  },
  {
   "cell_type": "code",
   "execution_count": null,
   "metadata": {},
   "outputs": [],
   "source": []
  },
  {
   "cell_type": "code",
   "execution_count": null,
   "metadata": {},
   "outputs": [],
   "source": []
  },
  {
   "cell_type": "code",
   "execution_count": null,
   "metadata": {},
   "outputs": [],
   "source": []
  },
  {
   "cell_type": "code",
   "execution_count": null,
   "metadata": {},
   "outputs": [],
   "source": []
  },
  {
   "cell_type": "code",
   "execution_count": null,
   "metadata": {},
   "outputs": [],
   "source": []
  },
  {
   "cell_type": "code",
   "execution_count": 6,
   "metadata": {},
   "outputs": [],
   "source": [
    "data.drop(columns=['subcategory','pkSeqID','stime','flgs','category','state','proto','seq'],inplace=True)"
   ]
  },
  {
   "cell_type": "code",
   "execution_count": 4,
   "metadata": {},
   "outputs": [],
   "source": [
    "data.rename(columns={\"attack\": \"label\"},inplace = True)"
   ]
  },
  {
   "cell_type": "code",
   "execution_count": 5,
   "metadata": {},
   "outputs": [
    {
     "data": {
      "text/plain": [
       "label\n",
       "1    3668045\n",
       "0        477\n",
       "Name: count, dtype: int64"
      ]
     },
     "execution_count": 5,
     "metadata": {},
     "output_type": "execute_result"
    }
   ],
   "source": [
    "data.label.value_counts()"
   ]
  },
  {
   "cell_type": "code",
   "execution_count": 6,
   "metadata": {},
   "outputs": [],
   "source": [
    "#le = LabelEncoder()\n",
    "#le.fit_transform(data.label.values)\n",
    "#data['label'] = le.transform(data['label'])"
   ]
  },
  {
   "cell_type": "code",
   "execution_count": 7,
   "metadata": {},
   "outputs": [],
   "source": [
    "data['saddr'] = data.saddr.apply(str)\n",
    "data['sport'] = data.sport.apply(str)\n",
    "data['daddr'] = data.daddr.apply(str)\n",
    "data['dport'] = data.dport.apply(str)"
   ]
  },
  {
   "cell_type": "code",
   "execution_count": 8,
   "metadata": {},
   "outputs": [],
   "source": [
    "data['saddr'] = data.saddr.apply(lambda x: socket.inet_ntoa(struct.pack('>I', random.randint(0xac100001, 0xac1f0001))))"
   ]
  },
  {
   "cell_type": "code",
   "execution_count": 9,
   "metadata": {},
   "outputs": [],
   "source": [
    "data['saddr'] = data['saddr'] + ':' + data['sport']\n",
    "data['daddr'] = data['daddr'] + ':' + data['dport']"
   ]
  },
  {
   "cell_type": "code",
   "execution_count": 10,
   "metadata": {},
   "outputs": [],
   "source": [
    "data.drop(columns=['sport','dport'],inplace=True)\n",
    "label_ground_truth = data[[\"saddr\", \"daddr\",\"label\"]]\n",
    "data = pd.get_dummies(data, columns = ['flgs_number','state_number', 'proto_number'])"
   ]
  },
  {
   "cell_type": "code",
   "execution_count": 11,
   "metadata": {},
   "outputs": [],
   "source": [
    "data = data.reset_index()\n",
    "data.replace([np.inf, -np.inf], np.nan,inplace = True)"
   ]
  },
  {
   "cell_type": "code",
   "execution_count": 12,
   "metadata": {},
   "outputs": [],
   "source": [
    "data.fillna(0,inplace = True)"
   ]
  },
  {
   "cell_type": "code",
   "execution_count": 13,
   "metadata": {},
   "outputs": [],
   "source": [
    "label_ground_truth = data[[\"saddr\", \"daddr\",\"label\"]]"
   ]
  },
  {
   "cell_type": "code",
   "execution_count": 14,
   "metadata": {},
   "outputs": [],
   "source": [
    "data.drop(columns=['index'],inplace=True)"
   ]
  },
  {
   "cell_type": "code",
   "execution_count": 15,
   "metadata": {},
   "outputs": [
    {
     "data": {
      "text/html": [
       "<div>\n",
       "<style scoped>\n",
       "    .dataframe tbody tr th:only-of-type {\n",
       "        vertical-align: middle;\n",
       "    }\n",
       "\n",
       "    .dataframe tbody tr th {\n",
       "        vertical-align: top;\n",
       "    }\n",
       "\n",
       "    .dataframe thead th {\n",
       "        text-align: right;\n",
       "    }\n",
       "</style>\n",
       "<table border=\"1\" class=\"dataframe\">\n",
       "  <thead>\n",
       "    <tr style=\"text-align: right;\">\n",
       "      <th></th>\n",
       "      <th>saddr</th>\n",
       "      <th>daddr</th>\n",
       "      <th>pkts</th>\n",
       "      <th>bytes</th>\n",
       "      <th>ltime</th>\n",
       "      <th>dur</th>\n",
       "      <th>mean</th>\n",
       "      <th>stddev</th>\n",
       "      <th>sum</th>\n",
       "      <th>min</th>\n",
       "      <th>...</th>\n",
       "      <th>state_number_7</th>\n",
       "      <th>state_number_8</th>\n",
       "      <th>state_number_9</th>\n",
       "      <th>state_number_10</th>\n",
       "      <th>state_number_11</th>\n",
       "      <th>proto_number_1</th>\n",
       "      <th>proto_number_2</th>\n",
       "      <th>proto_number_3</th>\n",
       "      <th>proto_number_4</th>\n",
       "      <th>proto_number_5</th>\n",
       "    </tr>\n",
       "  </thead>\n",
       "  <tbody>\n",
       "    <tr>\n",
       "      <th>0</th>\n",
       "      <td>172.22.227.134:49960</td>\n",
       "      <td>192.168.100.7:80</td>\n",
       "      <td>8</td>\n",
       "      <td>1980</td>\n",
       "      <td>1.528089e+09</td>\n",
       "      <td>7.056393</td>\n",
       "      <td>0.068909</td>\n",
       "      <td>0.068909</td>\n",
       "      <td>0.137818</td>\n",
       "      <td>0.000000</td>\n",
       "      <td>...</td>\n",
       "      <td>False</td>\n",
       "      <td>False</td>\n",
       "      <td>False</td>\n",
       "      <td>False</td>\n",
       "      <td>False</td>\n",
       "      <td>True</td>\n",
       "      <td>False</td>\n",
       "      <td>False</td>\n",
       "      <td>False</td>\n",
       "      <td>False</td>\n",
       "    </tr>\n",
       "    <tr>\n",
       "      <th>1</th>\n",
       "      <td>172.18.94.88:-1</td>\n",
       "      <td>192.168.100.147:-1</td>\n",
       "      <td>2</td>\n",
       "      <td>120</td>\n",
       "      <td>1.528089e+09</td>\n",
       "      <td>0.000131</td>\n",
       "      <td>0.000131</td>\n",
       "      <td>0.000000</td>\n",
       "      <td>0.000131</td>\n",
       "      <td>0.000131</td>\n",
       "      <td>...</td>\n",
       "      <td>False</td>\n",
       "      <td>False</td>\n",
       "      <td>False</td>\n",
       "      <td>False</td>\n",
       "      <td>False</td>\n",
       "      <td>False</td>\n",
       "      <td>True</td>\n",
       "      <td>False</td>\n",
       "      <td>False</td>\n",
       "      <td>False</td>\n",
       "    </tr>\n",
       "    <tr>\n",
       "      <th>2</th>\n",
       "      <td>172.22.79.227:49962</td>\n",
       "      <td>192.168.100.7:80</td>\n",
       "      <td>8</td>\n",
       "      <td>2126</td>\n",
       "      <td>1.528089e+09</td>\n",
       "      <td>7.047852</td>\n",
       "      <td>0.064494</td>\n",
       "      <td>0.064494</td>\n",
       "      <td>0.128988</td>\n",
       "      <td>0.000000</td>\n",
       "      <td>...</td>\n",
       "      <td>False</td>\n",
       "      <td>False</td>\n",
       "      <td>False</td>\n",
       "      <td>False</td>\n",
       "      <td>False</td>\n",
       "      <td>True</td>\n",
       "      <td>False</td>\n",
       "      <td>False</td>\n",
       "      <td>False</td>\n",
       "      <td>False</td>\n",
       "    </tr>\n",
       "    <tr>\n",
       "      <th>3</th>\n",
       "      <td>172.22.193.151:49964</td>\n",
       "      <td>192.168.100.7:80</td>\n",
       "      <td>8</td>\n",
       "      <td>2024</td>\n",
       "      <td>1.528089e+09</td>\n",
       "      <td>7.047592</td>\n",
       "      <td>0.064189</td>\n",
       "      <td>0.064189</td>\n",
       "      <td>0.128378</td>\n",
       "      <td>0.000000</td>\n",
       "      <td>...</td>\n",
       "      <td>False</td>\n",
       "      <td>False</td>\n",
       "      <td>False</td>\n",
       "      <td>False</td>\n",
       "      <td>False</td>\n",
       "      <td>True</td>\n",
       "      <td>False</td>\n",
       "      <td>False</td>\n",
       "      <td>False</td>\n",
       "      <td>False</td>\n",
       "    </tr>\n",
       "    <tr>\n",
       "      <th>4</th>\n",
       "      <td>172.26.212.64:49966</td>\n",
       "      <td>192.168.100.7:80</td>\n",
       "      <td>8</td>\n",
       "      <td>2319</td>\n",
       "      <td>1.528089e+09</td>\n",
       "      <td>7.046841</td>\n",
       "      <td>0.063887</td>\n",
       "      <td>0.063887</td>\n",
       "      <td>0.127774</td>\n",
       "      <td>0.000000</td>\n",
       "      <td>...</td>\n",
       "      <td>False</td>\n",
       "      <td>False</td>\n",
       "      <td>False</td>\n",
       "      <td>False</td>\n",
       "      <td>False</td>\n",
       "      <td>True</td>\n",
       "      <td>False</td>\n",
       "      <td>False</td>\n",
       "      <td>False</td>\n",
       "      <td>False</td>\n",
       "    </tr>\n",
       "    <tr>\n",
       "      <th>...</th>\n",
       "      <td>...</td>\n",
       "      <td>...</td>\n",
       "      <td>...</td>\n",
       "      <td>...</td>\n",
       "      <td>...</td>\n",
       "      <td>...</td>\n",
       "      <td>...</td>\n",
       "      <td>...</td>\n",
       "      <td>...</td>\n",
       "      <td>...</td>\n",
       "      <td>...</td>\n",
       "      <td>...</td>\n",
       "      <td>...</td>\n",
       "      <td>...</td>\n",
       "      <td>...</td>\n",
       "      <td>...</td>\n",
       "      <td>...</td>\n",
       "      <td>...</td>\n",
       "      <td>...</td>\n",
       "      <td>...</td>\n",
       "      <td>...</td>\n",
       "    </tr>\n",
       "    <tr>\n",
       "      <th>3668517</th>\n",
       "      <td>172.28.243.234:6221</td>\n",
       "      <td>192.168.100.3:80</td>\n",
       "      <td>15</td>\n",
       "      <td>900</td>\n",
       "      <td>1.528099e+09</td>\n",
       "      <td>13.657889</td>\n",
       "      <td>3.910460</td>\n",
       "      <td>1.367802</td>\n",
       "      <td>11.731379</td>\n",
       "      <td>1.976111</td>\n",
       "      <td>...</td>\n",
       "      <td>False</td>\n",
       "      <td>False</td>\n",
       "      <td>False</td>\n",
       "      <td>False</td>\n",
       "      <td>False</td>\n",
       "      <td>False</td>\n",
       "      <td>False</td>\n",
       "      <td>True</td>\n",
       "      <td>False</td>\n",
       "      <td>False</td>\n",
       "    </tr>\n",
       "    <tr>\n",
       "      <th>3668518</th>\n",
       "      <td>172.19.103.17:6222</td>\n",
       "      <td>192.168.100.3:80</td>\n",
       "      <td>15</td>\n",
       "      <td>900</td>\n",
       "      <td>1.528099e+09</td>\n",
       "      <td>13.657889</td>\n",
       "      <td>3.910459</td>\n",
       "      <td>1.367803</td>\n",
       "      <td>11.731378</td>\n",
       "      <td>1.976110</td>\n",
       "      <td>...</td>\n",
       "      <td>False</td>\n",
       "      <td>False</td>\n",
       "      <td>False</td>\n",
       "      <td>False</td>\n",
       "      <td>False</td>\n",
       "      <td>False</td>\n",
       "      <td>False</td>\n",
       "      <td>True</td>\n",
       "      <td>False</td>\n",
       "      <td>False</td>\n",
       "    </tr>\n",
       "    <tr>\n",
       "      <th>3668519</th>\n",
       "      <td>172.20.227.145:6223</td>\n",
       "      <td>192.168.100.3:80</td>\n",
       "      <td>15</td>\n",
       "      <td>900</td>\n",
       "      <td>1.528099e+09</td>\n",
       "      <td>13.657889</td>\n",
       "      <td>3.910460</td>\n",
       "      <td>1.367802</td>\n",
       "      <td>11.731379</td>\n",
       "      <td>1.976111</td>\n",
       "      <td>...</td>\n",
       "      <td>False</td>\n",
       "      <td>False</td>\n",
       "      <td>False</td>\n",
       "      <td>False</td>\n",
       "      <td>False</td>\n",
       "      <td>False</td>\n",
       "      <td>False</td>\n",
       "      <td>True</td>\n",
       "      <td>False</td>\n",
       "      <td>False</td>\n",
       "    </tr>\n",
       "    <tr>\n",
       "      <th>3668520</th>\n",
       "      <td>172.30.159.56:6224</td>\n",
       "      <td>192.168.100.3:80</td>\n",
       "      <td>15</td>\n",
       "      <td>900</td>\n",
       "      <td>1.528099e+09</td>\n",
       "      <td>13.657889</td>\n",
       "      <td>3.910460</td>\n",
       "      <td>1.367802</td>\n",
       "      <td>11.731380</td>\n",
       "      <td>1.976111</td>\n",
       "      <td>...</td>\n",
       "      <td>False</td>\n",
       "      <td>False</td>\n",
       "      <td>False</td>\n",
       "      <td>False</td>\n",
       "      <td>False</td>\n",
       "      <td>False</td>\n",
       "      <td>False</td>\n",
       "      <td>True</td>\n",
       "      <td>False</td>\n",
       "      <td>False</td>\n",
       "    </tr>\n",
       "    <tr>\n",
       "      <th>3668521</th>\n",
       "      <td>172.18.167.79:6225</td>\n",
       "      <td>192.168.100.3:80</td>\n",
       "      <td>15</td>\n",
       "      <td>900</td>\n",
       "      <td>1.528099e+09</td>\n",
       "      <td>13.657889</td>\n",
       "      <td>3.910460</td>\n",
       "      <td>1.367802</td>\n",
       "      <td>11.731379</td>\n",
       "      <td>1.976111</td>\n",
       "      <td>...</td>\n",
       "      <td>False</td>\n",
       "      <td>False</td>\n",
       "      <td>False</td>\n",
       "      <td>False</td>\n",
       "      <td>False</td>\n",
       "      <td>False</td>\n",
       "      <td>False</td>\n",
       "      <td>True</td>\n",
       "      <td>False</td>\n",
       "      <td>False</td>\n",
       "    </tr>\n",
       "  </tbody>\n",
       "</table>\n",
       "<p>3668522 rows × 58 columns</p>\n",
       "</div>"
      ],
      "text/plain": [
       "                        saddr               daddr  pkts  bytes         ltime  \\\n",
       "0        172.22.227.134:49960    192.168.100.7:80     8   1980  1.528089e+09   \n",
       "1             172.18.94.88:-1  192.168.100.147:-1     2    120  1.528089e+09   \n",
       "2         172.22.79.227:49962    192.168.100.7:80     8   2126  1.528089e+09   \n",
       "3        172.22.193.151:49964    192.168.100.7:80     8   2024  1.528089e+09   \n",
       "4         172.26.212.64:49966    192.168.100.7:80     8   2319  1.528089e+09   \n",
       "...                       ...                 ...   ...    ...           ...   \n",
       "3668517   172.28.243.234:6221    192.168.100.3:80    15    900  1.528099e+09   \n",
       "3668518    172.19.103.17:6222    192.168.100.3:80    15    900  1.528099e+09   \n",
       "3668519   172.20.227.145:6223    192.168.100.3:80    15    900  1.528099e+09   \n",
       "3668520    172.30.159.56:6224    192.168.100.3:80    15    900  1.528099e+09   \n",
       "3668521    172.18.167.79:6225    192.168.100.3:80    15    900  1.528099e+09   \n",
       "\n",
       "               dur      mean    stddev        sum       min  ...  \\\n",
       "0         7.056393  0.068909  0.068909   0.137818  0.000000  ...   \n",
       "1         0.000131  0.000131  0.000000   0.000131  0.000131  ...   \n",
       "2         7.047852  0.064494  0.064494   0.128988  0.000000  ...   \n",
       "3         7.047592  0.064189  0.064189   0.128378  0.000000  ...   \n",
       "4         7.046841  0.063887  0.063887   0.127774  0.000000  ...   \n",
       "...            ...       ...       ...        ...       ...  ...   \n",
       "3668517  13.657889  3.910460  1.367802  11.731379  1.976111  ...   \n",
       "3668518  13.657889  3.910459  1.367803  11.731378  1.976110  ...   \n",
       "3668519  13.657889  3.910460  1.367802  11.731379  1.976111  ...   \n",
       "3668520  13.657889  3.910460  1.367802  11.731380  1.976111  ...   \n",
       "3668521  13.657889  3.910460  1.367802  11.731379  1.976111  ...   \n",
       "\n",
       "         state_number_7  state_number_8  state_number_9  state_number_10  \\\n",
       "0                 False           False           False            False   \n",
       "1                 False           False           False            False   \n",
       "2                 False           False           False            False   \n",
       "3                 False           False           False            False   \n",
       "4                 False           False           False            False   \n",
       "...                 ...             ...             ...              ...   \n",
       "3668517           False           False           False            False   \n",
       "3668518           False           False           False            False   \n",
       "3668519           False           False           False            False   \n",
       "3668520           False           False           False            False   \n",
       "3668521           False           False           False            False   \n",
       "\n",
       "         state_number_11  proto_number_1  proto_number_2  proto_number_3  \\\n",
       "0                  False            True           False           False   \n",
       "1                  False           False            True           False   \n",
       "2                  False            True           False           False   \n",
       "3                  False            True           False           False   \n",
       "4                  False            True           False           False   \n",
       "...                  ...             ...             ...             ...   \n",
       "3668517            False           False           False            True   \n",
       "3668518            False           False           False            True   \n",
       "3668519            False           False           False            True   \n",
       "3668520            False           False           False            True   \n",
       "3668521            False           False           False            True   \n",
       "\n",
       "         proto_number_4  proto_number_5  \n",
       "0                 False           False  \n",
       "1                 False           False  \n",
       "2                 False           False  \n",
       "3                 False           False  \n",
       "4                 False           False  \n",
       "...                 ...             ...  \n",
       "3668517           False           False  \n",
       "3668518           False           False  \n",
       "3668519           False           False  \n",
       "3668520           False           False  \n",
       "3668521           False           False  \n",
       "\n",
       "[3668522 rows x 58 columns]"
      ]
     },
     "execution_count": 15,
     "metadata": {},
     "output_type": "execute_result"
    }
   ],
   "source": [
    "data"
   ]
  },
  {
   "cell_type": "code",
   "execution_count": 16,
   "metadata": {},
   "outputs": [],
   "source": [
    "scaler = StandardScaler()\n",
    "cols_to_norm = list(set(list(data.iloc[:, 2:].columns ))  - set(list(['label'])) )\n",
    "data[cols_to_norm] = scaler.fit_transform(data[cols_to_norm])"
   ]
  },
  {
   "cell_type": "code",
   "execution_count": 17,
   "metadata": {},
   "outputs": [],
   "source": [
    "X_train, X_test, y_train, y_test = train_test_split(\n",
    "     data, label_ground_truth, test_size=0.3, random_state=42, stratify=label_ground_truth.label)"
   ]
  },
  {
   "cell_type": "code",
   "execution_count": 18,
   "metadata": {},
   "outputs": [],
   "source": [
    "X_train['h'] = X_train[ cols_to_norm ].values.tolist()"
   ]
  },
  {
   "cell_type": "code",
   "execution_count": 19,
   "metadata": {},
   "outputs": [],
   "source": [
    "#from dgl.data.utils import load_graphs   \n",
    "#G = load_graphs(\"./data.bin\")[0][0]"
   ]
  },
  {
   "cell_type": "code",
   "execution_count": 20,
   "metadata": {},
   "outputs": [],
   "source": [
    "G = nx.from_pandas_edgelist(X_train, \"saddr\", \"daddr\", ['h','label'], create_using= nx.MultiGraph())"
   ]
  },
  {
   "cell_type": "code",
   "execution_count": 21,
   "metadata": {},
   "outputs": [],
   "source": [
    "G = G.to_directed()"
   ]
  },
  {
   "cell_type": "code",
   "execution_count": 22,
   "metadata": {},
   "outputs": [],
   "source": [
    "G = from_networkx(G,edge_attrs=['h','label'])"
   ]
  },
  {
   "cell_type": "code",
   "execution_count": 23,
   "metadata": {},
   "outputs": [],
   "source": [
    "#from dgl.data.utils import save_graphs\n",
    "#save_graphs(\"./data.bin\", [G])\n"
   ]
  },
  {
   "cell_type": "code",
   "execution_count": 24,
   "metadata": {},
   "outputs": [],
   "source": [
    "# Eq1\n",
    "G.ndata['h'] = th.ones(G.num_nodes(), G.edata['h'].shape[1])"
   ]
  },
  {
   "cell_type": "code",
   "execution_count": 25,
   "metadata": {},
   "outputs": [],
   "source": [
    "G.edata['train_mask'] = th.ones(len(G.edata['h']), dtype= th.bool)"
   ]
  },
  {
   "cell_type": "code",
   "execution_count": 26,
   "metadata": {},
   "outputs": [],
   "source": [
    "#G = load_graphs(\"./bot_train_G.bin\") [0][0]"
   ]
  },
  {
   "cell_type": "code",
   "execution_count": 27,
   "metadata": {},
   "outputs": [],
   "source": [
    "G.ndata['h'] = th.reshape(G.ndata['h'], (G.ndata['h'].shape[0], 1, G.ndata['h'].shape[1]))\n",
    "G.edata['h'] = th.reshape(G.edata['h'], (G.edata['h'].shape[0], 1, G.edata['h'].shape[1]))"
   ]
  },
  {
   "cell_type": "code",
   "execution_count": 28,
   "metadata": {},
   "outputs": [],
   "source": [
    "class MLPPredictor(nn.Module):\n",
    "    def __init__(self, in_features, out_classes):\n",
    "        super().__init__()\n",
    "        self.W = nn.Linear(in_features * 2, out_classes)\n",
    "\n",
    "    def apply_edges(self, edges):\n",
    "        h_u = edges.src['h']\n",
    "        h_v = edges.dst['h']\n",
    "        score = self.W(th.cat([h_u, h_v], 1))\n",
    "        return {'score': score}\n",
    "\n",
    "    def forward(self, graph, h):\n",
    "        with graph.local_scope():\n",
    "            graph.ndata['h'] = h\n",
    "            graph.apply_edges(self.apply_edges)\n",
    "            return graph.edata['score']"
   ]
  },
  {
   "cell_type": "code",
   "execution_count": 29,
   "metadata": {},
   "outputs": [
    {
     "data": {
      "text/plain": [
       "torch.Size([2581108, 1, 55])"
      ]
     },
     "execution_count": 29,
     "metadata": {},
     "output_type": "execute_result"
    }
   ],
   "source": [
    "G.ndata['h'].shape"
   ]
  },
  {
   "cell_type": "code",
   "execution_count": 30,
   "metadata": {},
   "outputs": [],
   "source": [
    "def compute_accuracy(pred, labels):\n",
    "    return (pred.argmax(1) == labels).float().mean().item()"
   ]
  },
  {
   "cell_type": "code",
   "execution_count": 31,
   "metadata": {},
   "outputs": [],
   "source": [
    "class SAGELayer(nn.Module):\n",
    "    def __init__(self, ndim_in, edims, ndim_out, activation):\n",
    "        super(SAGELayer, self).__init__()\n",
    "        ### force to outut fix dimensions\n",
    "        self.W_msg = nn.Linear(ndim_in + edims, ndim_out)\n",
    "        ### apply weight\n",
    "        self.W_apply = nn.Linear(ndim_in + ndim_out, ndim_out)\n",
    "        self.activation = activation\n",
    "\n",
    "    def message_func(self, edges):\n",
    "        return {'m': self.W_msg(th.cat([edges.src['h'], edges.data['h']], 2))}\n",
    "\n",
    "    def forward(self, g_dgl, nfeats, efeats):\n",
    "        with g_dgl.local_scope():\n",
    "            g = g_dgl\n",
    "            g.ndata['h'] = nfeats\n",
    "            g.edata['h'] = efeats\n",
    "            # Eq4\n",
    "            g.update_all(self.message_func, fn.mean('m', 'h_neigh'))\n",
    "            # Eq5          \n",
    "            g.ndata['h'] = F.relu(self.W_apply(th.cat([g.ndata['h'], g.ndata['h_neigh']], 2)))\n",
    "            return g.ndata['h']\n",
    "\n",
    "\n",
    "class SAGE(nn.Module):\n",
    "    def __init__(self, ndim_in, ndim_out, edim, activation, dropout):\n",
    "        super(SAGE, self).__init__()\n",
    "        self.layers = nn.ModuleList()\n",
    "        self.layers.append(SAGELayer(ndim_in, edim, 128, activation))\n",
    "        self.layers.append(SAGELayer(128, edim, ndim_out, activation))\n",
    "        self.dropout = nn.Dropout(p=dropout)\n",
    "\n",
    "    def forward(self, g, nfeats, efeats):\n",
    "        for i, layer in enumerate(self.layers):\n",
    "            if i != 0:\n",
    "                nfeats = self.dropout(nfeats)\n",
    "            nfeats = layer(g, nfeats, efeats)\n",
    "        return nfeats.sum(1)"
   ]
  },
  {
   "cell_type": "code",
   "execution_count": 32,
   "metadata": {},
   "outputs": [],
   "source": [
    "class Model(nn.Module):\n",
    "    def __init__(self, ndim_in, ndim_out, edim, activation, dropout):\n",
    "        super().__init__()\n",
    "        self.gnn = SAGE(ndim_in, ndim_out, edim, activation, dropout)\n",
    "        self.pred = MLPPredictor(ndim_out, 2)\n",
    "    def forward(self, g, nfeats, efeats):\n",
    "        h = self.gnn(g, nfeats, efeats)\n",
    "        return self.pred(g, h)"
   ]
  },
  {
   "cell_type": "code",
   "execution_count": 33,
   "metadata": {},
   "outputs": [],
   "source": [
    "# from sklearn.utils import class_weight\n",
    "# class_weights = class_weight.compute_class_weight('balanced',\n",
    "#                                                  np.unique(G.edata['label'].cpu().numpy()),\n",
    "#                                                  G.edata['label'].cpu().numpy())\n",
    "\n",
    "import numpy as np\n",
    "from sklearn.utils import class_weight\n",
    "\n",
    "y = G.edata['label'].cpu().numpy()\n",
    "classes = np.unique(y)\n",
    "\n",
    "class_weights = class_weight.compute_class_weight(\n",
    "    class_weight='balanced',\n",
    "    classes=classes,\n",
    "    y=y\n",
    ")"
   ]
  },
  {
   "cell_type": "code",
   "execution_count": 34,
   "metadata": {},
   "outputs": [],
   "source": [
    "class_weights = th.FloatTensor(class_weights).cuda()\n",
    "criterion = nn.CrossEntropyLoss(weight = class_weights)"
   ]
  },
  {
   "cell_type": "code",
   "execution_count": 35,
   "metadata": {},
   "outputs": [],
   "source": [
    "G = G.to('cuda:0')"
   ]
  },
  {
   "cell_type": "code",
   "execution_count": 36,
   "metadata": {},
   "outputs": [
    {
     "data": {
      "text/plain": [
       "device(type='cpu')"
      ]
     },
     "execution_count": 36,
     "metadata": {},
     "output_type": "execute_result"
    }
   ],
   "source": [
    "G.device"
   ]
  },
  {
   "cell_type": "code",
   "execution_count": 37,
   "metadata": {},
   "outputs": [
    {
     "data": {
      "text/plain": [
       "device(type='cpu')"
      ]
     },
     "execution_count": 37,
     "metadata": {},
     "output_type": "execute_result"
    }
   ],
   "source": [
    "G.ndata['h'].device  "
   ]
  },
  {
   "cell_type": "code",
   "execution_count": 38,
   "metadata": {},
   "outputs": [
    {
     "data": {
      "text/plain": [
       "device(type='cpu')"
      ]
     },
     "execution_count": 38,
     "metadata": {},
     "output_type": "execute_result"
    }
   ],
   "source": [
    "G.edata['h'].device  "
   ]
  },
  {
   "cell_type": "code",
   "execution_count": null,
   "metadata": {},
   "outputs": [],
   "source": []
  },
  {
   "cell_type": "code",
   "execution_count": null,
   "metadata": {},
   "outputs": [],
   "source": [
    "node_features = G.ndata['h']\n",
    "edge_features = G.edata['h']\n",
    "\n",
    "edge_label = G.edata['label']\n",
    "train_mask = G.edata['train_mask']\n",
    "\n",
    "model = Model(G.ndata['h'].shape[2], 128, G.ndata['h'].shape[2], F.relu, 0.2).cuda()\n",
    "\n",
    "opt = th.optim.Adam(model.parameters())\n",
    "\n",
    "for epoch in range(1,700):\n",
    "    pred = model(G, node_features,edge_features).cuda()\n",
    "    loss = criterion(pred[train_mask] ,edge_label[train_mask])\n",
    "    opt.zero_grad()\n",
    "    loss.backward()\n",
    "    opt.step()\n",
    "    if epoch % 100 == 0:\n",
    "        print('Epoch:', epoch ,' Training acc:', compute_accuracy(pred[train_mask], edge_label[train_mask]))"
   ]
  },
  {
   "cell_type": "code",
   "execution_count": null,
   "metadata": {},
   "outputs": [],
   "source": [
    "model.load_state_dict(th.load('model.pt'))\n",
    "model.eval()"
   ]
  },
  {
   "cell_type": "code",
   "execution_count": null,
   "metadata": {},
   "outputs": [],
   "source": [
    "X_test['h'] = X_test[ cols_to_norm ].values.tolist()"
   ]
  },
  {
   "cell_type": "code",
   "execution_count": null,
   "metadata": {},
   "outputs": [],
   "source": [
    "#G_test = load_graphs(\"bot_test_G.bin\") [0][0]\n",
    "G_test = nx.from_pandas_edgelist(X_test, \"saddr\", \"daddr\", ['h','label'],create_using=nx.MultiGraph())\n",
    "G_test = G_test.to_directed()\n",
    "G_test = from_networkx(G_test,edge_attrs=['h','label'] )\n",
    "actual = G_test.edata.pop('label')\n",
    "G_test.ndata['feature'] = th.ones(G_test.num_nodes(), 55)"
   ]
  },
  {
   "cell_type": "code",
   "execution_count": null,
   "metadata": {},
   "outputs": [],
   "source": [
    "G_test.ndata['feature'] = th.reshape(G_test.ndata['feature'], (G_test.ndata['feature'].shape[0], 1, G_test.ndata['feature'].shape[1]))"
   ]
  },
  {
   "cell_type": "code",
   "execution_count": null,
   "metadata": {},
   "outputs": [],
   "source": [
    "G_test.edata['h'] = th.reshape(G_test.edata['h'], (G_test.edata['h'].shape[0], 1, G_test.edata['h'].shape[1]))"
   ]
  },
  {
   "cell_type": "code",
   "execution_count": null,
   "metadata": {},
   "outputs": [],
   "source": [
    "G_test = G_test.to('cuda:0')"
   ]
  },
  {
   "cell_type": "code",
   "execution_count": null,
   "metadata": {},
   "outputs": [],
   "source": [
    "th.cuda.empty_cache()"
   ]
  },
  {
   "cell_type": "code",
   "execution_count": null,
   "metadata": {},
   "outputs": [],
   "source": [
    "import timeit\n",
    "start_time = timeit.default_timer()\n",
    "node_features_test = G_test.ndata['feature']\n",
    "edge_features_test = G_test.edata['h']\n",
    "test_pred = model(G_test, node_features_test, edge_features_test).cuda()\n",
    "elapsed = timeit.default_timer() - start_time"
   ]
  },
  {
   "cell_type": "code",
   "execution_count": null,
   "metadata": {},
   "outputs": [],
   "source": [
    "print(str(elapsed) + ' seconds')"
   ]
  },
  {
   "cell_type": "code",
   "execution_count": null,
   "metadata": {},
   "outputs": [],
   "source": [
    "test_pred = test_pred.argmax(1)"
   ]
  },
  {
   "cell_type": "code",
   "execution_count": null,
   "metadata": {},
   "outputs": [],
   "source": [
    "test_pred = th.Tensor.cpu(test_pred).detach().numpy()"
   ]
  },
  {
   "cell_type": "code",
   "execution_count": null,
   "metadata": {},
   "outputs": [],
   "source": [
    "actual = [\"Normal\" if i == 0 else \"Attack\" for i in actual]\n",
    "test_pred = [\"Normal\" if i == 0 else \"Attack\" for i in test_pred]"
   ]
  },
  {
   "cell_type": "code",
   "execution_count": null,
   "metadata": {},
   "outputs": [],
   "source": [
    "def plot_confusion_matrix(cm,\n",
    "                          target_names,\n",
    "                          title='Confusion matrix',\n",
    "                          cmap=None,\n",
    "                          normalize=True):\n",
    "    \n",
    "    import matplotlib.pyplot as plt\n",
    "    import numpy as np\n",
    "    import itertools\n",
    "\n",
    "    accuracy = np.trace(cm) / float(np.sum(cm))\n",
    "    misclass = 1 - accuracy\n",
    "\n",
    "    if cmap is None:\n",
    "        cmap = plt.get_cmap('Blues')\n",
    "\n",
    "    plt.figure(figsize=(12, 12))\n",
    "    plt.imshow(cm, interpolation='nearest', cmap=cmap)\n",
    "    plt.title(title)\n",
    "    plt.colorbar()\n",
    "\n",
    "    if target_names is not None:\n",
    "        tick_marks = np.arange(len(target_names))\n",
    "        plt.xticks(tick_marks, target_names, rotation=45)\n",
    "        plt.yticks(tick_marks, target_names)\n",
    "\n",
    "    if normalize:\n",
    "        cm = cm.astype('float') / cm.sum(axis=1)[:, np.newaxis]\n",
    "\n",
    "\n",
    "    thresh = cm.max() / 1.5 if normalize else cm.max() / 2\n",
    "    for i, j in itertools.product(range(cm.shape[0]), range(cm.shape[1])):\n",
    "        if normalize:\n",
    "            plt.text(j, i, \"{:0.4f}\".format(cm[i, j]),\n",
    "                     horizontalalignment=\"center\",\n",
    "                     color=\"white\" if cm[i, j] > thresh else \"black\")\n",
    "        else:\n",
    "            plt.text(j, i, \"{:,}\".format(cm[i, j]),\n",
    "                     horizontalalignment=\"center\",\n",
    "                     color=\"white\" if cm[i, j] > thresh else \"black\")\n",
    "\n",
    "\n",
    "    plt.tight_layout()\n",
    "    plt.ylabel('True label')\n",
    "    plt.xlabel('Predicted label\\naccuracy={:0.4f}; misclass={:0.4f}'.format(accuracy, misclass))\n",
    "    plt.show()"
   ]
  },
  {
   "cell_type": "code",
   "execution_count": null,
   "metadata": {},
   "outputs": [],
   "source": [
    "from sklearn.metrics import confusion_matrix\n",
    "\n",
    "plot_confusion_matrix(cm = confusion_matrix(actual, test_pred), \n",
    "                      normalize    = False,\n",
    "                      target_names = np.unique(actual),\n",
    "                      title        = \"Confusion Matrix\")"
   ]
  }
 ],
 "metadata": {
  "kernelspec": {
   "display_name": "Python 3 (ipykernel)",
   "language": "python",
   "name": "python3"
  },
  "language_info": {
   "codemirror_mode": {
    "name": "ipython",
    "version": 3
   },
   "file_extension": ".py",
   "mimetype": "text/x-python",
   "name": "python",
   "nbconvert_exporter": "python",
   "pygments_lexer": "ipython3",
   "version": "3.11.9"
  }
 },
 "nbformat": 4,
 "nbformat_minor": 4
}
